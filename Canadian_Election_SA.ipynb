{
  "nbformat": 4,
  "nbformat_minor": 0,
  "metadata": {
    "colab": {
      "name": "Copy of MIE1624A2.ipynb",
      "provenance": [],
      "machine_shape": "hm"
    },
    "kernelspec": {
      "name": "python3",
      "display_name": "Python 3"
    },
    "accelerator": "TPU"
  },
  "cells": [
    {
      "cell_type": "code",
      "metadata": {
        "id": "HMEn_fVZbTRH",
        "colab_type": "code",
        "colab": {
          "base_uri": "https://localhost:8080/",
          "height": 51
        },
        "outputId": "6baf2110-64d9-4644-9146-00801c7f0536"
      },
      "source": [
        "# All the Imports Here\n",
        "import pandas as pd\n",
        "import numpy as np\n",
        "import nltk\n",
        "nltk.download('stopwords')\n",
        "from nltk.tokenize import TweetTokenizer\n",
        "from nltk.corpus import stopwords\n",
        "from nltk.stem import PorterStemmer\n",
        "from nltk.tokenize import RegexpTokenizer\n",
        "import string\n",
        "import re\n",
        "import matplotlib.pyplot as plt\n",
        "from sklearn.model_selection import train_test_split\n",
        "from sklearn.feature_extraction.text import CountVectorizer\n",
        "from sklearn.feature_extraction.text import TfidfVectorizer\n",
        "from sklearn.linear_model import LogisticRegression\n",
        "from sklearn.neighbors import KNeighborsClassifier\n",
        "from sklearn.naive_bayes import MultinomialNB\n",
        "from sklearn.svm import SVC\n",
        "from sklearn.tree import DecisionTreeClassifier\n",
        "from sklearn.ensemble import RandomForestClassifier\n",
        "from sklearn.model_selection import KFold\n",
        "from sklearn.metrics import accuracy_score\n",
        "from sklearn.model_selection import GridSearchCV\n",
        "try:\n",
        "    from gensim.models import word2vec\n",
        "except:\n",
        "    !pip install gensim\n",
        "    from gensim.models import word2vec"
      ],
      "execution_count": null,
      "outputs": [
        {
          "output_type": "stream",
          "text": [
            "[nltk_data] Downloading package stopwords to /root/nltk_data...\n",
            "[nltk_data]   Package stopwords is already up-to-date!\n"
          ],
          "name": "stdout"
        }
      ]
    },
    {
      "cell_type": "code",
      "metadata": {
        "id": "2c5leas5bvPG",
        "colab_type": "code",
        "colab": {}
      },
      "source": [
        "st = pd.read_csv('Sentiment.csv')\n",
        "ce = pd.read_csv('Canadian_elections_2019.csv')"
      ],
      "execution_count": null,
      "outputs": []
    },
    {
      "cell_type": "code",
      "metadata": {
        "id": "YM_hCsJzb1VW",
        "colab_type": "code",
        "colab": {}
      },
      "source": [
        "#I will choose a subset of 2000 examples only.\n",
        "st = st.iloc[0:2000]"
      ],
      "execution_count": null,
      "outputs": []
    },
    {
      "cell_type": "code",
      "metadata": {
        "id": "310HpPJocFJR",
        "colab_type": "code",
        "colab": {
          "base_uri": "https://localhost:8080/",
          "height": 204
        },
        "outputId": "5912f5ce-8f13-44ea-dd3e-144d495e6926"
      },
      "source": [
        "ce.head()"
      ],
      "execution_count": null,
      "outputs": [
        {
          "output_type": "execute_result",
          "data": {
            "text/html": [
              "<div>\n",
              "<style scoped>\n",
              "    .dataframe tbody tr th:only-of-type {\n",
              "        vertical-align: middle;\n",
              "    }\n",
              "\n",
              "    .dataframe tbody tr th {\n",
              "        vertical-align: top;\n",
              "    }\n",
              "\n",
              "    .dataframe thead th {\n",
              "        text-align: right;\n",
              "    }\n",
              "</style>\n",
              "<table border=\"1\" class=\"dataframe\">\n",
              "  <thead>\n",
              "    <tr style=\"text-align: right;\">\n",
              "      <th></th>\n",
              "      <th>sentiment</th>\n",
              "      <th>negative_reason</th>\n",
              "      <th>text</th>\n",
              "    </tr>\n",
              "  </thead>\n",
              "  <tbody>\n",
              "    <tr>\n",
              "      <th>0</th>\n",
              "      <td>Negative</td>\n",
              "      <td>Women Reproductive right and Racism</td>\n",
              "      <td>b\"@RosieBarton So instead of your suggestion, ...</td>\n",
              "    </tr>\n",
              "    <tr>\n",
              "      <th>1</th>\n",
              "      <td>Positive</td>\n",
              "      <td>NaN</td>\n",
              "      <td>b\"#AllWomanSpacewalk it's real!\\n@Space_Statio...</td>\n",
              "    </tr>\n",
              "    <tr>\n",
              "      <th>2</th>\n",
              "      <td>Negative</td>\n",
              "      <td>Economy</td>\n",
              "      <td>b\"#Brantford It's going to cost YOU $94 BILLIO...</td>\n",
              "    </tr>\n",
              "    <tr>\n",
              "      <th>3</th>\n",
              "      <td>Positive</td>\n",
              "      <td>NaN</td>\n",
              "      <td>b\"#Canada #CanadaElection2019 #CanadaVotes \\n#...</td>\n",
              "    </tr>\n",
              "    <tr>\n",
              "      <th>4</th>\n",
              "      <td>Negative</td>\n",
              "      <td>Economy</td>\n",
              "      <td>b\"#Canada #taxpayers are sick &amp;amp; tired of h...</td>\n",
              "    </tr>\n",
              "  </tbody>\n",
              "</table>\n",
              "</div>"
            ],
            "text/plain": [
              "  sentiment  ...                                               text\n",
              "0  Negative  ...  b\"@RosieBarton So instead of your suggestion, ...\n",
              "1  Positive  ...  b\"#AllWomanSpacewalk it's real!\\n@Space_Statio...\n",
              "2  Negative  ...  b\"#Brantford It's going to cost YOU $94 BILLIO...\n",
              "3  Positive  ...  b\"#Canada #CanadaElection2019 #CanadaVotes \\n#...\n",
              "4  Negative  ...  b\"#Canada #taxpayers are sick &amp; tired of h...\n",
              "\n",
              "[5 rows x 3 columns]"
            ]
          },
          "metadata": {
            "tags": []
          },
          "execution_count": 69
        }
      ]
    },
    {
      "cell_type": "markdown",
      "metadata": {
        "id": "IPJQ7yOQcKP1",
        "colab_type": "text"
      },
      "source": [
        "# 1.0 Data Cleaning"
      ]
    },
    {
      "cell_type": "markdown",
      "metadata": {
        "id": "0C1Xnt_kC7Aj",
        "colab_type": "text"
      },
      "source": [
        "### 1.1 Remove the URL\n",
        "There are some cells include URL, we need to remove them all since they will impact our analysis when we count the term frequency. We need to do this at the very beginning because after applying tokenizer, the URL will be broken into pieces and hard to distinguish. "
      ]
    },
    {
      "cell_type": "code",
      "metadata": {
        "id": "eQor6hndEfUR",
        "colab_type": "code",
        "colab": {}
      },
      "source": [
        "def URLless (text):\n",
        "  for i in range (len(text)):\n",
        "    if i%10000 == 0:\n",
        "      print('processed: ' +str(i))\n",
        "    if type(text[i])==str:\n",
        "      text[i] = re.sub(r'http\\S+', '',text[i])"
      ],
      "execution_count": null,
      "outputs": []
    },
    {
      "cell_type": "code",
      "metadata": {
        "id": "YpcIsVJqDu9e",
        "colab_type": "code",
        "colab": {
          "base_uri": "https://localhost:8080/",
          "height": 34
        },
        "outputId": "3852704f-b548-4484-d4a0-14b3d3aa1720"
      },
      "source": [
        "URLless(st.text)"
      ],
      "execution_count": null,
      "outputs": [
        {
          "output_type": "stream",
          "text": [
            "processed: 0\n"
          ],
          "name": "stdout"
        }
      ]
    },
    {
      "cell_type": "code",
      "metadata": {
        "id": "g73SQpFDEFrg",
        "colab_type": "code",
        "colab": {
          "base_uri": "https://localhost:8080/",
          "height": 34
        },
        "outputId": "a90f3488-d7bf-4dc6-ea95-22fa2b401979"
      },
      "source": [
        "URLless(ce.text)"
      ],
      "execution_count": null,
      "outputs": [
        {
          "output_type": "stream",
          "text": [
            "processed: 0\n"
          ],
          "name": "stdout"
        }
      ]
    },
    {
      "cell_type": "markdown",
      "metadata": {
        "id": "qhS8OUi5zzz9",
        "colab_type": "text"
      },
      "source": [
        "### 1.2 Tokenize the Text\n",
        "First of all, we need to tokenize the text contents. Namely, break each string into a list of substrings. In this case we will use RegexpTokenizer from nltk package, because it removes all the punctuations for us. "
      ]
    },
    {
      "cell_type": "code",
      "metadata": {
        "id": "t9gNfPHnvO9N",
        "colab_type": "code",
        "colab": {}
      },
      "source": [
        "# The function used to tokenize the texts for each file\n",
        "def tok (text):\n",
        "  tokenizer = RegexpTokenizer('\\w+')\n",
        "  for i in range (len(text)):\n",
        "    if i%10000 == 0: # Check the progress\n",
        "      print('processed: ' +str(i))\n",
        "    if type(text[i])==str: # If some cells are empty, we left them as that. Only process non empty cells\n",
        "      text[i] = tokenizer.tokenize(text[i])"
      ],
      "execution_count": null,
      "outputs": []
    },
    {
      "cell_type": "code",
      "metadata": {
        "id": "BNghLyOu0myq",
        "colab_type": "code",
        "colab": {
          "base_uri": "https://localhost:8080/",
          "height": 34
        },
        "outputId": "1a4b8163-980b-46f3-eae1-103081652c33"
      },
      "source": [
        "tok(st.text)"
      ],
      "execution_count": null,
      "outputs": [
        {
          "output_type": "stream",
          "text": [
            "processed: 0\n"
          ],
          "name": "stdout"
        }
      ]
    },
    {
      "cell_type": "code",
      "metadata": {
        "id": "0qRo4Yxj4g3t",
        "colab_type": "code",
        "colab": {
          "base_uri": "https://localhost:8080/",
          "height": 34
        },
        "outputId": "9fc94b08-a122-47c8-8742-154c53703bda"
      },
      "source": [
        "tok(ce.text)"
      ],
      "execution_count": null,
      "outputs": [
        {
          "output_type": "stream",
          "text": [
            "processed: 0\n"
          ],
          "name": "stdout"
        }
      ]
    },
    {
      "cell_type": "code",
      "metadata": {
        "id": "AwC0NaGh4rB3",
        "colab_type": "code",
        "colab": {
          "base_uri": "https://localhost:8080/",
          "height": 204
        },
        "outputId": "69865ba7-c40e-4115-b756-2b7200e78753"
      },
      "source": [
        "st.head() #Check tokenization "
      ],
      "execution_count": null,
      "outputs": [
        {
          "output_type": "execute_result",
          "data": {
            "text/html": [
              "<div>\n",
              "<style scoped>\n",
              "    .dataframe tbody tr th:only-of-type {\n",
              "        vertical-align: middle;\n",
              "    }\n",
              "\n",
              "    .dataframe tbody tr th {\n",
              "        vertical-align: top;\n",
              "    }\n",
              "\n",
              "    .dataframe thead th {\n",
              "        text-align: right;\n",
              "    }\n",
              "</style>\n",
              "<table border=\"1\" class=\"dataframe\">\n",
              "  <thead>\n",
              "    <tr style=\"text-align: right;\">\n",
              "      <th></th>\n",
              "      <th>sentiment</th>\n",
              "      <th>text</th>\n",
              "    </tr>\n",
              "  </thead>\n",
              "  <tbody>\n",
              "    <tr>\n",
              "      <th>0</th>\n",
              "      <td>Positive</td>\n",
              "      <td>[RT, Diplomtc_Immnty, realDonaldTrump, They, t...</td>\n",
              "    </tr>\n",
              "    <tr>\n",
              "      <th>1</th>\n",
              "      <td>Negative</td>\n",
              "      <td>[chiefy74, Damn, i, m, jealous, i, wanna, watc...</td>\n",
              "    </tr>\n",
              "    <tr>\n",
              "      <th>2</th>\n",
              "      <td>Positive</td>\n",
              "      <td>[I, m, listening, The, Beatles, now, They, re,...</td>\n",
              "    </tr>\n",
              "    <tr>\n",
              "      <th>3</th>\n",
              "      <td>Positive</td>\n",
              "      <td>[ddlovato, could, i, please, get, a, shout, ou...</td>\n",
              "    </tr>\n",
              "    <tr>\n",
              "      <th>4</th>\n",
              "      <td>Positive</td>\n",
              "      <td>[salspizza, just, spotted, ur, message, there,...</td>\n",
              "    </tr>\n",
              "  </tbody>\n",
              "</table>\n",
              "</div>"
            ],
            "text/plain": [
              "  sentiment                                               text\n",
              "0  Positive  [RT, Diplomtc_Immnty, realDonaldTrump, They, t...\n",
              "1  Negative  [chiefy74, Damn, i, m, jealous, i, wanna, watc...\n",
              "2  Positive  [I, m, listening, The, Beatles, now, They, re,...\n",
              "3  Positive  [ddlovato, could, i, please, get, a, shout, ou...\n",
              "4  Positive  [salspizza, just, spotted, ur, message, there,..."
            ]
          },
          "metadata": {
            "tags": []
          },
          "execution_count": 76
        }
      ]
    },
    {
      "cell_type": "code",
      "metadata": {
        "id": "I353DRDF4tNV",
        "colab_type": "code",
        "colab": {
          "base_uri": "https://localhost:8080/",
          "height": 204
        },
        "outputId": "0d7d1511-f5e4-4bf9-b601-ee25827408d1"
      },
      "source": [
        "ce.head()"
      ],
      "execution_count": null,
      "outputs": [
        {
          "output_type": "execute_result",
          "data": {
            "text/html": [
              "<div>\n",
              "<style scoped>\n",
              "    .dataframe tbody tr th:only-of-type {\n",
              "        vertical-align: middle;\n",
              "    }\n",
              "\n",
              "    .dataframe tbody tr th {\n",
              "        vertical-align: top;\n",
              "    }\n",
              "\n",
              "    .dataframe thead th {\n",
              "        text-align: right;\n",
              "    }\n",
              "</style>\n",
              "<table border=\"1\" class=\"dataframe\">\n",
              "  <thead>\n",
              "    <tr style=\"text-align: right;\">\n",
              "      <th></th>\n",
              "      <th>sentiment</th>\n",
              "      <th>negative_reason</th>\n",
              "      <th>text</th>\n",
              "    </tr>\n",
              "  </thead>\n",
              "  <tbody>\n",
              "    <tr>\n",
              "      <th>0</th>\n",
              "      <td>Negative</td>\n",
              "      <td>Women Reproductive right and Racism</td>\n",
              "      <td>[b, RosieBarton, So, instead, of, your, sugges...</td>\n",
              "    </tr>\n",
              "    <tr>\n",
              "      <th>1</th>\n",
              "      <td>Positive</td>\n",
              "      <td>NaN</td>\n",
              "      <td>[b, AllWomanSpacewalk, it, s, real, n, Space_S...</td>\n",
              "    </tr>\n",
              "    <tr>\n",
              "      <th>2</th>\n",
              "      <td>Negative</td>\n",
              "      <td>Economy</td>\n",
              "      <td>[b, Brantford, It, s, going, to, cost, YOU, 94...</td>\n",
              "    </tr>\n",
              "    <tr>\n",
              "      <th>3</th>\n",
              "      <td>Positive</td>\n",
              "      <td>NaN</td>\n",
              "      <td>[b, Canada, CanadaElection2019, CanadaVotes, n...</td>\n",
              "    </tr>\n",
              "    <tr>\n",
              "      <th>4</th>\n",
              "      <td>Negative</td>\n",
              "      <td>Economy</td>\n",
              "      <td>[b, Canada, taxpayers, are, sick, amp, tired, ...</td>\n",
              "    </tr>\n",
              "  </tbody>\n",
              "</table>\n",
              "</div>"
            ],
            "text/plain": [
              "  sentiment  ...                                               text\n",
              "0  Negative  ...  [b, RosieBarton, So, instead, of, your, sugges...\n",
              "1  Positive  ...  [b, AllWomanSpacewalk, it, s, real, n, Space_S...\n",
              "2  Negative  ...  [b, Brantford, It, s, going, to, cost, YOU, 94...\n",
              "3  Positive  ...  [b, Canada, CanadaElection2019, CanadaVotes, n...\n",
              "4  Negative  ...  [b, Canada, taxpayers, are, sick, amp, tired, ...\n",
              "\n",
              "[5 rows x 3 columns]"
            ]
          },
          "metadata": {
            "tags": []
          },
          "execution_count": 77
        }
      ]
    },
    {
      "cell_type": "markdown",
      "metadata": {
        "id": "ugFyfwsV4yrU",
        "colab_type": "text"
      },
      "source": [
        "### 1.3 Lowercase all the Strings\n",
        "Next, we need to make everything in lowercase so that they are comparable. I.e. \"So\" and \"so\" should be same terms. If we don't do lowercase, they will be considered different terms. "
      ]
    },
    {
      "cell_type": "code",
      "metadata": {
        "id": "5iH04nOn5TcW",
        "colab_type": "code",
        "colab": {}
      },
      "source": [
        "def lower (text):\n",
        "  for i in range (len(text)):\n",
        "    # if i%10000 == 0: # Check the progress\n",
        "    #   print('processed: ' +str(i))\n",
        "    if type(text[i])==list: # Do only non empty cells\n",
        "      text[i] = [token.lower() for token in text[i]]"
      ],
      "execution_count": null,
      "outputs": []
    },
    {
      "cell_type": "code",
      "metadata": {
        "id": "Exbh26Xz5qpr",
        "colab_type": "code",
        "colab": {}
      },
      "source": [
        "lower(st.text)"
      ],
      "execution_count": null,
      "outputs": []
    },
    {
      "cell_type": "code",
      "metadata": {
        "id": "3jmIOlqn6GnC",
        "colab_type": "code",
        "colab": {}
      },
      "source": [
        "lower(ce.text)"
      ],
      "execution_count": null,
      "outputs": []
    },
    {
      "cell_type": "code",
      "metadata": {
        "id": "1sTapdxB6P2b",
        "colab_type": "code",
        "colab": {
          "base_uri": "https://localhost:8080/",
          "height": 204
        },
        "outputId": "3793c56d-bf63-4185-bfec-566127150a8b"
      },
      "source": [
        "st.head() # Check lowercase"
      ],
      "execution_count": null,
      "outputs": [
        {
          "output_type": "execute_result",
          "data": {
            "text/html": [
              "<div>\n",
              "<style scoped>\n",
              "    .dataframe tbody tr th:only-of-type {\n",
              "        vertical-align: middle;\n",
              "    }\n",
              "\n",
              "    .dataframe tbody tr th {\n",
              "        vertical-align: top;\n",
              "    }\n",
              "\n",
              "    .dataframe thead th {\n",
              "        text-align: right;\n",
              "    }\n",
              "</style>\n",
              "<table border=\"1\" class=\"dataframe\">\n",
              "  <thead>\n",
              "    <tr style=\"text-align: right;\">\n",
              "      <th></th>\n",
              "      <th>sentiment</th>\n",
              "      <th>text</th>\n",
              "    </tr>\n",
              "  </thead>\n",
              "  <tbody>\n",
              "    <tr>\n",
              "      <th>0</th>\n",
              "      <td>Positive</td>\n",
              "      <td>[rt, diplomtc_immnty, realdonaldtrump, they, t...</td>\n",
              "    </tr>\n",
              "    <tr>\n",
              "      <th>1</th>\n",
              "      <td>Negative</td>\n",
              "      <td>[chiefy74, damn, i, m, jealous, i, wanna, watc...</td>\n",
              "    </tr>\n",
              "    <tr>\n",
              "      <th>2</th>\n",
              "      <td>Positive</td>\n",
              "      <td>[i, m, listening, the, beatles, now, they, re,...</td>\n",
              "    </tr>\n",
              "    <tr>\n",
              "      <th>3</th>\n",
              "      <td>Positive</td>\n",
              "      <td>[ddlovato, could, i, please, get, a, shout, ou...</td>\n",
              "    </tr>\n",
              "    <tr>\n",
              "      <th>4</th>\n",
              "      <td>Positive</td>\n",
              "      <td>[salspizza, just, spotted, ur, message, there,...</td>\n",
              "    </tr>\n",
              "  </tbody>\n",
              "</table>\n",
              "</div>"
            ],
            "text/plain": [
              "  sentiment                                               text\n",
              "0  Positive  [rt, diplomtc_immnty, realdonaldtrump, they, t...\n",
              "1  Negative  [chiefy74, damn, i, m, jealous, i, wanna, watc...\n",
              "2  Positive  [i, m, listening, the, beatles, now, they, re,...\n",
              "3  Positive  [ddlovato, could, i, please, get, a, shout, ou...\n",
              "4  Positive  [salspizza, just, spotted, ur, message, there,..."
            ]
          },
          "metadata": {
            "tags": []
          },
          "execution_count": 81
        }
      ]
    },
    {
      "cell_type": "code",
      "metadata": {
        "id": "V-O3eDR_690i",
        "colab_type": "code",
        "colab": {
          "base_uri": "https://localhost:8080/",
          "height": 204
        },
        "outputId": "1e863beb-179a-44b9-a09a-4abf50397289"
      },
      "source": [
        "ce.head()"
      ],
      "execution_count": null,
      "outputs": [
        {
          "output_type": "execute_result",
          "data": {
            "text/html": [
              "<div>\n",
              "<style scoped>\n",
              "    .dataframe tbody tr th:only-of-type {\n",
              "        vertical-align: middle;\n",
              "    }\n",
              "\n",
              "    .dataframe tbody tr th {\n",
              "        vertical-align: top;\n",
              "    }\n",
              "\n",
              "    .dataframe thead th {\n",
              "        text-align: right;\n",
              "    }\n",
              "</style>\n",
              "<table border=\"1\" class=\"dataframe\">\n",
              "  <thead>\n",
              "    <tr style=\"text-align: right;\">\n",
              "      <th></th>\n",
              "      <th>sentiment</th>\n",
              "      <th>negative_reason</th>\n",
              "      <th>text</th>\n",
              "    </tr>\n",
              "  </thead>\n",
              "  <tbody>\n",
              "    <tr>\n",
              "      <th>0</th>\n",
              "      <td>Negative</td>\n",
              "      <td>Women Reproductive right and Racism</td>\n",
              "      <td>[b, rosiebarton, so, instead, of, your, sugges...</td>\n",
              "    </tr>\n",
              "    <tr>\n",
              "      <th>1</th>\n",
              "      <td>Positive</td>\n",
              "      <td>NaN</td>\n",
              "      <td>[b, allwomanspacewalk, it, s, real, n, space_s...</td>\n",
              "    </tr>\n",
              "    <tr>\n",
              "      <th>2</th>\n",
              "      <td>Negative</td>\n",
              "      <td>Economy</td>\n",
              "      <td>[b, brantford, it, s, going, to, cost, you, 94...</td>\n",
              "    </tr>\n",
              "    <tr>\n",
              "      <th>3</th>\n",
              "      <td>Positive</td>\n",
              "      <td>NaN</td>\n",
              "      <td>[b, canada, canadaelection2019, canadavotes, n...</td>\n",
              "    </tr>\n",
              "    <tr>\n",
              "      <th>4</th>\n",
              "      <td>Negative</td>\n",
              "      <td>Economy</td>\n",
              "      <td>[b, canada, taxpayers, are, sick, amp, tired, ...</td>\n",
              "    </tr>\n",
              "  </tbody>\n",
              "</table>\n",
              "</div>"
            ],
            "text/plain": [
              "  sentiment  ...                                               text\n",
              "0  Negative  ...  [b, rosiebarton, so, instead, of, your, sugges...\n",
              "1  Positive  ...  [b, allwomanspacewalk, it, s, real, n, space_s...\n",
              "2  Negative  ...  [b, brantford, it, s, going, to, cost, you, 94...\n",
              "3  Positive  ...  [b, canada, canadaelection2019, canadavotes, n...\n",
              "4  Negative  ...  [b, canada, taxpayers, are, sick, amp, tired, ...\n",
              "\n",
              "[5 rows x 3 columns]"
            ]
          },
          "metadata": {
            "tags": []
          },
          "execution_count": 82
        }
      ]
    },
    {
      "cell_type": "markdown",
      "metadata": {
        "id": "e4gSLHOI7DBd",
        "colab_type": "text"
      },
      "source": [
        "### 1.4 Remove the Stop Words\n",
        "Now we need to remove all the stop words such as \"all\", \"is\", \"the\" and etc. These words are not informative for analysis. The nltk package provides us a list of stop words. We remove all the words within that list. Also, we observe there are some singl-letter string within the list such as \"b\" or \"n\". We also want to remove them.  "
      ]
    },
    {
      "cell_type": "code",
      "metadata": {
        "id": "mR-b6Xg77pPy",
        "colab_type": "code",
        "colab": {}
      },
      "source": [
        "def stop (text):\n",
        "  stop_words = set(stopwords.words('english')) \n",
        "  alphabet_string = string.ascii_lowercase\n",
        "  alphabet_list = list(alphabet_string)\n",
        "  for i in range (len(text)):\n",
        "    # if i%10000 == 0: # Check the progress\n",
        "    #   print('processed: ' +str(i))\n",
        "    if type(text[i])==list:\n",
        "      text[i] = [w for w in text[i] if not (w in stop_words)|(w in alphabet_list)]"
      ],
      "execution_count": null,
      "outputs": []
    },
    {
      "cell_type": "code",
      "metadata": {
        "id": "-ssnaUFT8B1b",
        "colab_type": "code",
        "colab": {}
      },
      "source": [
        "stop(st.text)"
      ],
      "execution_count": null,
      "outputs": []
    },
    {
      "cell_type": "code",
      "metadata": {
        "id": "wtHVSihT8jp8",
        "colab_type": "code",
        "colab": {}
      },
      "source": [
        "stop(ce.text)"
      ],
      "execution_count": null,
      "outputs": []
    },
    {
      "cell_type": "code",
      "metadata": {
        "id": "3Z93HhZ38l44",
        "colab_type": "code",
        "colab": {
          "base_uri": "https://localhost:8080/",
          "height": 204
        },
        "outputId": "d982e80a-34ec-439c-86c6-030ff9198a0f"
      },
      "source": [
        "st.head() #Check stop words removing"
      ],
      "execution_count": null,
      "outputs": [
        {
          "output_type": "execute_result",
          "data": {
            "text/html": [
              "<div>\n",
              "<style scoped>\n",
              "    .dataframe tbody tr th:only-of-type {\n",
              "        vertical-align: middle;\n",
              "    }\n",
              "\n",
              "    .dataframe tbody tr th {\n",
              "        vertical-align: top;\n",
              "    }\n",
              "\n",
              "    .dataframe thead th {\n",
              "        text-align: right;\n",
              "    }\n",
              "</style>\n",
              "<table border=\"1\" class=\"dataframe\">\n",
              "  <thead>\n",
              "    <tr style=\"text-align: right;\">\n",
              "      <th></th>\n",
              "      <th>sentiment</th>\n",
              "      <th>text</th>\n",
              "    </tr>\n",
              "  </thead>\n",
              "  <tbody>\n",
              "    <tr>\n",
              "      <th>0</th>\n",
              "      <td>Positive</td>\n",
              "      <td>[rt, diplomtc_immnty, realdonaldtrump, tried, ...</td>\n",
              "    </tr>\n",
              "    <tr>\n",
              "      <th>1</th>\n",
              "      <td>Negative</td>\n",
              "      <td>[chiefy74, damn, jealous, wanna, watch, fight,...</td>\n",
              "    </tr>\n",
              "    <tr>\n",
              "      <th>2</th>\n",
              "      <td>Positive</td>\n",
              "      <td>[listening, beatles, great]</td>\n",
              "    </tr>\n",
              "    <tr>\n",
              "      <th>3</th>\n",
              "      <td>Positive</td>\n",
              "      <td>[ddlovato, could, please, get, shout, anything...</td>\n",
              "    </tr>\n",
              "    <tr>\n",
              "      <th>4</th>\n",
              "      <td>Positive</td>\n",
              "      <td>[salspizza, spotted, ur, message, tony, replied]</td>\n",
              "    </tr>\n",
              "  </tbody>\n",
              "</table>\n",
              "</div>"
            ],
            "text/plain": [
              "  sentiment                                               text\n",
              "0  Positive  [rt, diplomtc_immnty, realdonaldtrump, tried, ...\n",
              "1  Negative  [chiefy74, damn, jealous, wanna, watch, fight,...\n",
              "2  Positive                        [listening, beatles, great]\n",
              "3  Positive  [ddlovato, could, please, get, shout, anything...\n",
              "4  Positive   [salspizza, spotted, ur, message, tony, replied]"
            ]
          },
          "metadata": {
            "tags": []
          },
          "execution_count": 86
        }
      ]
    },
    {
      "cell_type": "code",
      "metadata": {
        "id": "E0Ik5C1t8tfr",
        "colab_type": "code",
        "colab": {
          "base_uri": "https://localhost:8080/",
          "height": 204
        },
        "outputId": "1485d178-578b-4e41-fde7-1ffe08b267f7"
      },
      "source": [
        "ce.head()"
      ],
      "execution_count": null,
      "outputs": [
        {
          "output_type": "execute_result",
          "data": {
            "text/html": [
              "<div>\n",
              "<style scoped>\n",
              "    .dataframe tbody tr th:only-of-type {\n",
              "        vertical-align: middle;\n",
              "    }\n",
              "\n",
              "    .dataframe tbody tr th {\n",
              "        vertical-align: top;\n",
              "    }\n",
              "\n",
              "    .dataframe thead th {\n",
              "        text-align: right;\n",
              "    }\n",
              "</style>\n",
              "<table border=\"1\" class=\"dataframe\">\n",
              "  <thead>\n",
              "    <tr style=\"text-align: right;\">\n",
              "      <th></th>\n",
              "      <th>sentiment</th>\n",
              "      <th>negative_reason</th>\n",
              "      <th>text</th>\n",
              "    </tr>\n",
              "  </thead>\n",
              "  <tbody>\n",
              "    <tr>\n",
              "      <th>0</th>\n",
              "      <td>Negative</td>\n",
              "      <td>Women Reproductive right and Racism</td>\n",
              "      <td>[rosiebarton, instead, suggestion, agree, cana...</td>\n",
              "    </tr>\n",
              "    <tr>\n",
              "      <th>1</th>\n",
              "      <td>Positive</td>\n",
              "      <td>NaN</td>\n",
              "      <td>[allwomanspacewalk, real, space_station, etobi...</td>\n",
              "    </tr>\n",
              "    <tr>\n",
              "      <th>2</th>\n",
              "      <td>Negative</td>\n",
              "      <td>Economy</td>\n",
              "      <td>[brantford, going, cost, 94, billion, next, 4,...</td>\n",
              "    </tr>\n",
              "    <tr>\n",
              "      <th>3</th>\n",
              "      <td>Positive</td>\n",
              "      <td>NaN</td>\n",
              "      <td>[canada, canadaelection2019, canadavotes, elxn...</td>\n",
              "    </tr>\n",
              "    <tr>\n",
              "      <th>4</th>\n",
              "      <td>Negative</td>\n",
              "      <td>Economy</td>\n",
              "      <td>[canada, taxpayers, sick, amp, tired, hard, ea...</td>\n",
              "    </tr>\n",
              "  </tbody>\n",
              "</table>\n",
              "</div>"
            ],
            "text/plain": [
              "  sentiment  ...                                               text\n",
              "0  Negative  ...  [rosiebarton, instead, suggestion, agree, cana...\n",
              "1  Positive  ...  [allwomanspacewalk, real, space_station, etobi...\n",
              "2  Negative  ...  [brantford, going, cost, 94, billion, next, 4,...\n",
              "3  Positive  ...  [canada, canadaelection2019, canadavotes, elxn...\n",
              "4  Negative  ...  [canada, taxpayers, sick, amp, tired, hard, ea...\n",
              "\n",
              "[5 rows x 3 columns]"
            ]
          },
          "metadata": {
            "tags": []
          },
          "execution_count": 87
        }
      ]
    },
    {
      "cell_type": "markdown",
      "metadata": {
        "id": "S3w5Tee4-X_b",
        "colab_type": "text"
      },
      "source": [
        "### 1.5 Stem the words\n",
        "Lastly we need to stem the words. For example, \"going\" and \"go\" should be considered same terms. We will use Porter Stemmer to make the terms in standard form. Although some words look wired after stemming, their identical words will still be identical to them because everything is getting stemmed. However, we will not stem the words before applying machine learning algorithm because words will become wierd after stemming and not able to conduct exploratory analysis. "
      ]
    },
    {
      "cell_type": "code",
      "metadata": {
        "id": "kT_158HK-o1H",
        "colab_type": "code",
        "colab": {}
      },
      "source": [
        "def stem (text):\n",
        "   ps = PorterStemmer()\n",
        "   for i in range (len(text)):\n",
        "    #  if i%10000 == 0:\n",
        "    #    print('processed: ' +str(i))\n",
        "     if type(text[i])==list:\n",
        "       text[i] = [ps.stem(token) for token in text[i]]"
      ],
      "execution_count": null,
      "outputs": []
    },
    {
      "cell_type": "markdown",
      "metadata": {
        "colab_type": "text",
        "id": "vmOJekX9wUOC"
      },
      "source": [
        "# 2.0 Exploratory Analysis"
      ]
    },
    {
      "cell_type": "markdown",
      "metadata": {
        "id": "F45HaONdWiqL",
        "colab_type": "text"
      },
      "source": [
        "### 2.1 Gather Key words for Identifying Political Parties\n",
        "To determine the political party of a given tweete, the intuitive way is to look for the key words which can be linked to a particular party. For example, Trudeau - Liberal Party. "
      ]
    },
    {
      "cell_type": "code",
      "metadata": {
        "id": "C-pXEKTBRRIm",
        "colab_type": "code",
        "colab": {}
      },
      "source": [
        "Liberal_list = ['trudeau','liberal','freeland','chretien','change','lpc']\n",
        "NDP_list = ['singh','ndp','orange','mulcair','quebec','blanchet','francois']\n",
        "Conser_list = ['scheer','conserv','cpc','poilievre','harper','blue']"
      ],
      "execution_count": null,
      "outputs": []
    },
    {
      "cell_type": "code",
      "metadata": {
        "id": "aTuYU_A-cttP",
        "colab_type": "code",
        "colab": {}
      },
      "source": [
        "party = []\n",
        "for i in range (len(ce.text)):\n",
        "  L = 0\n",
        "  N = 0\n",
        "  C = 0\n",
        "# Count the key words in each tweets\n",
        "  for word in ce.text[i]:\n",
        "    for term in Liberal_list:\n",
        "      if term in word:\n",
        "        L += 1\n",
        "    for term in NDP_list:\n",
        "      if term in word:\n",
        "        N += 1\n",
        "    for term in Conser_list:\n",
        "      if term in word:\n",
        "        C += 1\n",
        "# Compare the number of key words, if equal we classify it as none\n",
        "  if L>N and L>C:\n",
        "    party.append('Liberal')\n",
        "  elif N>L and N>C:\n",
        "    party.append('NDP')\n",
        "  elif C>L and C>N:\n",
        "    party.append('Conservative')\n",
        "  else:\n",
        "    party.append('none')"
      ],
      "execution_count": null,
      "outputs": []
    },
    {
      "cell_type": "code",
      "metadata": {
        "id": "_4495XayfZij",
        "colab_type": "code",
        "colab": {
          "base_uri": "https://localhost:8080/",
          "height": 34
        },
        "outputId": "ff4aedef-dc57-4a5a-ef40-f7de4971ca51"
      },
      "source": [
        "# Number of None\n",
        "party.count('none')"
      ],
      "execution_count": null,
      "outputs": [
        {
          "output_type": "execute_result",
          "data": {
            "text/plain": [
              "1038"
            ]
          },
          "metadata": {
            "tags": []
          },
          "execution_count": 91
        }
      ]
    },
    {
      "cell_type": "code",
      "metadata": {
        "id": "eD3sqYa-gk2n",
        "colab_type": "code",
        "colab": {
          "base_uri": "https://localhost:8080/",
          "height": 34
        },
        "outputId": "48d88fa0-0821-4799-b1d4-7a23143b58b9"
      },
      "source": [
        "# Number of Liberal Party\n",
        "party.count('Liberal')"
      ],
      "execution_count": null,
      "outputs": [
        {
          "output_type": "execute_result",
          "data": {
            "text/plain": [
              "375"
            ]
          },
          "metadata": {
            "tags": []
          },
          "execution_count": 92
        }
      ]
    },
    {
      "cell_type": "code",
      "metadata": {
        "id": "cMoko65ggm_U",
        "colab_type": "code",
        "colab": {
          "base_uri": "https://localhost:8080/",
          "height": 34
        },
        "outputId": "0971e9fd-b75c-45d5-f0dc-a9ebc3a02bce"
      },
      "source": [
        "# Number of NDP\n",
        "party.count('NDP')"
      ],
      "execution_count": null,
      "outputs": [
        {
          "output_type": "execute_result",
          "data": {
            "text/plain": [
              "185"
            ]
          },
          "metadata": {
            "tags": []
          },
          "execution_count": 93
        }
      ]
    },
    {
      "cell_type": "code",
      "metadata": {
        "id": "U94zuPGZgpT6",
        "colab_type": "code",
        "colab": {
          "base_uri": "https://localhost:8080/",
          "height": 34
        },
        "outputId": "eb23be40-840a-467e-aa29-27f7adffa67c"
      },
      "source": [
        "# Number of Conservative\n",
        "party.count('Conservative')"
      ],
      "execution_count": null,
      "outputs": [
        {
          "output_type": "execute_result",
          "data": {
            "text/plain": [
              "535"
            ]
          },
          "metadata": {
            "tags": []
          },
          "execution_count": 94
        }
      ]
    },
    {
      "cell_type": "code",
      "metadata": {
        "id": "04sGZbeaxBoO",
        "colab_type": "code",
        "colab": {
          "base_uri": "https://localhost:8080/",
          "height": 34
        },
        "outputId": "e7502d03-4543-466d-f1b6-3c61d6362f72"
      },
      "source": [
        "# Total Number of Tweets\n",
        "len(party)"
      ],
      "execution_count": null,
      "outputs": [
        {
          "output_type": "execute_result",
          "data": {
            "text/plain": [
              "2133"
            ]
          },
          "metadata": {
            "tags": []
          },
          "execution_count": 95
        }
      ]
    },
    {
      "cell_type": "markdown",
      "metadata": {
        "id": "CYPVyRKGYDlL",
        "colab_type": "text"
      },
      "source": [
        "###  Results\n",
        "Nearly half of the people don't have a clear stand on political affiliation. For those who have, most people are talking about Conservative Party and least people are talking about NDP. This makes sense because NDP is a minor party in Canada. However, we don't know if they are talking good things or bad things about the party and we are going to investigate this later. "
      ]
    },
    {
      "cell_type": "markdown",
      "metadata": {
        "id": "6IaJ6-q-xVvZ",
        "colab_type": "text"
      },
      "source": [
        "### 2.2 Visualize Some Aspects of Sentiment"
      ]
    },
    {
      "cell_type": "code",
      "metadata": {
        "id": "n4hXU1XLxhq2",
        "colab_type": "code",
        "colab": {}
      },
      "source": [
        "pos = list(st.sentiment).count('Positive')\n",
        "neg = list(st.sentiment).count('Negative')"
      ],
      "execution_count": null,
      "outputs": []
    },
    {
      "cell_type": "code",
      "metadata": {
        "id": "ojiSh5asyH_V",
        "colab_type": "code",
        "colab": {
          "base_uri": "https://localhost:8080/",
          "height": 34
        },
        "outputId": "78b52b50-0d32-4f59-9dd9-c1878808b593"
      },
      "source": [
        "# Number of Positive\n",
        "pos"
      ],
      "execution_count": null,
      "outputs": [
        {
          "output_type": "execute_result",
          "data": {
            "text/plain": [
              "871"
            ]
          },
          "metadata": {
            "tags": []
          },
          "execution_count": 97
        }
      ]
    },
    {
      "cell_type": "code",
      "metadata": {
        "id": "Q5IRPETByz5Z",
        "colab_type": "code",
        "colab": {
          "base_uri": "https://localhost:8080/",
          "height": 34
        },
        "outputId": "5d462456-6dea-418d-a6bf-940dc72db88f"
      },
      "source": [
        "# Number of Negative\n",
        "neg"
      ],
      "execution_count": null,
      "outputs": [
        {
          "output_type": "execute_result",
          "data": {
            "text/plain": [
              "1082"
            ]
          },
          "metadata": {
            "tags": []
          },
          "execution_count": 98
        }
      ]
    },
    {
      "cell_type": "code",
      "metadata": {
        "id": "2l3vgINJy0ox",
        "colab_type": "code",
        "colab": {}
      },
      "source": [
        "# The function used to get the length of each tweets (after cleaning)\n",
        "def length (list_):\n",
        "  len_ = []\n",
        "  for i in range (len(list_)):\n",
        "    if type(list_[i]) == list:\n",
        "      len_.append(len(list_[i]))\n",
        "  return len_"
      ],
      "execution_count": null,
      "outputs": []
    },
    {
      "cell_type": "code",
      "metadata": {
        "id": "G9LMMECj1_LO",
        "colab_type": "code",
        "colab": {}
      },
      "source": [
        "# Count the length for positive and negative tweets for sentiment and Canadian elections respectively\n",
        "pos_len_st = length(list(st.loc[st.sentiment=='Positive'].text))\n",
        "neg_len_st = length(list(st.loc[st.sentiment=='Negative'].text))\n",
        "pos_len_ce = length(list(ce.loc[ce.sentiment=='Positive'].text))\n",
        "neg_len_ce = length(list(ce.loc[ce.sentiment=='Negative'].text))"
      ],
      "execution_count": null,
      "outputs": []
    },
    {
      "cell_type": "code",
      "metadata": {
        "id": "RJGfnJKi1Fik",
        "colab_type": "code",
        "colab": {
          "base_uri": "https://localhost:8080/",
          "height": 1000
        },
        "outputId": "e5be5cb3-0aaf-460a-f917-1a95d0752b1d"
      },
      "source": [
        "fig, ax = plt.subplots(nrows=2, ncols=2,figsize=(15,15),sharex='row',sharey='row')\n",
        "fig.suptitle('Sentiment', fontsize=16)\n",
        "ax[0, 0].hist(pos_len_st)\n",
        "ax[0, 0].set(xlabel='Tweets Length (After Cleaning)',ylabel='Counts',title='Histogram of Positive Tweets Length')\n",
        "ax[0, 1].hist(neg_len_st)\n",
        "ax[0, 1].set(xlabel='Tweets Length (After Cleaning)',ylabel='Counts',title='Histogram of Negative Tweets Length')\n",
        "ax[1, 0].boxplot(pos_len_st)\n",
        "ax[1, 0].set(xlabel='Positive',ylabel='Tweets Length (After Cleaning)',title='Boxplot of Positive Tweets Length')\n",
        "ax[1, 1].boxplot(neg_len_st)\n",
        "ax[1, 1].set(xlabel='Negative',ylabel='Tweets Length (After Cleaning)',title='Boxplot of Negative Tweets Length')"
      ],
      "execution_count": null,
      "outputs": [
        {
          "output_type": "execute_result",
          "data": {
            "text/plain": [
              "[Text(0, 0.5, 'Tweets Length (After Cleaning)'),\n",
              " Text(0.5, 0, 'Negative'),\n",
              " Text(0.5, 1.0, 'Boxplot of Negative Tweets Length')]"
            ]
          },
          "metadata": {
            "tags": []
          },
          "execution_count": 101
        },
        {
          "output_type": "display_data",
          "data": {
            "image/png": "[encoded data removed]",
            "text/plain": [
              "<Figure size 1080x1080 with 4 Axes>"
            ]
          },
          "metadata": {
            "tags": []
          }
        }
      ]
    },
    {
      "cell_type": "code",
      "metadata": {
        "id": "d9uWqSZA35Kt",
        "colab_type": "code",
        "colab": {
          "base_uri": "https://localhost:8080/",
          "height": 1000
        },
        "outputId": "dfdbc680-895e-4cd5-cf0a-ae989f249570"
      },
      "source": [
        "fig, ax = plt.subplots(nrows=2, ncols=2,figsize=(15,15),sharex='row',sharey='row')\n",
        "fig.suptitle('Canada Election', fontsize=16)\n",
        "ax[0, 0].hist(pos_len_ce)\n",
        "ax[0, 0].set(xlabel='Tweets Length (After Cleaning)',ylabel='Counts',title='Histogram of Positive Tweets Length')\n",
        "ax[0, 1].hist(neg_len_ce)\n",
        "ax[0, 1].set(xlabel='Tweets Length (After Cleaning)',ylabel='Counts',title='Histogram of Negative Tweets Length')\n",
        "ax[1, 0].boxplot(pos_len_ce)\n",
        "ax[1, 0].set(xlabel='Positive',ylabel='Tweets Length (After Cleaning)',title='Boxplot of Positive Tweets Length')\n",
        "ax[1, 1].boxplot(neg_len_ce)\n",
        "ax[1, 1].set(xlabel='Negative',ylabel='Tweets Length (After Cleaning)',title='Boxplot of Negative Tweets Length')"
      ],
      "execution_count": null,
      "outputs": [
        {
          "output_type": "execute_result",
          "data": {
            "text/plain": [
              "[Text(0, 0.5, 'Tweets Length (After Cleaning)'),\n",
              " Text(0.5, 0, 'Negative'),\n",
              " Text(0.5, 1.0, 'Boxplot of Negative Tweets Length')]"
            ]
          },
          "metadata": {
            "tags": []
          },
          "execution_count": 102
        },
        {
          "output_type": "display_data",
          "data": {
            "image/png": "[encoded data removed]",
            "text/plain": [
              "<Figure size 1080x1080 with 4 Axes>"
            ]
          },
          "metadata": {
            "tags": []
          }
        }
      ]
    },
    {
      "cell_type": "markdown",
      "metadata": {
        "id": "U2vNaDZtXSs-",
        "colab_type": "text"
      },
      "source": [
        "### 2.3 Comment on the Result\n",
        "From the above figure, we can observe that negative tweets are slightly longer than positive tweets (after text cleaning). This indicates when people are complaining, they need more words. "
      ]
    },
    {
      "cell_type": "markdown",
      "metadata": {
        "id": "ePznjSEk68A2",
        "colab_type": "text"
      },
      "source": [
        "# 3.0 Model Preperation"
      ]
    },
    {
      "cell_type": "code",
      "metadata": {
        "id": "84TTc56N3yYg",
        "colab_type": "code",
        "colab": {}
      },
      "source": [
        "# First, stem the texts\n",
        "stem(st.text)"
      ],
      "execution_count": null,
      "outputs": []
    },
    {
      "cell_type": "code",
      "metadata": {
        "id": "sv29xNvTGUqB",
        "colab_type": "code",
        "colab": {}
      },
      "source": [
        "st_text = list(st.text)"
      ],
      "execution_count": null,
      "outputs": []
    },
    {
      "cell_type": "code",
      "metadata": {
        "id": "ATmy0u3FHTX2",
        "colab_type": "code",
        "colab": {}
      },
      "source": [
        "# Convert the lists in to string for vectorization\n",
        "for i in range (len(st_text)):\n",
        "  if type(st_text[i]) == list:\n",
        "    st_text[i] = ' '.join(st_text[i])"
      ],
      "execution_count": null,
      "outputs": []
    },
    {
      "cell_type": "code",
      "metadata": {
        "id": "PDeqTjw0rt5P",
        "colab_type": "code",
        "colab": {}
      },
      "source": [
        "# Check if there's empty entries\n",
        "for i in range (len(st_text)):\n",
        "  if st_text[i] == '':\n",
        "    print('empty')"
      ],
      "execution_count": null,
      "outputs": []
    },
    {
      "cell_type": "code",
      "metadata": {
        "id": "-dhzoBBTDIWF",
        "colab_type": "code",
        "colab": {
          "base_uri": "https://localhost:8080/",
          "height": 173
        },
        "outputId": "eb6413ff-1d9d-427c-dd64-a92f65ec44a8"
      },
      "source": [
        "# Vectorize the text in terms of word frequency\n",
        "vectorizer = CountVectorizer()\n",
        "array_WF = vectorizer.fit_transform(st_text).toarray()\n",
        "#print(vectorizer.vocabulary_)\n",
        "print(vectorizer.get_feature_names())\n",
        "print(array_WF)"
      ],
      "execution_count": null,
      "outputs": [
        {
          "output_type": "stream",
          "text": [
            "['000', '03', '07', '08', '09', '10', '100', '103', '109', '10hr', '11', '11pm', '12', '14', '140', '14k', '15', '151', '16', '17', '18', '18k', '19', '1955', '1984', '1a', '1st', '20', '200', '20036', '2008', '2009', '2011', '2016', '21', '212', '21st', '22', '24', '25', '256kbp', '26', '27', '2am', '2day', '2do', '2moz', '2nd', '2nite', '30', '30am', '31', '33', '34', '39', '3am', '3g', '3pm', '3rd', '3wk', '40', '400', '40k', '40min', '41', '420', '430am', '4861', '490', '4am', '4billlewi', '4n', '4pm', '4skinmus', '4th', '514', '5am', '5th', '60', '60ish', '6am', '6hour', '6hr', '6pm', '70', '7am', '7mood', '7sick', '80', '800', '89c4', '8km', '90', '900', '9401', '9th', '_darling_nikki', '_ena_', '_niki_stardust_', 'a200', 'aaa', 'aaaand', 'aaaargh', 'aarrrggghhh', 'abandon', 'abc', 'aberdeen', 'abl', 'abort', 'abscess', 'absolut', 'absolutli', 'absorb', 'abt', 'acc', 'acc_shan', 'accchhh', 'accept', 'accesorri', 'access', 'account', 'acct', 'accur', 'ace', 'ach', 'achi', 'achiev', 'ack', 'aclaysup', 'across', 'act', 'action', 'activ', 'actual', 'ad', 'adamstrong', 'adbert', 'add', 'addict', 'adhd', 'adieu', 'ading', 'adistakim', 'administr', 'admit', 'adob', 'adolesc', 'adoooor', 'adopt', 'adoreamor', 'adult', 'advantag', 'advertis', 'advic', 'advil', 'advis', 'aerial', 'aerosmith', 'afford', 'afraid', 'afternoon', 'afterparti', 'afti', 'age', 'agent', 'agf', 'aggress', 'ago', 'agre', 'ah', 'aha', 'ahaa', 'ahah', 'ahaha', 'ahead', 'ahh', 'ahhh', 'ahhhh', 'ahhhhh', 'ahold', 'aim', 'aimeeward', 'aint', 'air', 'aircon', 'airport', 'aj_michalka', 'aka_varia', 'akardel', 'akiki03', 'al', 'ala', 'alancarr', 'alanpdx', 'alansheppard', 'alarm', 'album', 'alekandsteph', 'alert', 'alex', 'alexalltimelow', 'alexandraheus', 'alexisbp', 'algebra', 'alien', 'alijohnno', 'aliseeeeb', 'alitherunn', 'aliv', 'allanahdavi', 'allergi', 'allisonfisch', 'alllll', 'allot', 'allow', 'almost', 'alon', 'along', 'alongsidewild', 'alot', 'alpha', 'alreadi', 'alreadyyyy', 'alright', 'also', 'altern', 'alway', 'alwaystrynafight', 'alyrmichalka', 'amaz', 'amazin', 'amazing', 'amberelli', 'ambit', 'ambush', 'amen', 'amend', 'america', 'american', 'ameym21', 'amish', 'amodernmoth', 'amongst', 'amount', 'amp', 'analysi', 'andrew', 'andrewdisley', 'andria', 'andriavega', 'andycorney', 'anew', 'ang', 'angel', 'angelsmg321', 'angri', 'angst', 'anim', 'aniversari', 'anjj', 'annaaa19', 'annakabana', 'annettestatu', 'anni', 'annoy', 'anoth', 'answer', 'anthonybaxt', 'antidot', 'antiqu', 'antzpantz', 'anxiou', 'any1', 'anybodi', 'anymor', 'anyon', 'anyth', 'anyway', 'anywho', 'anz_rock', 'apart', 'ape', 'api', 'apolog', 'app', 'appar', 'appeal', 'appear', 'appl', 'appleinvestor', 'appli', 'applic', 'appoint', 'appreci', 'apprent', 'april', 'aprilblanch', 'aprilfmay', 'aprilknob', 'archuphil', 'ardenkaywin', 'area', 'arent', 'areyoume', 'argentina', 'argh', 'arghhhhhhhh', 'ari', 'ariellejuanito', 'arkham', 'arm', 'around', 'aroww333', 'arriv', 'arrow', 'ars', 'arsen', 'arsenalsarah', 'art', 'arthritiswalk', 'arthur', 'articl', 'articul', 'artist', 'arvo', 'asbo_t', 'asda', 'ashishrandhawa', 'ashleyxtellez', 'ashwin', 'ashy_109', 'asian', 'ask', 'askem', 'asleep', 'asot', 'asot400', 'asp', 'ass', 'assess', 'asshol', 'assign', 'assing', 'assist', 'assort', 'assur', 'asylum', 'ate', 'atl', 'atlanta', 'atleast', 'atomiclola', 'attach', 'attack', 'attempt', 'attent', 'atypicalart', 'au', 'aubreyoday', 'audaciousaudrey', 'audaciousgloop', 'audienc', 'audioinfect', 'audrey', 'aureliom', 'australia', 'authent', 'autist', 'automat', 'autumn', 'avail', 'avast', 'avatar', 'aveng', 'avoid', 'aw', 'awak', 'awar', 'awardsdaili', 'away', 'awe', 'awepra_com', 'awesom', 'awesome4lif', 'awh', 'awhil', 'awkward', 'awsom', 'aww', 'awww', 'awwwww', 'awwwwww', 'ayekayge', 'aze', 'azur', 'b4', 'babe', 'babi', 'babyjew', 'babysitt', 'babyy', 'back', 'backord', 'backyard', 'bad', 'badli', 'bag', 'bagel', 'bah', 'bahaha', 'bailey', 'bakersdog', 'balanc', 'balconi', 'ball', 'ballerina', 'ballsack', 'balmont', 'bamboozl', 'ban', 'banana', 'band', 'bangalor', 'bank', 'banner', 'banquet', 'banshe', 'bar', 'barbarn', 'barbecu', 'bare', 'barkingmonkey', 'barnicl', 'barron', 'bartschaneman', 'base', 'basebal', 'basic', 'bass', 'bassssssssssssssssssss', 'bat', 'bath', 'bathroom', 'batman', 'baton', 'batsask', 'batteri', 'battl', 'battlestar', 'batxcor', 'bawldguy', 'bawsten', 'baybeee', 'bb', 'bbc', 'bbi', 'bbillybilltweet', 'bbq', 'bc', 'bday', 'be', 'beach', 'beadiejay', 'bearfanron', 'beast', 'beastli', 'beat', 'beaten', 'beatl', 'beauti', 'beaver', 'becam', 'becom', 'bed', 'bedbug', 'bedddd', 'bee', 'beefi', 'beer', 'begin', 'begun', 'behav', 'behe', 'behind', 'bein', 'belgium', 'believ', 'bell', 'bella', 'bellafob', 'belli', 'ben', 'bencarson2016', 'bench', 'bend', 'bender', 'bengillam', 'benni', 'benshapiro', 'bentley', 'beogradoholik', 'berni', 'berniesand', 'besid', 'best', 'bestest', 'besti', 'bestial', 'bet', 'betsyweb', 'better', 'bettyfckinwhit', 'beyond', 'bff', 'bg', 'bgswanson', 'bhabb', 'bia', 'biasedgirl', 'biatch', 'bibl', 'big', 'bigger', 'biggest', 'bike', 'bikini', 'bikki', 'bill', 'billbeckett', 'bio', 'biog', 'biotch', 'bipartisan', 'bird', 'birthday', 'biscuit', 'biskup', 'bit', 'bit1', 'bitch', 'bite', 'bitter', 'biz', 'bizzar', 'bkgirlfriday', 'bkoka', 'black', 'blackberri', 'blackbird', 'blackeagl', 'blah', 'blahhhh', 'blame', 'blank', 'blast', 'blauwmp', 'bless', 'blind', 'blip', 'blister', 'blockag', 'blog', 'blogpost', 'blogtv', 'blond', 'blood', 'bloodi', 'blow', 'blowjob', 'blue', 'blueberri', 'bnrdebat', 'board', 'boast', 'boat', 'bob', 'boba', 'bobby_j_g', 'bodi', 'bodrum', 'bodysculptorokc', 'bogo', 'bomwollen', 'bon', 'bone', 'bonel', 'bonza', 'bonzablu', 'boo', 'boohoo', 'book', 'bookstor', 'boom', 'booo', 'booooo', 'boot', 'border', 'bore', 'boreddddd', 'borrow', 'boss', 'boston', 'bot', 'bother', 'bought', 'bounc', 'bound', 'bourgeoisalien', 'bout', 'boutta', 'bowl', 'box', 'boxer', 'boy', 'boyfriend', 'boyl', 'bradiewebbstack', 'bradmantv', 'bradradk', 'brain', 'brainstorm', 'bran1181', 'brand', 'brandon', 'brass', 'braxton', 'brazil', 'brb', 'bread', 'break', 'breakfast', 'breath', 'brendonuriesay', 'brenton', 'bretbaier', 'brewerkz', 'breyeschow', 'brian', 'brianangelday26', 'briannaxcnxcn', 'brianwilson38', 'briardesert', 'brick', 'bride', 'bridg', 'brief', 'briesca', 'bright', 'brillianc', 'brilliant', 'brilliantli', 'bring', 'brit', 'britain', 'brithum', 'britney', 'britthosey', 'brittney', 'bro', 'broadcast', 'broke', 'broken', 'brother', 'brought', 'brown', 'browni', 'broy', 'bsbaegirl', 'bsharp', 'bsilva', 'btw', 'btween', 'bu', 'bubbl', 'buck', 'buddi', 'budget', 'budweiserb', 'bug', 'bugger', 'build', 'bull', 'bum', 'bumper', 'bun', 'bunch', 'bundl', 'bunk', 'bunni', 'burger', 'burhop', 'buri', 'burn', 'burnt', 'burrito', 'bush', 'busi', 'businessmanâ', 'bustl', 'butt', 'butter', 'button', 'butudonthear', 'buuh1', 'buy', 'buzz', 'bye', 'byrn', 'bâ', 'cab', 'cabl', 'cabrissi', 'cadburi', 'cafe', 'cage', 'cahlan', 'caitlin', 'caitlinoconnor', 'cake', 'cal', 'calendar', 'calf', 'california', 'call', 'calm', 'calori', 'cam', 'camden', 'came', 'camera', 'camp', 'campin', 'campu', 'canada', 'canadian', 'canal', 'cancel', 'candi', 'candid', 'candyaddict', 'canel', 'canigetanaâ', 'caninez', 'cannot', 'cant', 'canuck', 'cap', 'cape', 'capitalv', 'captur', 'car', 'cara', 'caramelhoney', 'carcass', 'card', 'care', 'career', 'carlastephani', 'carli', 'carlyfiorina', 'carmengoblu', 'carolcacophoni', 'carpet', 'carrent', 'carson', 'cartbozman', 'carton', 'cartoonish', 'case', 'casey', 'cashback', 'cassiefx', 'cassieventura', 'cat', 'cat_1012000', 'catch', 'catherineld', 'caught', 'caus', 'cb', 'cbc', 'cbroom', 'cc', 'cd', 'cecycorrea', 'celebr', 'cell', 'cellphon', 'celtic', 'center', 'central', 'ceo_ingdirect', 'cephas38', 'ceremoni', 'certainli', 'challeng', 'chameleon', 'champagn', 'chan', 'chanc', 'chang', 'chap', 'chapter', 'char', 'charg', 'charles_gaba', 'charli', 'charliecond', 'charliepuppi', 'charliesaxton', 'charlott', 'charlotte_doyl', 'charmaineyoest', 'charmingrogu', 'chase', 'chat', 'cheaper', 'cheatxxdeath', 'check', 'cheek', 'cheeki', 'cheer', 'chees', 'chef', 'chefvanda', 'chelyabinsk', 'chemistri', 'cherri', 'cherrybear', 'cherubnkotb', 'chest', 'chester', 'cheth', 'chick', 'chicken', 'chiefy74', 'child', 'children', 'childsi', 'chili', 'chill', 'chillen', 'chilli', 'chillin', 'chimp', 'chin', 'china', 'chines', 'chocol', 'choic', 'chopper', 'chose', 'chri', 'chris_bc', 'chrisclaytondtn', 'chrisdjmoyl', 'christ', 'christi', 'christian', 'christianbrotherhood', 'christinacrayon', 'christineirml', 'christinetonkin', 'christy8_77', 'christydh', 'chriâ', 'chrysanthemum', 'chubb', 'chuck', 'chuckabl', 'chuoti', 'church', 'churn', 'cincydefend', 'cinderella_27', 'cinema', 'circa', 'citi', 'civil', 'cj', 'ck', 'ckimbro927', 'claim', 'claire_cordon', 'clairehearti', 'clasp', 'class', 'classic', 'classnam', 'clay', 'clean', 'cleanpowerplan', 'clear', 'clearli', 'clemen', 'cleveland', 'click', 'client', 'cliff', 'climat', 'climb', 'clinton', 'clip', 'close', 'closer', 'cloth', 'cloud', 'clover', 'clown', 'clowncardumpsterfir', 'club', 'clue', 'clueless', 'cmon', 'cnn', 'cnt', 'co', 'coach', 'coachella', 'cocktail', 'code', 'coffe', 'coil', 'coin', 'coke', 'cold', 'coldpizzaparti', 'coldwat', 'cole', 'coll', 'colleagu', 'collect', 'collector', 'colleg', 'color', 'colossu', 'com', 'combo', 'come', 'comedyqueen', 'comfort', 'comment', 'commerci', 'common', 'commun', 'commut', 'comp', 'compani', 'compar', 'compens', 'competit', 'complain', 'complaint', 'complet', 'completament', 'complex', 'complit', 'comput', 'concern', 'concert', 'concord', 'conduct', 'confer', 'confess', 'confrmd', 'confus', 'congest', 'congrat', 'congratul', 'congress', 'connect', 'consecut', 'conserv', 'construct', 'contact', 'contemporari', 'content', 'contest', 'continent', 'contracept', 'contract', 'contrast', 'conveni', 'convent', 'convers', 'convey', 'convict', 'cook', 'cooki', 'cookin', 'cool', 'coolest', 'cop', 'cope', 'corner', 'corolla', 'coronadorealtor', 'corpor', 'corrado_19', 'correct', 'correctli', 'corret', 'corrupt', 'cosmetosaur', 'cot', 'couch', 'could', 'coulda', 'couldnt', 'council', 'count', 'countri', 'countrysid', 'coupl', 'coupon', 'cours', 'courtneylegit', 'courtstothemax', 'cover', 'coverag', 'cowboy', 'cozi', 'cpf', 'craft', 'crafti', 'craic', 'cramp', 'cranial', 'cranki', 'crap', 'crapper', 'crappi', 'crash', 'crave', 'crawfish', 'crazi', 'crazier', 'cre8tivkj', 'creak', 'cream', 'creat', 'creativ', 'creatur', 'creek', 'creepi', 'creme', 'crenshawwwwwwwwww', 'crew', 'cri', 'crimpomat', 'crispi', 'critic', 'croatia', 'cross', 'crotch', 'crowd', 'cruis', 'crush', 'cruz', 'cs', 'cubandol', 'cubbi', 'cucumb', 'cud', 'cuddl', 'cullen', 'cult', 'cup', 'cupboard', 'cure', 'curri', 'curs', 'curtiswalk', 'custom', 'cut', 'cute', 'cutest', 'cuuuut', 'cuz', 'cuzzzz', 'cv', 'cya', 'cyberfux', 'd0lliee', 'd_trix', 'da', 'dad', 'daddi', 'dah', 'daili', 'daily_pinch', 'daisi', 'dakota', 'dale', 'dalla', 'dammit', 'damn', 'damnit', 'danasdirt', 'danc', 'danecook', 'daniel', 'danni', 'dannywood', 'danthedaddi', 'dare', 'darent', 'dark', 'darn', 'darrenrosario', 'databas', 'date', 'daughter', 'dave', 'daveanddaveshow', 'davem05', 'david', 'davidbattersbi', 'dawn', 'dawnrichard', 'day', 'daycamp', 'daylight', 'daym', 'dbongino', 'ddlovato', 'ddtdc', 'dea', 'dead', 'deadlin', 'deal', 'dean', 'dear', 'death', 'debat', 'debatewithberni', 'debdoyl', 'dec', 'decent', 'decid', 'decis', 'deck', 'decor', 'dedic', 'deelishdish', 'deep', 'def', 'defeat', 'defend', 'defens', 'defin', 'definit', 'deflateg', 'deftonesfreek', 'defund', 'degre', 'dehydr', 'deiber', 'deiss', 'delay', 'delet', 'delhi', 'deli', 'delic', 'delici', 'delight', 'deliv', 'deliveri', 'dell', 'demand', 'demi', 'democrat', 'demon', 'dendragon', 'denicesi', 'denmark', 'dental', 'dentist', 'depart', 'depend', 'depress', 'deray', 'dero', 'deron', 'describ', 'describehowitlook', 'deserv', 'design', 'designmama', 'desk', 'desktop', 'develop', 'devic', 'devign', 'devil', 'dh', 'dhoni', 'diamond', 'diana', 'dianarusso', 'dickless', 'didnt', 'die', 'diego', 'diet', 'differ', 'difficult', 'dilapid', 'dilat', 'dilemma', 'dim', 'dineeden', 'dinner', 'dinnertim', 'diplomtc_immnti', 'direct', 'directli', 'director', 'dirti', 'disagr', 'disagre', 'disappoint', 'disappointingli', 'disconnect', 'discov', 'discuss', 'dish', 'dishonest', 'dislik', 'disney', 'disorgan', 'display', 'disrupt', 'dissert', 'distant', 'distract', 'ditucci', 'diysara', 'djackmanson', 'djdrizzl', 'djleonsmith', 'djokov', 'dm', 'dman', 'dmitriy_ush', 'dne', 'dneg987', 'dnf', 'dnt', 'do', 'doc', 'doctor', 'doctorfollowil', 'dodd', 'dodger', 'dodgerblueopj', 'doesnt', 'dog', 'doin', 'dolapder', 'dollar', 'domain', 'domest', 'domin', 'donald', 'donaldtrump', 'done', 'donnel', 'donni', 'donniewahlberg', 'dont', 'doo', 'doom', 'doooo', 'door', 'dope', 'dork', 'doss', 'doubl', 'doubledipchip', 'doubt', 'dougbenson', 'dough', 'dougiemcfli', 'dougii', 'dougla', 'douglasbass', 'dougstanhop', 'downfal', 'download', 'downloadfestiv', 'downstair', 'doxycyclin', 'dozen', 'dq', 'dr', 'draft', 'drama', 'draw', 'drbencarson', 'drdogbert', 'dream', 'dreana', 'dress', 'drewnat', 'dri', 'drii', 'drink', 'drinkin', 'drip', 'drive', 'driver', 'drivinggg', 'drobo', 'drobopro', 'droopi', 'drop', 'drowninginkid', 'drrnlvngstn', 'drtabor', 'drudge_report', 'drug', 'drum', 'drunk', 'drunkdemocraci', 'drunkjcrew', 'drunkjcrewuguy', 'drunnkk', 'duck', 'duckydynamo', 'dud', 'dude', 'due', 'dug', 'duh', 'duke', 'dumb', 'dump', 'dunno', 'dunoxbliss', 'dunzo', 'dupont', 'dvd', 'dye', 'dyingg', 'dyke', 'dylansong', 'e90', 'eachoth', 'eager', 'eagl', 'ear', 'earli', 'earlier', 'earn', 'earphon', 'earth', 'easi', 'easier', 'easili', 'eastend', 'easter', 'eat', 'eaten', 'eattt', 'eb_the_celeb', 'ebay', 'ebuddi', 'ecto__1', 'ed', 'eden', 'edit', 'edom', 'educ', 'edward', 'edx', 'eeri', 'eetwiz', 'effect', 'egg', 'eh', 'ehh', 'ehhh', 'eight', 'ein', 'einsteinboi', 'either', 'ejg2', 'elanaroth', 'eldiablito_72', 'elect', 'election2016', 'electrik', 'electron', 'eleg', 'elev', 'elhubcapo', 'elianarod', 'elizabeth', 'ellen', 'elois', 'els', 'em', 'email', 'embassadi', 'eme', 'emili', 'emma', 'emoltzen', 'emporium', 'empti', 'en', 'end', 'energi', 'enforc', 'engin', 'england', 'english', 'enjoy', 'enlazado', 'enough', 'enrich', 'enslav', 'enter', 'enterpris', 'entertain', 'entir', 'envi', 'enviou', 'environ', 'ep', 'epa', 'epic', 'episod', 'equival', 'er', 'eric', 'ericlovato', 'erinpepp', 'errand', 'error', 'es', 'escal', 'esmeeex', 'especi', 'esquimalt', 'essex', 'establish', 'estar79', 'estonia', 'esxi', 'etc', 'etern', 'eterna1dream', 'eugen', 'eugenekan', 'europ', 'evah', 'eve', 'even', 'ever', 'everest', 'everi', 'everybodi', 'everyon', 'everyth', 'evid', 'evil', 'evilscientist', 'eviscer', 'ewwww', 'exactli', 'exam', 'excel', 'except', 'exchang', 'excit', 'exclam', 'exclus', 'excus', 'exercis', 'exhaust', 'exist', 'exmi', 'expect', 'expedit', 'expens', 'experi', 'expir', 'explain', 'explor', 'expos', 'express', 'extend', 'extens', 'extra', 'extrem', 'eye', 'eyebrow', 'eyedrop', 'f1', 'fab', 'fabul', 'face', 'facebook', 'faceboook', 'facial', 'fact', 'factor', 'fade', 'faeristar', 'fail', 'failur', 'fair', 'fairi', 'fairli', 'faith', 'faithfulchosen', 'fajah', 'fake', 'fakegerrybutl', 'fakerpattypattz', 'fall', 'fallenstar_', 'fam', 'famili', 'familiar', 'fan', 'fanta', 'far', 'faraday', 'farc', 'farmer', 'farmerfr', 'fashion', 'fashionesedaili', 'fast', 'fat', 'father', 'fav', 'fave', 'favel', 'favor', 'favorit', 'favour', 'fax', 'fb', 'fc', 'fear', 'fearnecotton', 'fearsom', 'featur', 'fed', 'feed', 'feedback', 'feeenz', 'feel', 'feelin', 'feelthebern', 'feen', 'feet', 'fell', 'fella', 'fellow', 'felt', 'femal', 'feral', 'fergie_spud', 'ferrari', 'festiv', 'ff', 'fi', 'field', 'fight', 'figur', 'figuromo', 'file', 'fill', 'film', 'finagl', 'final', 'financ', 'financi', 'find', 'fine', 'finga', 'finger', 'finish', 'finnish', 'fiorina', 'fire', 'firefox', 'firetruck', 'first', 'fish', 'fit', 'fitsme2', 'five', 'fix', 'fixtur', 'flag', 'flake', 'flatter', 'flee', 'flew', 'flex', 'fli', 'flickr', 'flight', 'flock', 'flood', 'floor', 'floorboard', 'floria', 'florida', 'flower', 'flowin', 'flu', 'fm', 'fml', 'fo', 'focu', 'foe', 'fold', 'folio', 'folk', 'follow', 'followfriday', 'followinq', 'food', 'foodtecc', 'foolish', 'foootbal', 'foot', 'footbal', 'footi', 'forens', 'forest', 'foreteen', 'forev', 'foreverkid', 'forget', 'forgiv', 'forgot', 'forgotten', 'form', 'formal', 'formula', 'forth', 'forum', 'forward', 'found', 'four', 'fourth', 'fox', 'foxandfriend', 'foxnew', 'foxtv', 'fr', 'fractor', 'fragilecappy33', 'frame', 'fran6', 'franc', 'frank', 'franki', 'frankiethesat', 'frankluntz', 'frankston', 'freak', 'fred', 'fredtouch', 'free', 'freebi', 'freebird', 'freedomjames7', 'freez', 'freezer', 'french', 'frend', 'fresh', 'freyatom', 'friday', 'friend', 'friendship', 'friendster', 'frighteningli', 'fring', 'front', 'frost', 'fruit', 'frustrat', 'fuck', 'fuckyoutwittermsnandfacebook', 'fulfil', 'full', 'fulli', 'fumb', 'fumig', 'fun', 'function', 'funni', 'funyun', 'furiou', 'futur', 'fyi', 'ga', 'gabber', 'gabi', 'gaga', 'gah', 'gal', 'galactica', 'game', 'gang', 'garcevisag', 'garden', 'garyshort', 'gastric', 'gather', 'gauchat', 'gav', 'gave', 'gay', 'gb_ball', 'gdragon', 'gdrayson', 'gear', 'geat', 'geek', 'gene', 'geneforeman', 'gener', 'geneseo', 'genki_desu', 'geographi', 'germainlussi', 'germani', 'germi', 'gertrudesteinjr', 'get', 'gettin', 'gf', 'gfalcone601', 'gg', 'ggn', 'giant', 'gibt', 'gift', 'gig', 'giggypig', 'giiirrrlll', 'gilmor', 'gimm', 'ginger', 'gingerb', 'gingercak', 'girl', 'girli', 'gisburn', 'give', 'giveaway', 'given', 'glad', 'gladston', 'gladysrobl', 'glasgow', 'glass', 'glibc', 'glitterboot', 'global', 'glori', 'gloriou', 'glue', 'gluten', 'gmt', 'gn', 'gnaw', 'gnu', 'go', 'goal', 'god', 'goddess', 'goe', 'goin', 'golden', 'goldymom', 'golf', 'gona', 'gone', 'gonna', 'goo', 'good', 'goodby', 'goodcharlott', 'goodi', 'goodmorn', 'goodnight', 'goof', 'googl', 'goooood', 'gooooood', 'gop', 'gop2016', 'gopdeb', 'gopdebateâ', 'gopdebatâ', 'goptbt', 'gopâ', 'gorgeou', 'gosh', 'gossipgirl', 'got', 'gotta', 'gotten', 'govchristi', 'goâ', 'gp', 'gpforhir', 'grade', 'graduat', 'grahamwilkinson', 'grand', 'grandeastangliarun', 'grandpar', 'graphic', 'grate', 'gravyfloid', 'gray', 'greasyyyyyyyy', 'great', 'greatest', 'greatli', 'green', 'gretaston', 'grip', 'groceri', 'gross', 'ground', 'group', 'grouper', 'grow', 'grown', 'grrr', 'grrrrr', 'grshane', 'gt', 'gtg', 'guarante', 'guess', 'guest', 'guilti', 'guinea', 'guitar', 'guna', 'gunna', 'gush', 'gut', 'gutsi', 'guy', 'guykawasaki', 'gw212', 'gym', 'gâ', 'ha', 'haa', 'haaappi', 'haha', 'hahah', 'hahaha', 'hahahah', 'hahahaha', 'hahahahahha', 'hahha', 'haii', 'hail', 'hailsatan', 'hair', 'haircut', 'haley', 'half', 'halhefn', 'halleloo', 'halloween', 'halmiton', 'halspark', 'ham', 'hammer', 'hamster', 'hand', 'handbag', 'handcramp', 'handcuff', 'handl', 'hang', 'hangin', 'hangov', 'hannah', 'hannahmei', 'hannanananana', 'hanser', 'happen', 'happi', 'happier', 'happycassi', 'hapson', 'hard', 'hardbal', 'hardcor', 'harder', 'harri', 'harsh', 'hasnt', 'hassl', 'hate', 'hatton', 'hav', 'havent', 'havin', 'hawaii', 'hawk', 'hay', 'hayfev', 'haylieoffici', 'hbmari', 'hd', 'he', 'head', 'headac', 'headach', 'headbut', 'headlin', 'heal', 'health', 'healthi', 'heaptweet', 'hear', 'heard', 'heart', 'heartbroken', 'heartburn', 'hearthepop', 'hearti', 'heather', 'heatherann02', 'heatherbond', 'heathersmus', 'heaven', 'heavi', 'heck', 'heehe', 'heh', 'hehe', 'heheheh', 'heheheheheee', 'heidi', 'heidimontag', 'hell', 'hella', 'hello', 'hellocupcakex3', 'hellp', 'helmet', 'help', 'helper', 'helpfindmychild', 'helsinki', 'hemdash', 'hemotologist', 'herb1906', 'hereistheansw', 'hernia', 'hero', 'heroesforaut', 'herround', 'hewbal', 'hey', 'hhahahaha', 'hheellppp', 'hi', 'hib', 'hiccup', 'hick', 'high', 'higher', 'highschool', 'hilari', 'hill', 'hillari', 'hillaryclinton', 'hind', 'hiptop', 'hiredâ', 'histor', 'histori', 'hit', 'hitman', 'hiya', 'hmichaelharvey', 'hmm', 'hmmm', 'hob', 'hol', 'hold', 'holi', 'holiday', 'holler', 'hollykins83', 'holyshit', 'home', 'homemad', 'homework', 'homi', 'hon', 'honest', 'honestli', 'honey', 'honey3223', 'honor', 'hoo', 'hood', 'hoodwink', 'hook', 'hookah', 'hooligan', 'hooo', 'hooray', 'hop', 'hope', 'horni', 'horrend', 'horribl', 'horrid', 'horror', 'hors', 'hortovanyi', 'hospit', 'host', 'hostag', 'hostgat', 'hot', 'hotel', 'hotmail', 'hotspot', 'hotwet', 'hour', 'hourglass', 'hous', 'housecracka', 'housework', 'hover', 'how', 'howr', 'hp', 'hpstrfggt', 'hr', 'hrc', 'hrhf', 'hrim', 'hs', 'hsm', 'huayruro', 'hubbi', 'huckabe', 'hug', 'hugan', 'huge', 'hugh', 'huh', 'human', 'humanpincushion', 'hump', 'hun', 'hundr', 'hung', 'hungov', 'hungri', 'hunt', 'hurt', 'hurtttt', 'husband', 'hustler', 'hutsoncap', 'huy', 'hvar', 'hw', 'hyper', 'hypocrit', 'iam', 'iamgmjohnson', 'iamnuttzo', 'iangarytweet', 'ibu', 'ice', 'icecream', 'iceisawesom', 'iceland', 'icjackson', 'icn', 'id', 'idc', 'idea', 'ideia', 'ident', 'idiot', 'ie6', 'ignor', 'ihealth', 'iheartniyi', 'ihop', 'il', 'ill', 'illeg', 'illlll', 'ilov', 'im', 'ima', 'imagin', 'imaginarypeach', 'imissy', 'imma', 'immedi', 'immigr', 'impend', 'importantli', 'importantt', 'impress', 'improv', 'incid', 'incom', 'increas', 'incred', 'independantli', 'indetad', 'indian', 'indo', 'indulg', 'industri', 'ineffect', 'infect', 'infinit', 'influenc', 'info', 'inform', 'ing', 'ingrahamangl', 'ingredi', 'inhuman', 'injuri', 'inque54', 'insan', 'insertemolyr', 'insid', 'insomnia', 'inspir', 'inspiremetoday', 'instal', 'instanc', 'instead', 'instrument', 'insult', 'insur', 'intelectu', 'intellect', 'intellig', 'intens', 'intent', 'interest', 'interfer', 'interior', 'intern', 'internationalbeerday', 'internet', 'interview', 'intrigu', 'intro', 'introduc', 'intrupt', 'invisiblespark', 'involv', 'ionacosmet', 'ipass', 'iphon', 'iphone', 'ipl', 'iplay', 'ipod', 'ipswich', 'irand', 'iraq', 'iraqi', 'ire', 'irish', 'iron', 'ironi', 'irrit', 'isi', 'islam', 'island', 'isnt', 'isol', 'israel', 'iss', 'issu', 'isthisajok', 'isync', 'itali', 'itchi', 'itchyyyy', 'item', 'itsdgc', 'itsdimitri', 'itsjamieeexo', 'itt', 'itttt', 'iv', 'ivan', 'ive', 'iwantocri', 'izzyj_is_her', 'jacinta', 'jackalltimelow', 'jacket', 'jacob', 'jacque_s_', 'jacuzzi', 'jacvanek', 'jadeofjad', 'jaim', 'jakarta', 'jalapeno', 'jam', 'jamesjay', 'jamesmb', 'jamiaw', 'jamie_oliv', 'jammi', 'jammin', 'janeefung', 'jangl', 'jao', 'japanes', 'jarango', 'jason', 'jasonbradburi', 'jasonstathamno1', 'jaspercullen', 'java', 'jaxnmelodi', 'jay', 'jaybrannan', 'jayfing', 'jaylastarr', 'jaymcc', 'jazzzzz', 'jb', 'jbazer', 'jd', 'jealou', 'jeaniemarshal', 'jeb', 'jebbush', 'jecsa', 'jeeehhhaaaaa', 'jeep', 'jeff', 'jeffpulv', 'jeij', 'jeje', 'jelaou', 'jelli', 'jelsa', 'jenbishopsydney', 'jenlar', 'jennchambless', 'jenni', 'jennif', 'jenperez', 'jenrose28', 'jenseali', 'jenson', 'jerichok', 'jerri', 'jerry_holbert', 'jersey', 'jess', 'jessdubb', 'jessleigh83', 'jesu', 'jewish', 'jim', 'jimalg', 'jimmers31', 'jimmy_poodl', 'jimmyrock', 'jimtrue48', 'jizziztheshiz', 'jjauthor', 'jjproject', 'jk', 'jkatet', 'jmo', 'joaqui', 'job', 'jobinterview', 'jobro', 'jodi', 'joe', 'joelcomm', 'joemadison', 'joeyjoeyjoey', 'joeykram', 'joeymcintyr', 'jofarnold', 'jog', 'john', 'john_stan', 'johncmay', 'johnkasich', 'johnlloydtaylor', 'johnmayerrock', 'johnson', 'johnwaynewest', 'join', 'joke', 'joker', 'jon', 'jona', 'jonathan', 'jonathanrknight', 'jondo', 'jonesforradio', 'jong', 'jono', 'jonstewart', 'jonz', 'jordan', 'jordankgirl', 'jordanknight', 'jordi', 'josh', 'joshfulf', 'joshinthe818', 'journal', 'journey', 'joy', 'joytribbl', 'jp', 'jpack', 'jr', 'jsc1835', 'jst', 'jsu', 'ju', 'judea', 'judg', 'juggl', 'juic', 'juillet', 'juin', 'juju', 'jukebox', 'julesrgb', 'juli', 'juliansimpson', 'jump', 'jumpin', 'june', 'junk', 'junki', 'jusink', 'just_jdream', 'justjeanni', 'justjessxo21', 'justtoblazethingsupthismorn', 'k8k', 'ka', 'kaplan', 'kara', 'karaok', 'kardashian', 'karenbm', 'karl_sans_marx', 'kasey', 'kasi', 'kasich', 'katearonoff', 'katecliffen', 'katerina', 'katiel777', 'katn', 'katofawesom', 'katy0819', 'kazey_', 'kchenoweth', 'kcomer', 'keep', 'keepin', 'keepup', 'keither_buckley', 'kelli', 'kelly__rowland', 'kellyyi', 'kenni', 'kept', 'ketchup', 'kevin', 'kevinport', 'kevinprinc', 'kevinros', 'kezxx', 'khensu83', 'khodgkin1', 'ki', 'kiana', 'kick', 'kickin', 'kid', 'kiddin', 'kiernan', 'kilian', 'kill', 'killer', 'killn', 'kilo', 'kiloko_', 'kim', 'kimkardashian', 'kind', 'kinda', 'kingbigl', 'kingdom', 'kingsth', 'kirisutegomen4', 'kirsti', 'kirstiealley', 'kiss', 'kitchen', 'kitchengirljo', 'kitten', 'kitti', 'kitty2dakat', 'kkimberlyyi', 'kkkorgop', 'kkkoâ', 'klang', 'klubfil', 'knew', 'knit', 'know', 'knowledg', 'known', 'knox', 'ko', 'koch', 'kodakoda', 'komvux', 'konalowel', 'konzert', 'koogar', 'koolhipchica', 'kpereira', 'krasnostein', 'kristen_paint', 'kristianlalib', 'krub', 'ksw1ss', 'ktleh', 'kutner', 'kwrcrow', 'kyleman2008', 'kylinmc', 'l_face', 'la', 'laatina', 'lab', 'label', 'lace', 'lack', 'lacochina_1', 'lacuna', 'ladi', 'ladyfro', 'ladygaga', 'laidashian', 'laker', 'laksa', 'lamb', 'lame', 'lana_berri', 'land', 'languag', 'lankan', 'lantern', 'lap', 'lapel', 'laptop', 'laraslatteri', 'larger', 'larinal', 'larryeld', 'laryng', 'lasagn', 'lasagna', 'last', 'late', 'later', 'latermom', 'latinluvli', 'latino', 'laugh', 'launch', 'launchgum', 'laundri', 'laurenrodriguez', 'laurenyoung', 'lauryn', 'lautner', 'law', 'lawn', 'lay', 'layin', 'laymen', 'layoff', 'lboi', 'lead', 'leader', 'leaf', 'leahcimmick', 'lean', 'learn', 'least', 'leather', 'leatherhead', 'leav', 'lebowski', 'led', 'leed', 'left', 'leg', 'legal', 'legend', 'legendarytvac', 'lego', 'leigh', 'lemur', 'leonardosuarez', 'lesanto', 'lesbian', 'lesfab', 'lesleyt', 'less', 'lesser', 'lesson', 'let', 'letter', 'levi', 'lexmark', 'lfta', 'lgbtq', 'liber', 'libertarian', 'librari', 'lick', 'lickmycupcak', 'liddo', 'lie', 'lien', 'life', 'light', 'lightn', 'like', 'likesunday', 'likewhoaxox', 'lil', 'lili', 'lilli', 'lillsnyggv', 'lilredroost', 'lilylauren', 'lilyroseallen', 'lindasuhl', 'linden', 'line', 'lineup', 'linieeh', 'link', 'linkedin', 'linux', 'lip', 'liquor', 'lisa', 'lisawalsh', 'lisbon', 'list', 'listen', 'listo', 'liter', 'literatur', 'littl', 'live', 'livelavalish', 'livelove_act', 'liz', 'lizinhollywood', 'lizstrauss', 'lizwoolli', 'llcoolj', 'llorracanit', 'lmao', 'lmaooo', 'lmfao', 'lmfaooo', 'lmpotter', 'lo', 'load', 'loaf', 'local_music_fan', 'localtweep', 'locat', 'log', 'logancarrigan', 'logic', 'login', 'lol', 'lolhayley', 'lolz', 'london', 'lone', 'lonestarshin', 'long', 'longer', 'look', 'lookin', 'looooooov', 'loop', 'loos', 'lopez', 'lora', 'lord', 'lorigarlington', 'lose', 'loser', 'loss', 'lost', 'lot', 'lotteri', 'loudli', 'loui', 'louie', 'louis', 'louisebrig', 'louiseredknapp', 'louistag', 'loung', 'lousi', 'love', 'lovebaro', 'loveeee', 'lovemy4son', 'lover', 'lovin', 'low', 'lrihendri', 'lron_jaii', 'lt', 'luci', 'luck', 'lucki', 'lucysieben', 'luke', 'lukebourassa', 'lunch', 'lunchtim', 'luthier', 'luv', 'luve', 'luvtisdalexx', 'lvcraze', 'lycra', 'lynaaselena', 'lynn', 'lyric', 'lyricsoul', 'mac', 'mac_in_to', 'macbook', 'machin', 'mackoji', 'mad', 'madamsalami', 'madbrad', 'made', 'madisonsiriusxm', 'madly59', 'madonna', 'madpsaila', 'madrid', 'mag', 'magazin', 'maggi', 'magnetoboldtoo', 'magnific', 'mahbooba', 'mahjong', 'mail', 'main', 'maiseyg', 'maja', 'majestic76', 'major', 'makavi', 'make', 'makeup', 'makin', 'makki', 'malacca', 'mall', 'maloublom', 'malta', 'maltes', 'mama', 'mamasphor', 'man', 'manag', 'manchest', 'mandi', 'mandy_velez', 'mandyluvsjbx3', 'mani', 'manic', 'manic_nimrod', 'manicurist', 'manli', 'mannnnnuel', 'manson', 'manuel', 'map', 'marathon', 'march', 'marcorubio', 'marcusmansfield', 'marcusnbc4', 'mareensher', 'margarhita', 'margin', 'marginatasnaili', 'mari', 'maria', 'mariah', 'mariahcarey', 'marialiacalvo', 'marianna', 'mariapetersen', 'mark', 'mark_uk_n', 'markdavi', 'markdavidgerson', 'market', 'markthetrain', 'marlborough', 'marli', 'marlin', 'marmaduk', 'marnieblaz', 'marthastewart', 'martin', 'martini', 'marymauldin', 'mash', 'mashablenew', 'mashallah', 'mass', 'massag', 'massila', 'massiv', 'master', 'masterpiec', 'match', 'mate', 'materi', 'matey', 'math', 'matt', 'mattbovel', 'matter', 'mattgoldich', 'matthewgow', 'matthewrrr', 'matulog', 'maud', 'mauer', 'max', 'maxime68', 'may', 'mayb', 'mayer', 'mb', 'mbile', 'mccarthi', 'mcfli', 'mcg', 'mckennaxscream', 'mcrisapleasur', 'mcvie', 'md', 'meal', 'mean', 'meani', 'meant', 'mear', 'measur', 'meatrack', 'mebb', 'media', 'media140', 'medvedev', 'medyo', 'meet', 'megan', 'meghanmagnolia', 'megkautz', 'megynkelli', 'megynkellydebatequest', 'meh', 'mehmet', 'melissamapl', 'melry217', 'member', 'memo', 'memor', 'memori', 'men', 'mengkia', 'mentalhealth', 'mention', 'mercedesschlapp', 'merch', 'merclev', 'mere', 'merit', 'merseym', 'mess', 'messag', 'messi', 'met', 'meta', 'metnightowl', 'mewok', 'mexico', 'meâ', 'mfare', 'mhmm', 'mi', 'miami', 'michaelgraing', 'michelle3889', 'michelleel', 'michpe', 'micnew', 'microwav', 'mid', 'middl', 'midlifecrunch', 'midnightmovi', 'midterm', 'might', 'migrat', 'miguel', 'mikasound', 'mike', 'mikediaz1977', 'mikeklingl', 'miladi', 'mile', 'miley', 'mileycyru', 'militari', 'milk', 'miller', 'million', 'milpita', 'mimmosa', 'min', 'mind', 'mine', 'mini', 'minn', 'minni', 'minor', 'mint', 'minut', 'mira', 'miracl', 'mirageinblu', 'misogyni', 'miss', 'miss_paula', 'miss_tattoo', 'missbridg', 'missin', 'missio', 'misskatiepric', 'misssssss', 'missu', 'missxmarisa', 'mistak', 'mistaken', 'misternv', 'mistygirlph', 'mix', 'miz_l', 'mj', 'mmerii', 'mmm', 'mmmbailey', 'mmmm', 'mmmmmm', 'mmolnaird', 'mo', 'moa', 'mobil', 'mockeri', 'mode', 'model', 'modem', 'moder', 'modern', 'modhumanvintag', 'modul', 'moeruhim', 'mofgimm', 'mojo', 'molli', 'mom', 'moment', 'mommi', 'mompreneur', 'monaeltahawi', 'monday', 'monee', 'money', 'mongi', 'monika29', 'monkey', 'monopoli', 'monro', 'monster', 'month', 'mood', 'moogabe', 'moon', 'moonshin', 'moony394', 'mooooomm', 'mooooorn', 'mooree', 'moral', 'moriahs', 'morn', 'mornin', 'morrica', 'morrow', 'mosaic', 'mosquito', 'mostli', 'mother', 'motiv', 'motivationmama', 'motleycru', 'motor', 'motrayli', 'moulin', 'mountain', 'mourn', 'mous', 'mouss', 'mouth', 'move', 'movi', 'moviego', 'movin', 'mow', 'mower', 'mozgovaya', 'mp3', 'mqu', 'mr', 'mr_cf', 'mrsam', 'mrtrev', 'ms', 'msg', 'msn', 'msnbc', 'mt', 'mth', 'mtvthehil', 'muar', 'much', 'muffin', 'muh', 'multiview', 'mum', 'mumbai', 'mummi', 'muna', 'munkeysi', 'muscl', 'museum', 'mushh', 'music', 'musician', 'mussomitchel', 'must', 'mustin', 'mute', 'mutual', 'mybe', 'myfax', 'myria101', 'myspac', 'myth', 'mzdavi', 'mâ', 'n0w', 'na', 'nada', 'nadal', 'nage', 'nagoya', 'nagshow', 'nah', 'nail', 'nake', 'name', 'nancivega', 'nanni', 'nantwich', 'nap', 'naplan', 'nasal', 'nasti', 'nathan', 'nathanayr', 'natur', 'nava', 'naw', 'nba', 'ncaa', 'nd144', 'ne', 'near', 'nearbi', 'nearli', 'neat', 'necess', 'neck', 'need', 'needa', 'nef', 'neg', 'neighbour', 'neilcurri', 'neiltamplin', 'neither', 'neon_pastel', 'neotech2020', 'nerd', 'nerdist', 'nerv', 'net', 'network', 'neue', 'nevah', 'never', 'nevermind', 'new', 'newcastl', 'newport', 'news', 'next', 'ngiacmk', 'nice', 'niceguysfre', 'nick', 'nick_cart', 'nick_jjp', 'nick_man', 'nicol', 'nicolerichi', 'nicolesssss', 'nicolett', 'nifti', 'night', 'nighter', 'nighthustl', 'nighti', 'nih', 'nikischerzing', 'nikki', 'ninkybink', 'nirvanaarch', 'nite', 'nithinkd', 'niub', 'nix', 'nkcia', 'nkotb', 'nm', 'no1panicfan', 'noamnesti', 'nob', 'nobodi', 'noe', 'nois', 'nomine', 'nomnomnom', 'non', 'none', 'nonsens', 'noodl', 'noon', 'nooo', 'noooo', 'nooooo', 'noooooooooooo', 'nooooooooooooooooooooo', 'nope', 'norajona', 'norway', 'norwich', 'nostalg', 'note', 'noth', 'nothin', 'notic', 'notif', 'novawildstar', 'novo', 'nowaytori', 'noww', 'nragins1', 'ntc', 'nudg', 'nuff', 'nuishow', 'number', 'nun', 'nurs', 'nut', 'nuttychri', 'nvfn', 'ny', 'nyc', 'nyt', 'o_o', 'obama', 'oblig', 'obsess', 'obtain', 'obv', 'obviou', 'obvious', 'occup', 'occupi', 'oceanup', 'odd', 'odessa', 'ofcours', 'off', 'offer', 'offic', 'officali', 'offici', 'officialtl', 'offshor', 'offspr', 'often', 'oftenimprud', 'oh', 'ohh', 'ohhhh', 'ok', 'okay', 'okayi', 'okcupid', 'old', 'older', 'oledi', 'oliv', 'ollyog', 'olympu', 'omega', 'omfg', 'omfgitskris276', 'omg', 'omggg', 'omgsarahsay', 'one', 'onlin', 'onto', 'oodl', 'ooh', 'ooo', 'oooh', 'oooof', 'ooooh', 'ooop', 'oop', 'oopsi', 'op', 'open', 'openhacklondon', 'opinion', 'opportun', 'opposit', 'oprah', 'oracl', 'oral', 'orang', 'orchid', 'order', 'oregon', 'organ', 'organis', 'origin', 'orrr', 'os', 'oscar', 'other', 'otherwis', 'ouch', 'ought', 'outbound', 'outdoor', 'outgrow', 'outlet', 'outlook', 'outsid', 'outta', 'oven', 'overdos', 'overdr', 'overh', 'overhead', 'overnight', 'overslept', 'ovom', 'own', 'owner', 'owww', 'owwww', 'owwwww', 'oxoxoxoxoxooxoxox', 'ozzi', 'pa', 'pab', 'pablo', 'pack', 'packag', 'padvorac', 'page', 'paid', 'pain', 'paint', 'palac', 'palinod', 'palmetto_star', 'pambrossman', 'pamelagel', 'pamper', 'pancak', 'panda', 'pandamayhem', 'pant', 'papacut', 'papalazar', 'paper', 'paperless', 'paradisej', 'paramor', 'parent', 'parenthood', 'pari', 'park', 'part', 'parti', 'partial', 'pass', 'passag', 'passion', 'password', 'past', 'pastor', 'pat', 'pathet', 'patrick', 'patricksvitek', 'pattern', 'pattonoswalt', 'paul', 'paulamackay', 'pauldotcom', 'pauliecook', 'pauljchamb', 'paulteln', 'paxsarah', 'pay', 'payday', 'paygee', 'payless', 'pbo', 'pcd', 'peac', 'peanut', 'pearl', 'pee', 'peep', 'pemb', 'penniless', 'pennysa', 'peopl', 'perc08', 'perezhilton', 'perfect', 'perfectli', 'perform', 'perhap', 'period', 'perpetr', 'perri', 'person', 'perspect', 'perv', 'pet', 'peter', 'petewentz', 'petti', 'pettyf', 'peyton', 'pftcomment', 'pfunk', 'phd', 'phenomen', 'phew', 'philgoyen', 'philippin', 'phillip', 'philomathickat', 'phone', 'photo', 'photographi', 'phpmotion', 'physic', 'pic', 'pick', 'picnic', 'pictur', 'picturepostcard', 'piec', 'pig', 'pike', 'pimp', 'pimpsnho', 'pin', 'pingyao', 'pink', 'pinkberri', 'pinki', 'pinkmuslimah', 'pinnacl', 'piss', 'piti', 'pitti', 'pixi', 'pizza', 'pj', 'pjhughes12', 'pjssss', 'place', 'plan', 'plane', 'plant', 'plastic', 'plate', 'platform', 'platypus_shark', 'play', 'player', 'playlist', 'playoff', 'playxmyxac', 'pleaassee', 'pleas', 'pleasant', 'pleasur', 'plu', 'plumber', 'plurk', 'plymouth', 'pm', 'pmc', 'pmeanwellralph', 'pmtj', 'pn', 'pneumonia', 'po', 'podcast', 'point', 'pointless', 'pointofsal', 'poison', 'poitier', 'pok', 'poke', 'poker', 'polhillian', 'polici', 'polit', 'politican', 'politician', 'politics_pr', 'poll', 'pollen', 'polyest', 'poni', 'poo', 'poor', 'poorli', 'pop', 'popcorn', 'poppunkprincess', 'porridg', 'port', 'portabl', 'portland', 'pose', 'posit', 'possibl', 'post', 'postcard', 'postsalot', 'postsecret', 'posttruthsocieti', 'pot', 'potu', 'pound', 'pourquoi', 'poverti', 'povvo', 'powder', 'powel', 'power', 'ppl', 'pr', 'practic', 'practis', 'prais', 'pray', 'prayer', 'pre', 'preach', 'precis', 'predict', 'prefer', 'pregnanc', 'pregnant', 'premier', 'premium', 'premiumlin', 'prep', 'prepar', 'preparin', 'presenc', 'present', 'presid', 'presidenti', 'press', 'pressur', 'pretti', 'prettierpixel', 'pretty', 'prevent', 'price', 'pride', 'primari', 'primat', 'prime', 'primetim', 'princess', 'print', 'printer', 'prioriti', 'privaci', 'prix', 'prize', 'pro', 'prob', 'probabl', 'probbali', 'problem', 'probli', 'problogg', 'process', 'produc', 'product', 'profession', 'profil', 'program', 'programm', 'progress', 'project', 'prolif', 'prom', 'promis', 'promot', 'pronounc', 'pronounci', 'proof', 'properli', 'propley', 'prostitut', 'proud', 'prouddd', 'proverb', 'provid', 'ps', 'ps3', 'psalm', 'psam', 'psych', 'psycho65', 'public', 'pug', 'puhleas', 'pukey', 'pull', 'pulmyear', 'punch', 'punish', 'punk', 'pupil', 'puppi', 'purchas', 'purdu', 'purpl', 'purplepoppl', 'purpos', 'purs', 'push', 'pushplaycj', 'pussbackfoot', 'pustak', 'put', 'puzzl', 'pwdi', 'pyngvild', 'python', 'qod', 'qualifi', 'qualiti', 'que', 'queen', 'question', 'queue', 'quick', 'quiet', 'quilt', 'quintesc', 'quit', 'quiter', 'quof', 'quot', 'race', 'rach210', 'rachel', 'rachmcfli', 'racism', 'racist', 'radic', 'radio', 'radio316', 'radioshop', 'rafael', 'rage', 'railroad', 'rain', 'rais', 'raja', 'rajumat', 'rambl', 'ran', 'rand', 'randi', 'randomest', 'randomized180', 'randpaul', 'rang', 'ranger', 'rank', 'rant', 'rap', 'rape', 'rare', 'rasberri', 'rash', 'rate', 'rather', 'raveen', 'raveenn', 'raybeckerman', 'rayybeeann', 'raâ', 'reach', 'reaction', 'read', 'reader', 'readi', 'reagan', 'real', 'real_gaz_coward', 'realbencarson', 'realdonaldtrump', 'realiti', 'realiz', 'realli', 'realmac', 'reason', 'rebeccajon', 'rebeccamezzino', 'rebellion', 'recal', 'receipt', 'receiv', 'recent', 'reciev', 'recipi', 'reciproc', 'recommend', 'recon', 'reconsid', 'record', 'recov', 'recoveri', 'red', 'redbul', 'reebonz', 'reemstercarp', 'rees', 'refer', 'referenc', 'refin', 'refresh', 'refund', 'refus', 'regard', 'regina', 'regist', 'regular', 'rel', 'relat', 'relationship', 'relax', 'releas', 'reli', 'religion', 'remain', 'remak', 'remark', 'rematch', 'remedi', 'rememb', 'remind', 'reminisc', 'remko', 'remov', 'renatak', 'renee_66', 'renomarki', 'rent', 'rental', 'repair', 'repeal', 'repeat', 'replac', 'repli', 'report', 'republican', 'requiemofrain', 'requir', 'reread', 'research', 'reserv', 'resid', 'resist', 'resourc', 'respect', 'respond', 'respons', 'rest', 'restaur', 'restless', 'result', 'resum', 'retard', 'retir', 'retro', 'retrogrrl', 'retrorewind', 'return', 'reveal', 'revel', 'revers', 'review', 'revis', 'reward', 'rewrit', 'reyes87', 'rhyzom', 'riandawson', 'rich', 'richiejap', 'rick', 'rid', 'ride', 'ridicul', 'right', 'ring', 'rino', 'riot', 'rip', 'rite', 'river', 'riyaan', 'rlhunsta', 'road', 'roadto2016', 'roam', 'roast', 'rob', 'robin', 'robklein', 'robmathieson', 'robpattinson_', 'robynmcintyr', 'roccoman', 'rochdal', 'rock', 'rocki', 'rockin', 'roll', 'romi', 'romiezz', 'rompompom', 'roncallari', 'roof', 'room', 'roommat', 'root', 'rorschach', 'rosali', 'roseformyros', 'roserogu', 'rosi', 'ross', 'rossi', 'roti', 'roug', 'router', 'row', 'rowland', 'roxxinikki', 'royal', 'rp', 'rrrawwr', 'rt', 'ru', 'rubbish', 'rubio', 'rubybutt', 'rudd', 'rude', 'rug', 'ruhanirabin', 'ruin', 'rule', 'run', 'runkeep', 'runn', 'runni', 'rush', 'ruthbeedl', 'ruthne55', 'rwsurfergirl', 'ryt', 's2bx', 'saag', 'saamanthajaan', 'sacr', 'sactown', 'sad', 'sadd', 'sadfac', 'sadli', 'safari', 'safe', 'safey', 'saffanah', 'saget', 'sai_venkat', 'said', 'salli', 'sallykohn', 'salmasekela', 'salspizza', 'salut', 'salvat', 'sam', 'sambrodi', 'samuel_l_bronko', 'san', 'sand', 'sandal', 'sandi', 'sandrabrownma', 'sandwich', 'sane', 'sanjanasharma', 'santorum', 'sanusi', 'sara', 'sarahik', 'sarahrobinson', 'sarahsaturday', 'saramarietweet', 'sat', 'saturday', 'sauc', 'saurabh', 'sausag', 'save', 'saw', 'say', 'saya', 'sayin', 'sayyy', 'saâ', 'sb', 'sbpdl', 'sc', 'scare', 'scari', 'scarletmandi', 'scene', 'schandler13', 'schedul', 'schhol', 'schicksal', 'schizdazzl', 'schmutzi', 'schofe', 'school', 'schoool', 'schooooooool', 'scienc', 'sclub', 'scold', 'scope', 'score', 'scotland', 'scott', 'scottbert', 'scottcbakken', 'scottwalk', 'scout', 'scrambl', 'scratch', 'scream', 'screen', 'screw', 'script', 'sd', 'sea', 'seabassthephish', 'seachri', 'seanmurphymus', 'search', 'season', 'seat', 'second', 'secondhand', 'secret', 'section', 'secur', 'see', 'seedcamp', 'seem', 'seen', 'seersuckerthursday', 'self', 'selfi', 'sell', 'semanticli', 'semest', 'send', 'sensation', 'sent', 'sentedcruz', 'sentiment', 'serenad', 'serenajwilliam', 'seri', 'seriou', 'serious', 'serv', 'server', 'servic', 'session', 'set', 'settl', 'sex', 'sexi', 'sexist', 'sexykellyc', 'shaant', 'shaft', 'shah', 'shaileemodi', 'shall', 'sham', 'shamari', 'shame', 'shamsi', 'shanghai', 'shanners85', 'shannonleto', 'shannonmurdoch', 'shape', 'share', 'sharnna', 'shash', 'shatter', 'shaundiviney', 'shaunjumpnow', 'shave', 'shawna', 'shay', 'shebeege', 'sheep', 'sheet', 'sheldon', 'shelleyfinch', 'shift', 'shifti', 'ship', 'shirt', 'shit', 'shite', 'shithol', 'shitti', 'shiver', 'shld', 'shmuxel', 'sho', 'shock', 'shoe', 'shoemak', 'shoestring', 'shoot', 'shop', 'shopahol', 'shoppin', 'short', 'shortlist', 'shot', 'shoulder', 'shout', 'shoutcast', 'show', 'shower', 'shozu', 'shrdlu', 'shred', 'shuld', 'shut', 'shuuuut', 'shyland', 'shyt', 'si', 'sian_the_mous', 'sick', 'sickz', 'side', 'sigh', 'sight', 'sign', 'signific', 'silenc', 'silent', 'silli', 'silva', 'silver', 'silver_queen', 'sim', 'similar', 'simon14771482', 'simpl', 'simpson', 'simx', 'sinc', 'sing', 'singapor', 'singkit', 'singl', 'sinu', 'sip', 'sir', 'sirbarley', 'siriusxm', 'sister', 'sit', 'site', 'sittin', 'situat', 'sixth', 'sjadetx', 'skate', 'skeeter', 'skellig', 'skill', 'skillend', 'skillz', 'skimmlif', 'skin', 'skinnyjean', 'skip', 'skirt', 'skool', 'skweed', 'skyrocket', 'slack', 'slap', 'sleeeppp', 'sleep', 'sleepi', 'sleepn', 'slept', 'slickgilchrist', 'slightli', 'slow', 'slowli', 'small', 'smart', 'smear', 'smell', 'smile', 'smith', 'smooth', 'smoothest', 'smoothi', 'smugbugg', 'snack', 'snap', 'snapper', 'sneaki', 'sneez', 'sniff', 'sniffl', 'snoopi', 'snore', 'snow', 'snp', 'so', 'soak', 'soar', 'sober', 'soccer', 'social', 'socialmedia', 'societi', 'sock', 'soda', 'softbal', 'softli', 'softwar', 'solangeknowl', 'sold', 'soldier', 'solut', 'somebodi', 'somehow', 'someon', 'someth', 'sometim', 'somth', 'son', 'song', 'soo', 'soon', 'sooner', 'sooo', 'soooo', 'sooooo', 'sooooooooo', 'sophomor', 'sore', 'sorri', 'sorrow', 'sorrynotsorri', 'sort', 'sorta', 'sostil', 'soubiluv98', 'soul', 'soulfuljenn', 'souljaboy', 'souljaboytellem', 'soulless', 'sound', 'soundtrack', 'sourbitch1', 'south', 'southampton', 'southpark', 'southpaw1805', 'southplatt', 'sowwi', 'spa', 'spacecon', 'spade', 'spain', 'spam', 'span', 'spanish', 'spar', 'spare', 'speak', 'speaker', 'special', 'speech', 'speedi', 'spektor', 'spell', 'spellbound', 'spencerpratt', 'spend', 'spent', 'spill', 'spin', 'spinner', 'spn', 'spoil', 'spoiler', 'spoken', 'spot', 'spotiday', 'spotless', 'spread', 'spring', 'springer', 'sprinkl', 'spunk', 'spur', 'spywar', 'squeez', 'squirrel', 'sri', 'srosenberg', 'ss', 'ssbb', 'st', 'stabl', 'stack', 'stadium', 'stage', 'stair', 'stalk', 'stall', 'stand', 'standalon', 'standard', 'standtal', 'star', 'starbuck', 'stardust', 'starsparkl', 'start', 'starv', 'state', 'statement', 'station', 'statu', 'statutori', 'stay', 'stayin', 'steak', 'steakhous', 'steal', 'stellarchild', 'step', 'stephani', 'stephaniegg', 'stephaniegouw', 'stephaniepratt', 'stephenfri', 'stephenstephan', 'stephherold', 'stephlest', 'steve', 'stevophilo', 'stick', 'still', 'stillusionist', 'stint', 'stitch', 'stockholm', 'stoke', 'stolen', 'stomach', 'stop', 'stope', 'store', 'stori', 'storm', 'stove', 'straid', 'straight', 'straighten', 'strand', 'strang', 'strangest', 'straw', 'strawberri', 'stream', 'street', 'streetcar', 'strength', 'stress', 'stretch', 'stride', 'strike', 'strip', 'stripey_twix', 'strong', 'strongest', 'strongli', 'struggl', 'stuck', 'student', 'studentjob', 'studi', 'studio', 'stueybrock', 'stuf', 'stuff', 'stumbl', 'stunna', 'stupid', 'style', 'styler', 'stylescoop', 'styletim', 'subject', 'subscrib', 'substanc', 'subway', 'success', 'suck', 'sucki', 'suddenli', 'suerk', 'suffer', 'sugar', 'sugari', 'suggest', 'suh', 'suikoden', 'sultri', 'sum', 'sum1', 'summer', 'summer4jul', 'sun', 'sunbath', 'sunburnt', 'sunday', 'sunni', 'sunris', 'sunshiiiin', 'sunshin', 'supagam', 'supapawa', 'super', 'superbad', 'superdaveyboy', 'superli', 'supermanhotmal', 'supermodel4r', 'supernatur', 'superrr', 'supos', 'supper', 'support', 'suppos', 'supposedli', 'sure', 'surf', 'surgeon', 'surgeri', 'surpris', 'surrey', 'susan', 'suscrib', 'suzymartin', 'svanwessem', 'sven', 'swag', 'swamp', 'swanni', 'sway', 'swayz', 'swear', 'sweater', 'sweden', 'sweet', 'sweeti', 'swho', 'swift', 'swim', 'swimsuit', 'swing', 'swisscow86', 'swollen', 'sxse', 'syd', 'sydney', 'sympath', 'sync', 'system', 't_s_b', 'taaaschi', 'tab', 'tabl', 'taco', 'tacoma', 'taigur', 'tail', 'taipei', 'take', 'talbot', 'talent', 'taless', 'talia', 'talk', 'talkin', 'tallinn', 'tambien', 'tampa', 'tan1337', 'tantrum', 'tanya011', 'taraalberto', 'tasti', 'tat', 'tatto', 'tattoo', 'tax', 'taylor', 'taylorswift13', 'tb', 'tbh', 'tbottv', 'tea', 'teach', 'teacher', 'team', 'teaparti', 'tear', 'techi', 'techniqu', 'ted', 'tedcruz', 'teddi', 'teef', 'teen', 'teenag', 'teeth', 'teh', 'telaviv', 'telegraph', 'tell', 'telli', 'telll', 'telstra', 'temporari', 'ten', 'tenniss', 'teresa', 'teresita407', 'term', 'termin', 'terracotta', 'terribl', 'terrifi', 'terror', 'tesday', 'test', 'testabl', 'testimoni', 'texa', 'texass', 'text', 'textur', 'tgfl', 'th', 'tha', 'thank', 'thankgoodnessforlaptop', 'thanx', 'that', 'thatkevinsmith', 'theartistt', 'theater', 'theatr', 'thebeatlesrule4', 'theblyackhyp', 'thedonald', 'theobroma', 'theori', 'there', 'therealhc', 'therefor', 'thererfemaledj', 'therockstarbrotherhood', 'theros', 'thesage1014', 'theskimm', 'theugh', 'thevervekid', 'thew', 'thewhit', 'thief', 'thin', 'thing', 'thingk', 'think', 'thinkin', 'thinkreferr', 'third', 'thirti', 'this25', 'thiss', 'tho', 'thom', 'thoma', 'thomaldo', 'thomasfromle', 'thong', 'thoroughlygood', 'thou', 'though', 'thought', 'thrace', 'thread', 'three', 'threedaymonk', 'threesenough', 'threw', 'thrill', 'throat', 'throg', 'throw', 'tht', 'thumb', 'thunder', 'thur', 'thursday', 'thx', 'ticket', 'tierkrei', 'tiffani', 'tiger', 'tigger', 'tiim', 'tijuana', 'til', 'till', 'tim', 'time', 'timebenez', 'timewarp', 'tini', 'tiniest', 'tip', 'tire', 'tiredd', 'tireeeeeeee', 'tith', 'titomi15', 'tivo', 'tix', 'tj', 'tjo', 'tlaszuk', 'tlk', 'tlm26', 'tltsym09', 'tmobrien', 'tmrw', 'tn', 'toast', 'toaster', 'toasti', 'today', 'togeth', 'told', 'tom', 'tom_mil', 'tomatchem', 'tommcfli', 'tommi', 'tommorrow', 'tomorow', 'tomorro', 'tomorrow', 'tomoz', 'ton', 'toni', 'tonight', 'tooh', 'took', 'tool', 'tooooo', 'toooooo', 'toot', 'tooth', 'toothach', 'toothpast', 'top', 'topic', 'torak', 'torchwood', 'torn', 'torrent', 'toshiba', 'total', 'totalarsen', 'tote', 'toto', 'touch', 'tough', 'toughest', 'toung', 'tour', 'tournament', 'town', 'toyota', 'tpf', 'traceyhewin', 'track', 'tracya72', 'trade', 'tradeoff', 'traffic', 'trailer', 'train', 'tran', 'transfer', 'travel', 'trawlingtrol', 'traychaney', 'traysee73', 'treat', 'treatment', 'tree', 'treeeeesha', 'treezilla', 'trek', 'trend', 'tri', 'trial', 'tribeca', 'tribun', 'trick', 'triiipl', 'trill', 'trini', 'trip', 'trivium', 'trixxaayyy', 'trohman', 'troll', 'tron', 'trontast', 'troop', 'troubl', 'truck', 'true', 'trueblood', 'trueli', 'truli', 'trump', 'trump2016', 'trumpdatâ', 'trumpmisogonist', 'trust', 'truth', 'trxiegirl71', 'tryin', 'trytrytri', 'tshirt', 'tswift', 'tub', 'tue', 'tuesday', 'tuffer', 'tulsa', 'tumblr', 'tummi', 'tune', 'turn', 'tutor', 'tv', 'tweet', 'tweetbot', 'tweeter', 'tweeti', 'tweetin', 'tweetsantaclau', 'tweetup', 'twice', 'twilight', 'twin', 'twippin', 'twist', 'twit', 'twitaddict', 'twitfox', 'twitpic', 'twitscoop', 'twitta', 'twittaz', 'twitter', 'twitterberri', 'twitterbugz', 'twitterland', 'twittermus', 'twitterp', 'twittertakeov', 'twittin', 'twizz', 'two', 'txt', 'type', 'typeak', 'ubertwitt', 'ubuntu', 'uchh', 'udon', 'ufc', 'uggh', 'ugh', 'ughhh', 'uh', 'uhh', 'uhhh', 'uhmmm', 'ui', 'uk', 'ukrain', 'ukrainian', 'ull', 'ultraaviol', 'un', 'unabl', 'unalarm', 'unbeliev', 'uncle_fista', 'undergrad', 'understand', 'underwear', 'unfollow', 'unfortun', 'unfortunatley', 'unfun', 'ungentlewomenli', 'uni', 'unimport', 'uninform', 'uninsur', 'union', 'uniquezaya', 'unit', 'univers', 'unknown', 'unless', 'unni', 'unoffici', 'unpaid', 'unplug', 'unprepar', 'unprofession', 'unreleas', 'unsettl', 'untangl', 'upcom', 'updat', 'upgrad', 'upload', 'upp', 'uppp', 'upset', 'upsid', 'ur', 'urgh', 'urghhhh', 'us', 'us_eucom', 'usabl', 'usag', 'usb', 'use', 'useless', 'user', 'usernam', 'usual', 'utem', 'uuuup', 'va', 'vacat', 'vahevalarain', 'valeri', 'valid', 'valley', 'vampir', 'van', 'vanilla', 'vaniti', 'varieti', 'vashtan', 'vatikan', 'vega', 'veganza', 'veggi', 'velvetescap', 'velvetunderground', 'vent', 'ventur', 'veronica78', 'verryyyyi', 'version', 'vertic', 'veryy', 'vespa', 'veteran', 'vettel', 'via', 'vibe', 'vicdeleon', 'vicequeenmaria', 'viciado', 'vid', 'video', 'view', 'violat', 'violetscruk', 'virgin', 'virus', 'visccer', 'visi', 'visit', 'vitamin', 'vivalacaitlin', 'vlad_dracul', 'vlog', 'vmcosta', 'vocal', 'vodka', 'volum', 'vome', 'vomit', 'vonster', 'vote', 'voter', 'voucher', 'vs', 'vthorn', 'vuitton', 'w1ng', 'waaay', 'waddley', 'waffl', 'wage', 'waimea', 'waist', 'wait', 'wake', 'wakeup', 'walk', 'walker', 'wall', 'wallac', 'wanna', 'wannnt', 'want', 'war', 'ward', 'warehous', 'warm', 'warmong', 'warp', 'warrior', 'wash', 'wasnt', 'wassup', 'wast', 'wat', 'watch', 'watchin', 'water', 'wateri', 'wave', 'wavi', 'wax', 'way', 'wayi', 'wbalradio', 'wbaustin', 'weapon', 'wear', 'wearetheocean', 'weather', 'web', 'websatan', 'websit', 'wed', 'wedg', 'wedgi', 'wednesday', 'weeeoooeeeoooeeeoooeeeooo', 'week', 'weekend', 'weenke', 'weerachel', 'weet', 'weight', 'weird', 'weird6', 'welcom', 'welkom', 'well', 'welll', 'wen', 'wenchi', 'went', 'went2abbq', 'werewolfjacob', 'west', 'westxguy', 'wet', 'weyburn', 'whale', 'what', 'whatev', 'whatiti', 'wheel', 'wheez', 'whereisnatasha', 'whip', 'white', 'whitneyhil', 'who', 'whoda1', 'whole', 'whoo', 'whoohoo', 'whyyyyi', 'wi', 'wicklowsatirist', 'wide', 'widest', 'wife', 'wifi', 'wih', 'wii', 'wikipedia', 'wild', 'will', 'willbelaught', 'william', 'willyoungfan', 'wilmington', 'win', 'winblow', 'wind', 'windi', 'window', 'wine', 'winkey', 'winner', 'winston', 'winter', 'wiper', 'wire', 'wireless', 'wisdom', 'wiser', 'wish', 'wisom', 'wit', 'witch', 'withh', 'without', 'wknd', 'wlwbackup', 'woah', 'woe', 'woke', 'wolf', 'wolfgoodfellow', 'wolv', 'wolverin', 'woman', 'women', 'womenâ', 'wond', 'wonder', 'wont', 'wonâ', 'woo', 'woohoo', 'woohooo', 'wooo', 'wooohooo', 'wooooosaaaa', 'woooowww', 'woop', 'woot', 'word', 'work', 'workin', 'workout', 'world', 'worm', 'worri', 'wors', 'worser', 'worshiplead', 'worst', 'worth', 'wossi', 'woud', 'would', 'wow', 'wppi', 'wrapper', 'write', 'wrong', 'wtf', 'wth', 'wuup', 'www', 'x1000000', 'x_sammybaby_x', 'xan', 'xantiriad', 'xbllygbsn', 'xd', 'xhelloxgoodbyex', 'xian', 'xllora', 'xma', 'xo_mcflyandjb', 'xocazza', 'xombiex', 'xoxo', 'xoxoxoxoxoxoxoxoxoxoxoxo', 'xskylin', 'xtra', 'xx', 'xxhale95', 'xxx', 'xxxx', 'ya', 'yaaaay', 'yaay', 'yah', 'yahoo', 'yanke', 'yao', 'yard', 'yawn', 'yay', 'yayerrrrzzzzz', 'yayi', 'yaz_100', 'yday', 'ydontifitin', 'ye', 'yea', 'yeah', 'yeahh', 'yeahhh', 'yeahhhh', 'year', 'yeh', 'yell', 'yellow', 'yep', 'yepâ', 'yesandm', 'yeslek8', 'yessireekristen', 'yessssa', 'yessssssssssss', 'yesterday', 'yet', 'yip', 'yippi', 'yo', 'yogagrl3', 'yoooou', 'york', 'youcanplaypiano', 'your', 'youtub', 'youu', 'youâ', 'yr', 'yum', 'yuma', 'yumichika', 'yumm', 'yummi', 'yummmi', 'yummy_flaquito', 'yungceo', 'yup', 'yvonneewonne', 'za', 'zack', 'zackalltimelow', 'zarlash', 'zecool', 'zeet75', 'zenwalk', 'zephoria', 'zinger', 'zirtec', 'zjelektra', 'zka', 'zokathepuppi', 'zomb1etron', 'zombbiee', 'zomg', 'zone', 'zoosapari', 'zorkfox', 'ºðÿ', '½ï', 'ðÿ']\n",
            "[[0 0 0 ... 0 0 0]\n",
            " [0 0 0 ... 0 0 0]\n",
            " [0 0 0 ... 0 0 0]\n",
            " ...\n",
            " [0 0 0 ... 0 0 0]\n",
            " [0 0 0 ... 0 0 0]\n",
            " [0 0 0 ... 0 0 0]]\n"
          ],
          "name": "stdout"
        }
      ]
    },
    {
      "cell_type": "code",
      "metadata": {
        "id": "PgULtz0sJZzh",
        "colab_type": "code",
        "colab": {
          "base_uri": "https://localhost:8080/",
          "height": 173
        },
        "outputId": "d1c2fe95-ec74-451e-d7c8-48ecc7e0d7ce"
      },
      "source": [
        "# Vectorize the text in terms of TF-IDF\n",
        "vectorizer3 = TfidfVectorizer(use_idf=True, smooth_idf=True, norm=None)\n",
        "array_TFIDF = vectorizer3.fit_transform(st_text).toarray()\n",
        "print( vectorizer3.get_feature_names() )\n",
        "print( array_TFIDF )"
      ],
      "execution_count": null,
      "outputs": [
        {
          "output_type": "stream",
          "text": [
            "['000', '03', '07', '08', '09', '10', '100', '103', '109', '10hr', '11', '11pm', '12', '14', '140', '14k', '15', '151', '16', '17', '18', '18k', '19', '1955', '1984', '1a', '1st', '20', '200', '20036', '2008', '2009', '2011', '2016', '21', '212', '21st', '22', '24', '25', '256kbp', '26', '27', '2am', '2day', '2do', '2moz', '2nd', '2nite', '30', '30am', '31', '33', '34', '39', '3am', '3g', '3pm', '3rd', '3wk', '40', '400', '40k', '40min', '41', '420', '430am', '4861', '490', '4am', '4billlewi', '4n', '4pm', '4skinmus', '4th', '514', '5am', '5th', '60', '60ish', '6am', '6hour', '6hr', '6pm', '70', '7am', '7mood', '7sick', '80', '800', '89c4', '8km', '90', '900', '9401', '9th', '_darling_nikki', '_ena_', '_niki_stardust_', 'a200', 'aaa', 'aaaand', 'aaaargh', 'aarrrggghhh', 'abandon', 'abc', 'aberdeen', 'abl', 'abort', 'abscess', 'absolut', 'absolutli', 'absorb', 'abt', 'acc', 'acc_shan', 'accchhh', 'accept', 'accesorri', 'access', 'account', 'acct', 'accur', 'ace', 'ach', 'achi', 'achiev', 'ack', 'aclaysup', 'across', 'act', 'action', 'activ', 'actual', 'ad', 'adamstrong', 'adbert', 'add', 'addict', 'adhd', 'adieu', 'ading', 'adistakim', 'administr', 'admit', 'adob', 'adolesc', 'adoooor', 'adopt', 'adoreamor', 'adult', 'advantag', 'advertis', 'advic', 'advil', 'advis', 'aerial', 'aerosmith', 'afford', 'afraid', 'afternoon', 'afterparti', 'afti', 'age', 'agent', 'agf', 'aggress', 'ago', 'agre', 'ah', 'aha', 'ahaa', 'ahah', 'ahaha', 'ahead', 'ahh', 'ahhh', 'ahhhh', 'ahhhhh', 'ahold', 'aim', 'aimeeward', 'aint', 'air', 'aircon', 'airport', 'aj_michalka', 'aka_varia', 'akardel', 'akiki03', 'al', 'ala', 'alancarr', 'alanpdx', 'alansheppard', 'alarm', 'album', 'alekandsteph', 'alert', 'alex', 'alexalltimelow', 'alexandraheus', 'alexisbp', 'algebra', 'alien', 'alijohnno', 'aliseeeeb', 'alitherunn', 'aliv', 'allanahdavi', 'allergi', 'allisonfisch', 'alllll', 'allot', 'allow', 'almost', 'alon', 'along', 'alongsidewild', 'alot', 'alpha', 'alreadi', 'alreadyyyy', 'alright', 'also', 'altern', 'alway', 'alwaystrynafight', 'alyrmichalka', 'amaz', 'amazin', 'amazing', 'amberelli', 'ambit', 'ambush', 'amen', 'amend', 'america', 'american', 'ameym21', 'amish', 'amodernmoth', 'amongst', 'amount', 'amp', 'analysi', 'andrew', 'andrewdisley', 'andria', 'andriavega', 'andycorney', 'anew', 'ang', 'angel', 'angelsmg321', 'angri', 'angst', 'anim', 'aniversari', 'anjj', 'annaaa19', 'annakabana', 'annettestatu', 'anni', 'annoy', 'anoth', 'answer', 'anthonybaxt', 'antidot', 'antiqu', 'antzpantz', 'anxiou', 'any1', 'anybodi', 'anymor', 'anyon', 'anyth', 'anyway', 'anywho', 'anz_rock', 'apart', 'ape', 'api', 'apolog', 'app', 'appar', 'appeal', 'appear', 'appl', 'appleinvestor', 'appli', 'applic', 'appoint', 'appreci', 'apprent', 'april', 'aprilblanch', 'aprilfmay', 'aprilknob', 'archuphil', 'ardenkaywin', 'area', 'arent', 'areyoume', 'argentina', 'argh', 'arghhhhhhhh', 'ari', 'ariellejuanito', 'arkham', 'arm', 'around', 'aroww333', 'arriv', 'arrow', 'ars', 'arsen', 'arsenalsarah', 'art', 'arthritiswalk', 'arthur', 'articl', 'articul', 'artist', 'arvo', 'asbo_t', 'asda', 'ashishrandhawa', 'ashleyxtellez', 'ashwin', 'ashy_109', 'asian', 'ask', 'askem', 'asleep', 'asot', 'asot400', 'asp', 'ass', 'assess', 'asshol', 'assign', 'assing', 'assist', 'assort', 'assur', 'asylum', 'ate', 'atl', 'atlanta', 'atleast', 'atomiclola', 'attach', 'attack', 'attempt', 'attent', 'atypicalart', 'au', 'aubreyoday', 'audaciousaudrey', 'audaciousgloop', 'audienc', 'audioinfect', 'audrey', 'aureliom', 'australia', 'authent', 'autist', 'automat', 'autumn', 'avail', 'avast', 'avatar', 'aveng', 'avoid', 'aw', 'awak', 'awar', 'awardsdaili', 'away', 'awe', 'awepra_com', 'awesom', 'awesome4lif', 'awh', 'awhil', 'awkward', 'awsom', 'aww', 'awww', 'awwwww', 'awwwwww', 'ayekayge', 'aze', 'azur', 'b4', 'babe', 'babi', 'babyjew', 'babysitt', 'babyy', 'back', 'backord', 'backyard', 'bad', 'badli', 'bag', 'bagel', 'bah', 'bahaha', 'bailey', 'bakersdog', 'balanc', 'balconi', 'ball', 'ballerina', 'ballsack', 'balmont', 'bamboozl', 'ban', 'banana', 'band', 'bangalor', 'bank', 'banner', 'banquet', 'banshe', 'bar', 'barbarn', 'barbecu', 'bare', 'barkingmonkey', 'barnicl', 'barron', 'bartschaneman', 'base', 'basebal', 'basic', 'bass', 'bassssssssssssssssssss', 'bat', 'bath', 'bathroom', 'batman', 'baton', 'batsask', 'batteri', 'battl', 'battlestar', 'batxcor', 'bawldguy', 'bawsten', 'baybeee', 'bb', 'bbc', 'bbi', 'bbillybilltweet', 'bbq', 'bc', 'bday', 'be', 'beach', 'beadiejay', 'bearfanron', 'beast', 'beastli', 'beat', 'beaten', 'beatl', 'beauti', 'beaver', 'becam', 'becom', 'bed', 'bedbug', 'bedddd', 'bee', 'beefi', 'beer', 'begin', 'begun', 'behav', 'behe', 'behind', 'bein', 'belgium', 'believ', 'bell', 'bella', 'bellafob', 'belli', 'ben', 'bencarson2016', 'bench', 'bend', 'bender', 'bengillam', 'benni', 'benshapiro', 'bentley', 'beogradoholik', 'berni', 'berniesand', 'besid', 'best', 'bestest', 'besti', 'bestial', 'bet', 'betsyweb', 'better', 'bettyfckinwhit', 'beyond', 'bff', 'bg', 'bgswanson', 'bhabb', 'bia', 'biasedgirl', 'biatch', 'bibl', 'big', 'bigger', 'biggest', 'bike', 'bikini', 'bikki', 'bill', 'billbeckett', 'bio', 'biog', 'biotch', 'bipartisan', 'bird', 'birthday', 'biscuit', 'biskup', 'bit', 'bit1', 'bitch', 'bite', 'bitter', 'biz', 'bizzar', 'bkgirlfriday', 'bkoka', 'black', 'blackberri', 'blackbird', 'blackeagl', 'blah', 'blahhhh', 'blame', 'blank', 'blast', 'blauwmp', 'bless', 'blind', 'blip', 'blister', 'blockag', 'blog', 'blogpost', 'blogtv', 'blond', 'blood', 'bloodi', 'blow', 'blowjob', 'blue', 'blueberri', 'bnrdebat', 'board', 'boast', 'boat', 'bob', 'boba', 'bobby_j_g', 'bodi', 'bodrum', 'bodysculptorokc', 'bogo', 'bomwollen', 'bon', 'bone', 'bonel', 'bonza', 'bonzablu', 'boo', 'boohoo', 'book', 'bookstor', 'boom', 'booo', 'booooo', 'boot', 'border', 'bore', 'boreddddd', 'borrow', 'boss', 'boston', 'bot', 'bother', 'bought', 'bounc', 'bound', 'bourgeoisalien', 'bout', 'boutta', 'bowl', 'box', 'boxer', 'boy', 'boyfriend', 'boyl', 'bradiewebbstack', 'bradmantv', 'bradradk', 'brain', 'brainstorm', 'bran1181', 'brand', 'brandon', 'brass', 'braxton', 'brazil', 'brb', 'bread', 'break', 'breakfast', 'breath', 'brendonuriesay', 'brenton', 'bretbaier', 'brewerkz', 'breyeschow', 'brian', 'brianangelday26', 'briannaxcnxcn', 'brianwilson38', 'briardesert', 'brick', 'bride', 'bridg', 'brief', 'briesca', 'bright', 'brillianc', 'brilliant', 'brilliantli', 'bring', 'brit', 'britain', 'brithum', 'britney', 'britthosey', 'brittney', 'bro', 'broadcast', 'broke', 'broken', 'brother', 'brought', 'brown', 'browni', 'broy', 'bsbaegirl', 'bsharp', 'bsilva', 'btw', 'btween', 'bu', 'bubbl', 'buck', 'buddi', 'budget', 'budweiserb', 'bug', 'bugger', 'build', 'bull', 'bum', 'bumper', 'bun', 'bunch', 'bundl', 'bunk', 'bunni', 'burger', 'burhop', 'buri', 'burn', 'burnt', 'burrito', 'bush', 'busi', 'businessmanâ', 'bustl', 'butt', 'butter', 'button', 'butudonthear', 'buuh1', 'buy', 'buzz', 'bye', 'byrn', 'bâ', 'cab', 'cabl', 'cabrissi', 'cadburi', 'cafe', 'cage', 'cahlan', 'caitlin', 'caitlinoconnor', 'cake', 'cal', 'calendar', 'calf', 'california', 'call', 'calm', 'calori', 'cam', 'camden', 'came', 'camera', 'camp', 'campin', 'campu', 'canada', 'canadian', 'canal', 'cancel', 'candi', 'candid', 'candyaddict', 'canel', 'canigetanaâ', 'caninez', 'cannot', 'cant', 'canuck', 'cap', 'cape', 'capitalv', 'captur', 'car', 'cara', 'caramelhoney', 'carcass', 'card', 'care', 'career', 'carlastephani', 'carli', 'carlyfiorina', 'carmengoblu', 'carolcacophoni', 'carpet', 'carrent', 'carson', 'cartbozman', 'carton', 'cartoonish', 'case', 'casey', 'cashback', 'cassiefx', 'cassieventura', 'cat', 'cat_1012000', 'catch', 'catherineld', 'caught', 'caus', 'cb', 'cbc', 'cbroom', 'cc', 'cd', 'cecycorrea', 'celebr', 'cell', 'cellphon', 'celtic', 'center', 'central', 'ceo_ingdirect', 'cephas38', 'ceremoni', 'certainli', 'challeng', 'chameleon', 'champagn', 'chan', 'chanc', 'chang', 'chap', 'chapter', 'char', 'charg', 'charles_gaba', 'charli', 'charliecond', 'charliepuppi', 'charliesaxton', 'charlott', 'charlotte_doyl', 'charmaineyoest', 'charmingrogu', 'chase', 'chat', 'cheaper', 'cheatxxdeath', 'check', 'cheek', 'cheeki', 'cheer', 'chees', 'chef', 'chefvanda', 'chelyabinsk', 'chemistri', 'cherri', 'cherrybear', 'cherubnkotb', 'chest', 'chester', 'cheth', 'chick', 'chicken', 'chiefy74', 'child', 'children', 'childsi', 'chili', 'chill', 'chillen', 'chilli', 'chillin', 'chimp', 'chin', 'china', 'chines', 'chocol', 'choic', 'chopper', 'chose', 'chri', 'chris_bc', 'chrisclaytondtn', 'chrisdjmoyl', 'christ', 'christi', 'christian', 'christianbrotherhood', 'christinacrayon', 'christineirml', 'christinetonkin', 'christy8_77', 'christydh', 'chriâ', 'chrysanthemum', 'chubb', 'chuck', 'chuckabl', 'chuoti', 'church', 'churn', 'cincydefend', 'cinderella_27', 'cinema', 'circa', 'citi', 'civil', 'cj', 'ck', 'ckimbro927', 'claim', 'claire_cordon', 'clairehearti', 'clasp', 'class', 'classic', 'classnam', 'clay', 'clean', 'cleanpowerplan', 'clear', 'clearli', 'clemen', 'cleveland', 'click', 'client', 'cliff', 'climat', 'climb', 'clinton', 'clip', 'close', 'closer', 'cloth', 'cloud', 'clover', 'clown', 'clowncardumpsterfir', 'club', 'clue', 'clueless', 'cmon', 'cnn', 'cnt', 'co', 'coach', 'coachella', 'cocktail', 'code', 'coffe', 'coil', 'coin', 'coke', 'cold', 'coldpizzaparti', 'coldwat', 'cole', 'coll', 'colleagu', 'collect', 'collector', 'colleg', 'color', 'colossu', 'com', 'combo', 'come', 'comedyqueen', 'comfort', 'comment', 'commerci', 'common', 'commun', 'commut', 'comp', 'compani', 'compar', 'compens', 'competit', 'complain', 'complaint', 'complet', 'completament', 'complex', 'complit', 'comput', 'concern', 'concert', 'concord', 'conduct', 'confer', 'confess', 'confrmd', 'confus', 'congest', 'congrat', 'congratul', 'congress', 'connect', 'consecut', 'conserv', 'construct', 'contact', 'contemporari', 'content', 'contest', 'continent', 'contracept', 'contract', 'contrast', 'conveni', 'convent', 'convers', 'convey', 'convict', 'cook', 'cooki', 'cookin', 'cool', 'coolest', 'cop', 'cope', 'corner', 'corolla', 'coronadorealtor', 'corpor', 'corrado_19', 'correct', 'correctli', 'corret', 'corrupt', 'cosmetosaur', 'cot', 'couch', 'could', 'coulda', 'couldnt', 'council', 'count', 'countri', 'countrysid', 'coupl', 'coupon', 'cours', 'courtneylegit', 'courtstothemax', 'cover', 'coverag', 'cowboy', 'cozi', 'cpf', 'craft', 'crafti', 'craic', 'cramp', 'cranial', 'cranki', 'crap', 'crapper', 'crappi', 'crash', 'crave', 'crawfish', 'crazi', 'crazier', 'cre8tivkj', 'creak', 'cream', 'creat', 'creativ', 'creatur', 'creek', 'creepi', 'creme', 'crenshawwwwwwwwww', 'crew', 'cri', 'crimpomat', 'crispi', 'critic', 'croatia', 'cross', 'crotch', 'crowd', 'cruis', 'crush', 'cruz', 'cs', 'cubandol', 'cubbi', 'cucumb', 'cud', 'cuddl', 'cullen', 'cult', 'cup', 'cupboard', 'cure', 'curri', 'curs', 'curtiswalk', 'custom', 'cut', 'cute', 'cutest', 'cuuuut', 'cuz', 'cuzzzz', 'cv', 'cya', 'cyberfux', 'd0lliee', 'd_trix', 'da', 'dad', 'daddi', 'dah', 'daili', 'daily_pinch', 'daisi', 'dakota', 'dale', 'dalla', 'dammit', 'damn', 'damnit', 'danasdirt', 'danc', 'danecook', 'daniel', 'danni', 'dannywood', 'danthedaddi', 'dare', 'darent', 'dark', 'darn', 'darrenrosario', 'databas', 'date', 'daughter', 'dave', 'daveanddaveshow', 'davem05', 'david', 'davidbattersbi', 'dawn', 'dawnrichard', 'day', 'daycamp', 'daylight', 'daym', 'dbongino', 'ddlovato', 'ddtdc', 'dea', 'dead', 'deadlin', 'deal', 'dean', 'dear', 'death', 'debat', 'debatewithberni', 'debdoyl', 'dec', 'decent', 'decid', 'decis', 'deck', 'decor', 'dedic', 'deelishdish', 'deep', 'def', 'defeat', 'defend', 'defens', 'defin', 'definit', 'deflateg', 'deftonesfreek', 'defund', 'degre', 'dehydr', 'deiber', 'deiss', 'delay', 'delet', 'delhi', 'deli', 'delic', 'delici', 'delight', 'deliv', 'deliveri', 'dell', 'demand', 'demi', 'democrat', 'demon', 'dendragon', 'denicesi', 'denmark', 'dental', 'dentist', 'depart', 'depend', 'depress', 'deray', 'dero', 'deron', 'describ', 'describehowitlook', 'deserv', 'design', 'designmama', 'desk', 'desktop', 'develop', 'devic', 'devign', 'devil', 'dh', 'dhoni', 'diamond', 'diana', 'dianarusso', 'dickless', 'didnt', 'die', 'diego', 'diet', 'differ', 'difficult', 'dilapid', 'dilat', 'dilemma', 'dim', 'dineeden', 'dinner', 'dinnertim', 'diplomtc_immnti', 'direct', 'directli', 'director', 'dirti', 'disagr', 'disagre', 'disappoint', 'disappointingli', 'disconnect', 'discov', 'discuss', 'dish', 'dishonest', 'dislik', 'disney', 'disorgan', 'display', 'disrupt', 'dissert', 'distant', 'distract', 'ditucci', 'diysara', 'djackmanson', 'djdrizzl', 'djleonsmith', 'djokov', 'dm', 'dman', 'dmitriy_ush', 'dne', 'dneg987', 'dnf', 'dnt', 'do', 'doc', 'doctor', 'doctorfollowil', 'dodd', 'dodger', 'dodgerblueopj', 'doesnt', 'dog', 'doin', 'dolapder', 'dollar', 'domain', 'domest', 'domin', 'donald', 'donaldtrump', 'done', 'donnel', 'donni', 'donniewahlberg', 'dont', 'doo', 'doom', 'doooo', 'door', 'dope', 'dork', 'doss', 'doubl', 'doubledipchip', 'doubt', 'dougbenson', 'dough', 'dougiemcfli', 'dougii', 'dougla', 'douglasbass', 'dougstanhop', 'downfal', 'download', 'downloadfestiv', 'downstair', 'doxycyclin', 'dozen', 'dq', 'dr', 'draft', 'drama', 'draw', 'drbencarson', 'drdogbert', 'dream', 'dreana', 'dress', 'drewnat', 'dri', 'drii', 'drink', 'drinkin', 'drip', 'drive', 'driver', 'drivinggg', 'drobo', 'drobopro', 'droopi', 'drop', 'drowninginkid', 'drrnlvngstn', 'drtabor', 'drudge_report', 'drug', 'drum', 'drunk', 'drunkdemocraci', 'drunkjcrew', 'drunkjcrewuguy', 'drunnkk', 'duck', 'duckydynamo', 'dud', 'dude', 'due', 'dug', 'duh', 'duke', 'dumb', 'dump', 'dunno', 'dunoxbliss', 'dunzo', 'dupont', 'dvd', 'dye', 'dyingg', 'dyke', 'dylansong', 'e90', 'eachoth', 'eager', 'eagl', 'ear', 'earli', 'earlier', 'earn', 'earphon', 'earth', 'easi', 'easier', 'easili', 'eastend', 'easter', 'eat', 'eaten', 'eattt', 'eb_the_celeb', 'ebay', 'ebuddi', 'ecto__1', 'ed', 'eden', 'edit', 'edom', 'educ', 'edward', 'edx', 'eeri', 'eetwiz', 'effect', 'egg', 'eh', 'ehh', 'ehhh', 'eight', 'ein', 'einsteinboi', 'either', 'ejg2', 'elanaroth', 'eldiablito_72', 'elect', 'election2016', 'electrik', 'electron', 'eleg', 'elev', 'elhubcapo', 'elianarod', 'elizabeth', 'ellen', 'elois', 'els', 'em', 'email', 'embassadi', 'eme', 'emili', 'emma', 'emoltzen', 'emporium', 'empti', 'en', 'end', 'energi', 'enforc', 'engin', 'england', 'english', 'enjoy', 'enlazado', 'enough', 'enrich', 'enslav', 'enter', 'enterpris', 'entertain', 'entir', 'envi', 'enviou', 'environ', 'ep', 'epa', 'epic', 'episod', 'equival', 'er', 'eric', 'ericlovato', 'erinpepp', 'errand', 'error', 'es', 'escal', 'esmeeex', 'especi', 'esquimalt', 'essex', 'establish', 'estar79', 'estonia', 'esxi', 'etc', 'etern', 'eterna1dream', 'eugen', 'eugenekan', 'europ', 'evah', 'eve', 'even', 'ever', 'everest', 'everi', 'everybodi', 'everyon', 'everyth', 'evid', 'evil', 'evilscientist', 'eviscer', 'ewwww', 'exactli', 'exam', 'excel', 'except', 'exchang', 'excit', 'exclam', 'exclus', 'excus', 'exercis', 'exhaust', 'exist', 'exmi', 'expect', 'expedit', 'expens', 'experi', 'expir', 'explain', 'explor', 'expos', 'express', 'extend', 'extens', 'extra', 'extrem', 'eye', 'eyebrow', 'eyedrop', 'f1', 'fab', 'fabul', 'face', 'facebook', 'faceboook', 'facial', 'fact', 'factor', 'fade', 'faeristar', 'fail', 'failur', 'fair', 'fairi', 'fairli', 'faith', 'faithfulchosen', 'fajah', 'fake', 'fakegerrybutl', 'fakerpattypattz', 'fall', 'fallenstar_', 'fam', 'famili', 'familiar', 'fan', 'fanta', 'far', 'faraday', 'farc', 'farmer', 'farmerfr', 'fashion', 'fashionesedaili', 'fast', 'fat', 'father', 'fav', 'fave', 'favel', 'favor', 'favorit', 'favour', 'fax', 'fb', 'fc', 'fear', 'fearnecotton', 'fearsom', 'featur', 'fed', 'feed', 'feedback', 'feeenz', 'feel', 'feelin', 'feelthebern', 'feen', 'feet', 'fell', 'fella', 'fellow', 'felt', 'femal', 'feral', 'fergie_spud', 'ferrari', 'festiv', 'ff', 'fi', 'field', 'fight', 'figur', 'figuromo', 'file', 'fill', 'film', 'finagl', 'final', 'financ', 'financi', 'find', 'fine', 'finga', 'finger', 'finish', 'finnish', 'fiorina', 'fire', 'firefox', 'firetruck', 'first', 'fish', 'fit', 'fitsme2', 'five', 'fix', 'fixtur', 'flag', 'flake', 'flatter', 'flee', 'flew', 'flex', 'fli', 'flickr', 'flight', 'flock', 'flood', 'floor', 'floorboard', 'floria', 'florida', 'flower', 'flowin', 'flu', 'fm', 'fml', 'fo', 'focu', 'foe', 'fold', 'folio', 'folk', 'follow', 'followfriday', 'followinq', 'food', 'foodtecc', 'foolish', 'foootbal', 'foot', 'footbal', 'footi', 'forens', 'forest', 'foreteen', 'forev', 'foreverkid', 'forget', 'forgiv', 'forgot', 'forgotten', 'form', 'formal', 'formula', 'forth', 'forum', 'forward', 'found', 'four', 'fourth', 'fox', 'foxandfriend', 'foxnew', 'foxtv', 'fr', 'fractor', 'fragilecappy33', 'frame', 'fran6', 'franc', 'frank', 'franki', 'frankiethesat', 'frankluntz', 'frankston', 'freak', 'fred', 'fredtouch', 'free', 'freebi', 'freebird', 'freedomjames7', 'freez', 'freezer', 'french', 'frend', 'fresh', 'freyatom', 'friday', 'friend', 'friendship', 'friendster', 'frighteningli', 'fring', 'front', 'frost', 'fruit', 'frustrat', 'fuck', 'fuckyoutwittermsnandfacebook', 'fulfil', 'full', 'fulli', 'fumb', 'fumig', 'fun', 'function', 'funni', 'funyun', 'furiou', 'futur', 'fyi', 'ga', 'gabber', 'gabi', 'gaga', 'gah', 'gal', 'galactica', 'game', 'gang', 'garcevisag', 'garden', 'garyshort', 'gastric', 'gather', 'gauchat', 'gav', 'gave', 'gay', 'gb_ball', 'gdragon', 'gdrayson', 'gear', 'geat', 'geek', 'gene', 'geneforeman', 'gener', 'geneseo', 'genki_desu', 'geographi', 'germainlussi', 'germani', 'germi', 'gertrudesteinjr', 'get', 'gettin', 'gf', 'gfalcone601', 'gg', 'ggn', 'giant', 'gibt', 'gift', 'gig', 'giggypig', 'giiirrrlll', 'gilmor', 'gimm', 'ginger', 'gingerb', 'gingercak', 'girl', 'girli', 'gisburn', 'give', 'giveaway', 'given', 'glad', 'gladston', 'gladysrobl', 'glasgow', 'glass', 'glibc', 'glitterboot', 'global', 'glori', 'gloriou', 'glue', 'gluten', 'gmt', 'gn', 'gnaw', 'gnu', 'go', 'goal', 'god', 'goddess', 'goe', 'goin', 'golden', 'goldymom', 'golf', 'gona', 'gone', 'gonna', 'goo', 'good', 'goodby', 'goodcharlott', 'goodi', 'goodmorn', 'goodnight', 'goof', 'googl', 'goooood', 'gooooood', 'gop', 'gop2016', 'gopdeb', 'gopdebateâ', 'gopdebatâ', 'goptbt', 'gopâ', 'gorgeou', 'gosh', 'gossipgirl', 'got', 'gotta', 'gotten', 'govchristi', 'goâ', 'gp', 'gpforhir', 'grade', 'graduat', 'grahamwilkinson', 'grand', 'grandeastangliarun', 'grandpar', 'graphic', 'grate', 'gravyfloid', 'gray', 'greasyyyyyyyy', 'great', 'greatest', 'greatli', 'green', 'gretaston', 'grip', 'groceri', 'gross', 'ground', 'group', 'grouper', 'grow', 'grown', 'grrr', 'grrrrr', 'grshane', 'gt', 'gtg', 'guarante', 'guess', 'guest', 'guilti', 'guinea', 'guitar', 'guna', 'gunna', 'gush', 'gut', 'gutsi', 'guy', 'guykawasaki', 'gw212', 'gym', 'gâ', 'ha', 'haa', 'haaappi', 'haha', 'hahah', 'hahaha', 'hahahah', 'hahahaha', 'hahahahahha', 'hahha', 'haii', 'hail', 'hailsatan', 'hair', 'haircut', 'haley', 'half', 'halhefn', 'halleloo', 'halloween', 'halmiton', 'halspark', 'ham', 'hammer', 'hamster', 'hand', 'handbag', 'handcramp', 'handcuff', 'handl', 'hang', 'hangin', 'hangov', 'hannah', 'hannahmei', 'hannanananana', 'hanser', 'happen', 'happi', 'happier', 'happycassi', 'hapson', 'hard', 'hardbal', 'hardcor', 'harder', 'harri', 'harsh', 'hasnt', 'hassl', 'hate', 'hatton', 'hav', 'havent', 'havin', 'hawaii', 'hawk', 'hay', 'hayfev', 'haylieoffici', 'hbmari', 'hd', 'he', 'head', 'headac', 'headach', 'headbut', 'headlin', 'heal', 'health', 'healthi', 'heaptweet', 'hear', 'heard', 'heart', 'heartbroken', 'heartburn', 'hearthepop', 'hearti', 'heather', 'heatherann02', 'heatherbond', 'heathersmus', 'heaven', 'heavi', 'heck', 'heehe', 'heh', 'hehe', 'heheheh', 'heheheheheee', 'heidi', 'heidimontag', 'hell', 'hella', 'hello', 'hellocupcakex3', 'hellp', 'helmet', 'help', 'helper', 'helpfindmychild', 'helsinki', 'hemdash', 'hemotologist', 'herb1906', 'hereistheansw', 'hernia', 'hero', 'heroesforaut', 'herround', 'hewbal', 'hey', 'hhahahaha', 'hheellppp', 'hi', 'hib', 'hiccup', 'hick', 'high', 'higher', 'highschool', 'hilari', 'hill', 'hillari', 'hillaryclinton', 'hind', 'hiptop', 'hiredâ', 'histor', 'histori', 'hit', 'hitman', 'hiya', 'hmichaelharvey', 'hmm', 'hmmm', 'hob', 'hol', 'hold', 'holi', 'holiday', 'holler', 'hollykins83', 'holyshit', 'home', 'homemad', 'homework', 'homi', 'hon', 'honest', 'honestli', 'honey', 'honey3223', 'honor', 'hoo', 'hood', 'hoodwink', 'hook', 'hookah', 'hooligan', 'hooo', 'hooray', 'hop', 'hope', 'horni', 'horrend', 'horribl', 'horrid', 'horror', 'hors', 'hortovanyi', 'hospit', 'host', 'hostag', 'hostgat', 'hot', 'hotel', 'hotmail', 'hotspot', 'hotwet', 'hour', 'hourglass', 'hous', 'housecracka', 'housework', 'hover', 'how', 'howr', 'hp', 'hpstrfggt', 'hr', 'hrc', 'hrhf', 'hrim', 'hs', 'hsm', 'huayruro', 'hubbi', 'huckabe', 'hug', 'hugan', 'huge', 'hugh', 'huh', 'human', 'humanpincushion', 'hump', 'hun', 'hundr', 'hung', 'hungov', 'hungri', 'hunt', 'hurt', 'hurtttt', 'husband', 'hustler', 'hutsoncap', 'huy', 'hvar', 'hw', 'hyper', 'hypocrit', 'iam', 'iamgmjohnson', 'iamnuttzo', 'iangarytweet', 'ibu', 'ice', 'icecream', 'iceisawesom', 'iceland', 'icjackson', 'icn', 'id', 'idc', 'idea', 'ideia', 'ident', 'idiot', 'ie6', 'ignor', 'ihealth', 'iheartniyi', 'ihop', 'il', 'ill', 'illeg', 'illlll', 'ilov', 'im', 'ima', 'imagin', 'imaginarypeach', 'imissy', 'imma', 'immedi', 'immigr', 'impend', 'importantli', 'importantt', 'impress', 'improv', 'incid', 'incom', 'increas', 'incred', 'independantli', 'indetad', 'indian', 'indo', 'indulg', 'industri', 'ineffect', 'infect', 'infinit', 'influenc', 'info', 'inform', 'ing', 'ingrahamangl', 'ingredi', 'inhuman', 'injuri', 'inque54', 'insan', 'insertemolyr', 'insid', 'insomnia', 'inspir', 'inspiremetoday', 'instal', 'instanc', 'instead', 'instrument', 'insult', 'insur', 'intelectu', 'intellect', 'intellig', 'intens', 'intent', 'interest', 'interfer', 'interior', 'intern', 'internationalbeerday', 'internet', 'interview', 'intrigu', 'intro', 'introduc', 'intrupt', 'invisiblespark', 'involv', 'ionacosmet', 'ipass', 'iphon', 'iphone', 'ipl', 'iplay', 'ipod', 'ipswich', 'irand', 'iraq', 'iraqi', 'ire', 'irish', 'iron', 'ironi', 'irrit', 'isi', 'islam', 'island', 'isnt', 'isol', 'israel', 'iss', 'issu', 'isthisajok', 'isync', 'itali', 'itchi', 'itchyyyy', 'item', 'itsdgc', 'itsdimitri', 'itsjamieeexo', 'itt', 'itttt', 'iv', 'ivan', 'ive', 'iwantocri', 'izzyj_is_her', 'jacinta', 'jackalltimelow', 'jacket', 'jacob', 'jacque_s_', 'jacuzzi', 'jacvanek', 'jadeofjad', 'jaim', 'jakarta', 'jalapeno', 'jam', 'jamesjay', 'jamesmb', 'jamiaw', 'jamie_oliv', 'jammi', 'jammin', 'janeefung', 'jangl', 'jao', 'japanes', 'jarango', 'jason', 'jasonbradburi', 'jasonstathamno1', 'jaspercullen', 'java', 'jaxnmelodi', 'jay', 'jaybrannan', 'jayfing', 'jaylastarr', 'jaymcc', 'jazzzzz', 'jb', 'jbazer', 'jd', 'jealou', 'jeaniemarshal', 'jeb', 'jebbush', 'jecsa', 'jeeehhhaaaaa', 'jeep', 'jeff', 'jeffpulv', 'jeij', 'jeje', 'jelaou', 'jelli', 'jelsa', 'jenbishopsydney', 'jenlar', 'jennchambless', 'jenni', 'jennif', 'jenperez', 'jenrose28', 'jenseali', 'jenson', 'jerichok', 'jerri', 'jerry_holbert', 'jersey', 'jess', 'jessdubb', 'jessleigh83', 'jesu', 'jewish', 'jim', 'jimalg', 'jimmers31', 'jimmy_poodl', 'jimmyrock', 'jimtrue48', 'jizziztheshiz', 'jjauthor', 'jjproject', 'jk', 'jkatet', 'jmo', 'joaqui', 'job', 'jobinterview', 'jobro', 'jodi', 'joe', 'joelcomm', 'joemadison', 'joeyjoeyjoey', 'joeykram', 'joeymcintyr', 'jofarnold', 'jog', 'john', 'john_stan', 'johncmay', 'johnkasich', 'johnlloydtaylor', 'johnmayerrock', 'johnson', 'johnwaynewest', 'join', 'joke', 'joker', 'jon', 'jona', 'jonathan', 'jonathanrknight', 'jondo', 'jonesforradio', 'jong', 'jono', 'jonstewart', 'jonz', 'jordan', 'jordankgirl', 'jordanknight', 'jordi', 'josh', 'joshfulf', 'joshinthe818', 'journal', 'journey', 'joy', 'joytribbl', 'jp', 'jpack', 'jr', 'jsc1835', 'jst', 'jsu', 'ju', 'judea', 'judg', 'juggl', 'juic', 'juillet', 'juin', 'juju', 'jukebox', 'julesrgb', 'juli', 'juliansimpson', 'jump', 'jumpin', 'june', 'junk', 'junki', 'jusink', 'just_jdream', 'justjeanni', 'justjessxo21', 'justtoblazethingsupthismorn', 'k8k', 'ka', 'kaplan', 'kara', 'karaok', 'kardashian', 'karenbm', 'karl_sans_marx', 'kasey', 'kasi', 'kasich', 'katearonoff', 'katecliffen', 'katerina', 'katiel777', 'katn', 'katofawesom', 'katy0819', 'kazey_', 'kchenoweth', 'kcomer', 'keep', 'keepin', 'keepup', 'keither_buckley', 'kelli', 'kelly__rowland', 'kellyyi', 'kenni', 'kept', 'ketchup', 'kevin', 'kevinport', 'kevinprinc', 'kevinros', 'kezxx', 'khensu83', 'khodgkin1', 'ki', 'kiana', 'kick', 'kickin', 'kid', 'kiddin', 'kiernan', 'kilian', 'kill', 'killer', 'killn', 'kilo', 'kiloko_', 'kim', 'kimkardashian', 'kind', 'kinda', 'kingbigl', 'kingdom', 'kingsth', 'kirisutegomen4', 'kirsti', 'kirstiealley', 'kiss', 'kitchen', 'kitchengirljo', 'kitten', 'kitti', 'kitty2dakat', 'kkimberlyyi', 'kkkorgop', 'kkkoâ', 'klang', 'klubfil', 'knew', 'knit', 'know', 'knowledg', 'known', 'knox', 'ko', 'koch', 'kodakoda', 'komvux', 'konalowel', 'konzert', 'koogar', 'koolhipchica', 'kpereira', 'krasnostein', 'kristen_paint', 'kristianlalib', 'krub', 'ksw1ss', 'ktleh', 'kutner', 'kwrcrow', 'kyleman2008', 'kylinmc', 'l_face', 'la', 'laatina', 'lab', 'label', 'lace', 'lack', 'lacochina_1', 'lacuna', 'ladi', 'ladyfro', 'ladygaga', 'laidashian', 'laker', 'laksa', 'lamb', 'lame', 'lana_berri', 'land', 'languag', 'lankan', 'lantern', 'lap', 'lapel', 'laptop', 'laraslatteri', 'larger', 'larinal', 'larryeld', 'laryng', 'lasagn', 'lasagna', 'last', 'late', 'later', 'latermom', 'latinluvli', 'latino', 'laugh', 'launch', 'launchgum', 'laundri', 'laurenrodriguez', 'laurenyoung', 'lauryn', 'lautner', 'law', 'lawn', 'lay', 'layin', 'laymen', 'layoff', 'lboi', 'lead', 'leader', 'leaf', 'leahcimmick', 'lean', 'learn', 'least', 'leather', 'leatherhead', 'leav', 'lebowski', 'led', 'leed', 'left', 'leg', 'legal', 'legend', 'legendarytvac', 'lego', 'leigh', 'lemur', 'leonardosuarez', 'lesanto', 'lesbian', 'lesfab', 'lesleyt', 'less', 'lesser', 'lesson', 'let', 'letter', 'levi', 'lexmark', 'lfta', 'lgbtq', 'liber', 'libertarian', 'librari', 'lick', 'lickmycupcak', 'liddo', 'lie', 'lien', 'life', 'light', 'lightn', 'like', 'likesunday', 'likewhoaxox', 'lil', 'lili', 'lilli', 'lillsnyggv', 'lilredroost', 'lilylauren', 'lilyroseallen', 'lindasuhl', 'linden', 'line', 'lineup', 'linieeh', 'link', 'linkedin', 'linux', 'lip', 'liquor', 'lisa', 'lisawalsh', 'lisbon', 'list', 'listen', 'listo', 'liter', 'literatur', 'littl', 'live', 'livelavalish', 'livelove_act', 'liz', 'lizinhollywood', 'lizstrauss', 'lizwoolli', 'llcoolj', 'llorracanit', 'lmao', 'lmaooo', 'lmfao', 'lmfaooo', 'lmpotter', 'lo', 'load', 'loaf', 'local_music_fan', 'localtweep', 'locat', 'log', 'logancarrigan', 'logic', 'login', 'lol', 'lolhayley', 'lolz', 'london', 'lone', 'lonestarshin', 'long', 'longer', 'look', 'lookin', 'looooooov', 'loop', 'loos', 'lopez', 'lora', 'lord', 'lorigarlington', 'lose', 'loser', 'loss', 'lost', 'lot', 'lotteri', 'loudli', 'loui', 'louie', 'louis', 'louisebrig', 'louiseredknapp', 'louistag', 'loung', 'lousi', 'love', 'lovebaro', 'loveeee', 'lovemy4son', 'lover', 'lovin', 'low', 'lrihendri', 'lron_jaii', 'lt', 'luci', 'luck', 'lucki', 'lucysieben', 'luke', 'lukebourassa', 'lunch', 'lunchtim', 'luthier', 'luv', 'luve', 'luvtisdalexx', 'lvcraze', 'lycra', 'lynaaselena', 'lynn', 'lyric', 'lyricsoul', 'mac', 'mac_in_to', 'macbook', 'machin', 'mackoji', 'mad', 'madamsalami', 'madbrad', 'made', 'madisonsiriusxm', 'madly59', 'madonna', 'madpsaila', 'madrid', 'mag', 'magazin', 'maggi', 'magnetoboldtoo', 'magnific', 'mahbooba', 'mahjong', 'mail', 'main', 'maiseyg', 'maja', 'majestic76', 'major', 'makavi', 'make', 'makeup', 'makin', 'makki', 'malacca', 'mall', 'maloublom', 'malta', 'maltes', 'mama', 'mamasphor', 'man', 'manag', 'manchest', 'mandi', 'mandy_velez', 'mandyluvsjbx3', 'mani', 'manic', 'manic_nimrod', 'manicurist', 'manli', 'mannnnnuel', 'manson', 'manuel', 'map', 'marathon', 'march', 'marcorubio', 'marcusmansfield', 'marcusnbc4', 'mareensher', 'margarhita', 'margin', 'marginatasnaili', 'mari', 'maria', 'mariah', 'mariahcarey', 'marialiacalvo', 'marianna', 'mariapetersen', 'mark', 'mark_uk_n', 'markdavi', 'markdavidgerson', 'market', 'markthetrain', 'marlborough', 'marli', 'marlin', 'marmaduk', 'marnieblaz', 'marthastewart', 'martin', 'martini', 'marymauldin', 'mash', 'mashablenew', 'mashallah', 'mass', 'massag', 'massila', 'massiv', 'master', 'masterpiec', 'match', 'mate', 'materi', 'matey', 'math', 'matt', 'mattbovel', 'matter', 'mattgoldich', 'matthewgow', 'matthewrrr', 'matulog', 'maud', 'mauer', 'max', 'maxime68', 'may', 'mayb', 'mayer', 'mb', 'mbile', 'mccarthi', 'mcfli', 'mcg', 'mckennaxscream', 'mcrisapleasur', 'mcvie', 'md', 'meal', 'mean', 'meani', 'meant', 'mear', 'measur', 'meatrack', 'mebb', 'media', 'media140', 'medvedev', 'medyo', 'meet', 'megan', 'meghanmagnolia', 'megkautz', 'megynkelli', 'megynkellydebatequest', 'meh', 'mehmet', 'melissamapl', 'melry217', 'member', 'memo', 'memor', 'memori', 'men', 'mengkia', 'mentalhealth', 'mention', 'mercedesschlapp', 'merch', 'merclev', 'mere', 'merit', 'merseym', 'mess', 'messag', 'messi', 'met', 'meta', 'metnightowl', 'mewok', 'mexico', 'meâ', 'mfare', 'mhmm', 'mi', 'miami', 'michaelgraing', 'michelle3889', 'michelleel', 'michpe', 'micnew', 'microwav', 'mid', 'middl', 'midlifecrunch', 'midnightmovi', 'midterm', 'might', 'migrat', 'miguel', 'mikasound', 'mike', 'mikediaz1977', 'mikeklingl', 'miladi', 'mile', 'miley', 'mileycyru', 'militari', 'milk', 'miller', 'million', 'milpita', 'mimmosa', 'min', 'mind', 'mine', 'mini', 'minn', 'minni', 'minor', 'mint', 'minut', 'mira', 'miracl', 'mirageinblu', 'misogyni', 'miss', 'miss_paula', 'miss_tattoo', 'missbridg', 'missin', 'missio', 'misskatiepric', 'misssssss', 'missu', 'missxmarisa', 'mistak', 'mistaken', 'misternv', 'mistygirlph', 'mix', 'miz_l', 'mj', 'mmerii', 'mmm', 'mmmbailey', 'mmmm', 'mmmmmm', 'mmolnaird', 'mo', 'moa', 'mobil', 'mockeri', 'mode', 'model', 'modem', 'moder', 'modern', 'modhumanvintag', 'modul', 'moeruhim', 'mofgimm', 'mojo', 'molli', 'mom', 'moment', 'mommi', 'mompreneur', 'monaeltahawi', 'monday', 'monee', 'money', 'mongi', 'monika29', 'monkey', 'monopoli', 'monro', 'monster', 'month', 'mood', 'moogabe', 'moon', 'moonshin', 'moony394', 'mooooomm', 'mooooorn', 'mooree', 'moral', 'moriahs', 'morn', 'mornin', 'morrica', 'morrow', 'mosaic', 'mosquito', 'mostli', 'mother', 'motiv', 'motivationmama', 'motleycru', 'motor', 'motrayli', 'moulin', 'mountain', 'mourn', 'mous', 'mouss', 'mouth', 'move', 'movi', 'moviego', 'movin', 'mow', 'mower', 'mozgovaya', 'mp3', 'mqu', 'mr', 'mr_cf', 'mrsam', 'mrtrev', 'ms', 'msg', 'msn', 'msnbc', 'mt', 'mth', 'mtvthehil', 'muar', 'much', 'muffin', 'muh', 'multiview', 'mum', 'mumbai', 'mummi', 'muna', 'munkeysi', 'muscl', 'museum', 'mushh', 'music', 'musician', 'mussomitchel', 'must', 'mustin', 'mute', 'mutual', 'mybe', 'myfax', 'myria101', 'myspac', 'myth', 'mzdavi', 'mâ', 'n0w', 'na', 'nada', 'nadal', 'nage', 'nagoya', 'nagshow', 'nah', 'nail', 'nake', 'name', 'nancivega', 'nanni', 'nantwich', 'nap', 'naplan', 'nasal', 'nasti', 'nathan', 'nathanayr', 'natur', 'nava', 'naw', 'nba', 'ncaa', 'nd144', 'ne', 'near', 'nearbi', 'nearli', 'neat', 'necess', 'neck', 'need', 'needa', 'nef', 'neg', 'neighbour', 'neilcurri', 'neiltamplin', 'neither', 'neon_pastel', 'neotech2020', 'nerd', 'nerdist', 'nerv', 'net', 'network', 'neue', 'nevah', 'never', 'nevermind', 'new', 'newcastl', 'newport', 'news', 'next', 'ngiacmk', 'nice', 'niceguysfre', 'nick', 'nick_cart', 'nick_jjp', 'nick_man', 'nicol', 'nicolerichi', 'nicolesssss', 'nicolett', 'nifti', 'night', 'nighter', 'nighthustl', 'nighti', 'nih', 'nikischerzing', 'nikki', 'ninkybink', 'nirvanaarch', 'nite', 'nithinkd', 'niub', 'nix', 'nkcia', 'nkotb', 'nm', 'no1panicfan', 'noamnesti', 'nob', 'nobodi', 'noe', 'nois', 'nomine', 'nomnomnom', 'non', 'none', 'nonsens', 'noodl', 'noon', 'nooo', 'noooo', 'nooooo', 'noooooooooooo', 'nooooooooooooooooooooo', 'nope', 'norajona', 'norway', 'norwich', 'nostalg', 'note', 'noth', 'nothin', 'notic', 'notif', 'novawildstar', 'novo', 'nowaytori', 'noww', 'nragins1', 'ntc', 'nudg', 'nuff', 'nuishow', 'number', 'nun', 'nurs', 'nut', 'nuttychri', 'nvfn', 'ny', 'nyc', 'nyt', 'o_o', 'obama', 'oblig', 'obsess', 'obtain', 'obv', 'obviou', 'obvious', 'occup', 'occupi', 'oceanup', 'odd', 'odessa', 'ofcours', 'off', 'offer', 'offic', 'officali', 'offici', 'officialtl', 'offshor', 'offspr', 'often', 'oftenimprud', 'oh', 'ohh', 'ohhhh', 'ok', 'okay', 'okayi', 'okcupid', 'old', 'older', 'oledi', 'oliv', 'ollyog', 'olympu', 'omega', 'omfg', 'omfgitskris276', 'omg', 'omggg', 'omgsarahsay', 'one', 'onlin', 'onto', 'oodl', 'ooh', 'ooo', 'oooh', 'oooof', 'ooooh', 'ooop', 'oop', 'oopsi', 'op', 'open', 'openhacklondon', 'opinion', 'opportun', 'opposit', 'oprah', 'oracl', 'oral', 'orang', 'orchid', 'order', 'oregon', 'organ', 'organis', 'origin', 'orrr', 'os', 'oscar', 'other', 'otherwis', 'ouch', 'ought', 'outbound', 'outdoor', 'outgrow', 'outlet', 'outlook', 'outsid', 'outta', 'oven', 'overdos', 'overdr', 'overh', 'overhead', 'overnight', 'overslept', 'ovom', 'own', 'owner', 'owww', 'owwww', 'owwwww', 'oxoxoxoxoxooxoxox', 'ozzi', 'pa', 'pab', 'pablo', 'pack', 'packag', 'padvorac', 'page', 'paid', 'pain', 'paint', 'palac', 'palinod', 'palmetto_star', 'pambrossman', 'pamelagel', 'pamper', 'pancak', 'panda', 'pandamayhem', 'pant', 'papacut', 'papalazar', 'paper', 'paperless', 'paradisej', 'paramor', 'parent', 'parenthood', 'pari', 'park', 'part', 'parti', 'partial', 'pass', 'passag', 'passion', 'password', 'past', 'pastor', 'pat', 'pathet', 'patrick', 'patricksvitek', 'pattern', 'pattonoswalt', 'paul', 'paulamackay', 'pauldotcom', 'pauliecook', 'pauljchamb', 'paulteln', 'paxsarah', 'pay', 'payday', 'paygee', 'payless', 'pbo', 'pcd', 'peac', 'peanut', 'pearl', 'pee', 'peep', 'pemb', 'penniless', 'pennysa', 'peopl', 'perc08', 'perezhilton', 'perfect', 'perfectli', 'perform', 'perhap', 'period', 'perpetr', 'perri', 'person', 'perspect', 'perv', 'pet', 'peter', 'petewentz', 'petti', 'pettyf', 'peyton', 'pftcomment', 'pfunk', 'phd', 'phenomen', 'phew', 'philgoyen', 'philippin', 'phillip', 'philomathickat', 'phone', 'photo', 'photographi', 'phpmotion', 'physic', 'pic', 'pick', 'picnic', 'pictur', 'picturepostcard', 'piec', 'pig', 'pike', 'pimp', 'pimpsnho', 'pin', 'pingyao', 'pink', 'pinkberri', 'pinki', 'pinkmuslimah', 'pinnacl', 'piss', 'piti', 'pitti', 'pixi', 'pizza', 'pj', 'pjhughes12', 'pjssss', 'place', 'plan', 'plane', 'plant', 'plastic', 'plate', 'platform', 'platypus_shark', 'play', 'player', 'playlist', 'playoff', 'playxmyxac', 'pleaassee', 'pleas', 'pleasant', 'pleasur', 'plu', 'plumber', 'plurk', 'plymouth', 'pm', 'pmc', 'pmeanwellralph', 'pmtj', 'pn', 'pneumonia', 'po', 'podcast', 'point', 'pointless', 'pointofsal', 'poison', 'poitier', 'pok', 'poke', 'poker', 'polhillian', 'polici', 'polit', 'politican', 'politician', 'politics_pr', 'poll', 'pollen', 'polyest', 'poni', 'poo', 'poor', 'poorli', 'pop', 'popcorn', 'poppunkprincess', 'porridg', 'port', 'portabl', 'portland', 'pose', 'posit', 'possibl', 'post', 'postcard', 'postsalot', 'postsecret', 'posttruthsocieti', 'pot', 'potu', 'pound', 'pourquoi', 'poverti', 'povvo', 'powder', 'powel', 'power', 'ppl', 'pr', 'practic', 'practis', 'prais', 'pray', 'prayer', 'pre', 'preach', 'precis', 'predict', 'prefer', 'pregnanc', 'pregnant', 'premier', 'premium', 'premiumlin', 'prep', 'prepar', 'preparin', 'presenc', 'present', 'presid', 'presidenti', 'press', 'pressur', 'pretti', 'prettierpixel', 'pretty', 'prevent', 'price', 'pride', 'primari', 'primat', 'prime', 'primetim', 'princess', 'print', 'printer', 'prioriti', 'privaci', 'prix', 'prize', 'pro', 'prob', 'probabl', 'probbali', 'problem', 'probli', 'problogg', 'process', 'produc', 'product', 'profession', 'profil', 'program', 'programm', 'progress', 'project', 'prolif', 'prom', 'promis', 'promot', 'pronounc', 'pronounci', 'proof', 'properli', 'propley', 'prostitut', 'proud', 'prouddd', 'proverb', 'provid', 'ps', 'ps3', 'psalm', 'psam', 'psych', 'psycho65', 'public', 'pug', 'puhleas', 'pukey', 'pull', 'pulmyear', 'punch', 'punish', 'punk', 'pupil', 'puppi', 'purchas', 'purdu', 'purpl', 'purplepoppl', 'purpos', 'purs', 'push', 'pushplaycj', 'pussbackfoot', 'pustak', 'put', 'puzzl', 'pwdi', 'pyngvild', 'python', 'qod', 'qualifi', 'qualiti', 'que', 'queen', 'question', 'queue', 'quick', 'quiet', 'quilt', 'quintesc', 'quit', 'quiter', 'quof', 'quot', 'race', 'rach210', 'rachel', 'rachmcfli', 'racism', 'racist', 'radic', 'radio', 'radio316', 'radioshop', 'rafael', 'rage', 'railroad', 'rain', 'rais', 'raja', 'rajumat', 'rambl', 'ran', 'rand', 'randi', 'randomest', 'randomized180', 'randpaul', 'rang', 'ranger', 'rank', 'rant', 'rap', 'rape', 'rare', 'rasberri', 'rash', 'rate', 'rather', 'raveen', 'raveenn', 'raybeckerman', 'rayybeeann', 'raâ', 'reach', 'reaction', 'read', 'reader', 'readi', 'reagan', 'real', 'real_gaz_coward', 'realbencarson', 'realdonaldtrump', 'realiti', 'realiz', 'realli', 'realmac', 'reason', 'rebeccajon', 'rebeccamezzino', 'rebellion', 'recal', 'receipt', 'receiv', 'recent', 'reciev', 'recipi', 'reciproc', 'recommend', 'recon', 'reconsid', 'record', 'recov', 'recoveri', 'red', 'redbul', 'reebonz', 'reemstercarp', 'rees', 'refer', 'referenc', 'refin', 'refresh', 'refund', 'refus', 'regard', 'regina', 'regist', 'regular', 'rel', 'relat', 'relationship', 'relax', 'releas', 'reli', 'religion', 'remain', 'remak', 'remark', 'rematch', 'remedi', 'rememb', 'remind', 'reminisc', 'remko', 'remov', 'renatak', 'renee_66', 'renomarki', 'rent', 'rental', 'repair', 'repeal', 'repeat', 'replac', 'repli', 'report', 'republican', 'requiemofrain', 'requir', 'reread', 'research', 'reserv', 'resid', 'resist', 'resourc', 'respect', 'respond', 'respons', 'rest', 'restaur', 'restless', 'result', 'resum', 'retard', 'retir', 'retro', 'retrogrrl', 'retrorewind', 'return', 'reveal', 'revel', 'revers', 'review', 'revis', 'reward', 'rewrit', 'reyes87', 'rhyzom', 'riandawson', 'rich', 'richiejap', 'rick', 'rid', 'ride', 'ridicul', 'right', 'ring', 'rino', 'riot', 'rip', 'rite', 'river', 'riyaan', 'rlhunsta', 'road', 'roadto2016', 'roam', 'roast', 'rob', 'robin', 'robklein', 'robmathieson', 'robpattinson_', 'robynmcintyr', 'roccoman', 'rochdal', 'rock', 'rocki', 'rockin', 'roll', 'romi', 'romiezz', 'rompompom', 'roncallari', 'roof', 'room', 'roommat', 'root', 'rorschach', 'rosali', 'roseformyros', 'roserogu', 'rosi', 'ross', 'rossi', 'roti', 'roug', 'router', 'row', 'rowland', 'roxxinikki', 'royal', 'rp', 'rrrawwr', 'rt', 'ru', 'rubbish', 'rubio', 'rubybutt', 'rudd', 'rude', 'rug', 'ruhanirabin', 'ruin', 'rule', 'run', 'runkeep', 'runn', 'runni', 'rush', 'ruthbeedl', 'ruthne55', 'rwsurfergirl', 'ryt', 's2bx', 'saag', 'saamanthajaan', 'sacr', 'sactown', 'sad', 'sadd', 'sadfac', 'sadli', 'safari', 'safe', 'safey', 'saffanah', 'saget', 'sai_venkat', 'said', 'salli', 'sallykohn', 'salmasekela', 'salspizza', 'salut', 'salvat', 'sam', 'sambrodi', 'samuel_l_bronko', 'san', 'sand', 'sandal', 'sandi', 'sandrabrownma', 'sandwich', 'sane', 'sanjanasharma', 'santorum', 'sanusi', 'sara', 'sarahik', 'sarahrobinson', 'sarahsaturday', 'saramarietweet', 'sat', 'saturday', 'sauc', 'saurabh', 'sausag', 'save', 'saw', 'say', 'saya', 'sayin', 'sayyy', 'saâ', 'sb', 'sbpdl', 'sc', 'scare', 'scari', 'scarletmandi', 'scene', 'schandler13', 'schedul', 'schhol', 'schicksal', 'schizdazzl', 'schmutzi', 'schofe', 'school', 'schoool', 'schooooooool', 'scienc', 'sclub', 'scold', 'scope', 'score', 'scotland', 'scott', 'scottbert', 'scottcbakken', 'scottwalk', 'scout', 'scrambl', 'scratch', 'scream', 'screen', 'screw', 'script', 'sd', 'sea', 'seabassthephish', 'seachri', 'seanmurphymus', 'search', 'season', 'seat', 'second', 'secondhand', 'secret', 'section', 'secur', 'see', 'seedcamp', 'seem', 'seen', 'seersuckerthursday', 'self', 'selfi', 'sell', 'semanticli', 'semest', 'send', 'sensation', 'sent', 'sentedcruz', 'sentiment', 'serenad', 'serenajwilliam', 'seri', 'seriou', 'serious', 'serv', 'server', 'servic', 'session', 'set', 'settl', 'sex', 'sexi', 'sexist', 'sexykellyc', 'shaant', 'shaft', 'shah', 'shaileemodi', 'shall', 'sham', 'shamari', 'shame', 'shamsi', 'shanghai', 'shanners85', 'shannonleto', 'shannonmurdoch', 'shape', 'share', 'sharnna', 'shash', 'shatter', 'shaundiviney', 'shaunjumpnow', 'shave', 'shawna', 'shay', 'shebeege', 'sheep', 'sheet', 'sheldon', 'shelleyfinch', 'shift', 'shifti', 'ship', 'shirt', 'shit', 'shite', 'shithol', 'shitti', 'shiver', 'shld', 'shmuxel', 'sho', 'shock', 'shoe', 'shoemak', 'shoestring', 'shoot', 'shop', 'shopahol', 'shoppin', 'short', 'shortlist', 'shot', 'shoulder', 'shout', 'shoutcast', 'show', 'shower', 'shozu', 'shrdlu', 'shred', 'shuld', 'shut', 'shuuuut', 'shyland', 'shyt', 'si', 'sian_the_mous', 'sick', 'sickz', 'side', 'sigh', 'sight', 'sign', 'signific', 'silenc', 'silent', 'silli', 'silva', 'silver', 'silver_queen', 'sim', 'similar', 'simon14771482', 'simpl', 'simpson', 'simx', 'sinc', 'sing', 'singapor', 'singkit', 'singl', 'sinu', 'sip', 'sir', 'sirbarley', 'siriusxm', 'sister', 'sit', 'site', 'sittin', 'situat', 'sixth', 'sjadetx', 'skate', 'skeeter', 'skellig', 'skill', 'skillend', 'skillz', 'skimmlif', 'skin', 'skinnyjean', 'skip', 'skirt', 'skool', 'skweed', 'skyrocket', 'slack', 'slap', 'sleeeppp', 'sleep', 'sleepi', 'sleepn', 'slept', 'slickgilchrist', 'slightli', 'slow', 'slowli', 'small', 'smart', 'smear', 'smell', 'smile', 'smith', 'smooth', 'smoothest', 'smoothi', 'smugbugg', 'snack', 'snap', 'snapper', 'sneaki', 'sneez', 'sniff', 'sniffl', 'snoopi', 'snore', 'snow', 'snp', 'so', 'soak', 'soar', 'sober', 'soccer', 'social', 'socialmedia', 'societi', 'sock', 'soda', 'softbal', 'softli', 'softwar', 'solangeknowl', 'sold', 'soldier', 'solut', 'somebodi', 'somehow', 'someon', 'someth', 'sometim', 'somth', 'son', 'song', 'soo', 'soon', 'sooner', 'sooo', 'soooo', 'sooooo', 'sooooooooo', 'sophomor', 'sore', 'sorri', 'sorrow', 'sorrynotsorri', 'sort', 'sorta', 'sostil', 'soubiluv98', 'soul', 'soulfuljenn', 'souljaboy', 'souljaboytellem', 'soulless', 'sound', 'soundtrack', 'sourbitch1', 'south', 'southampton', 'southpark', 'southpaw1805', 'southplatt', 'sowwi', 'spa', 'spacecon', 'spade', 'spain', 'spam', 'span', 'spanish', 'spar', 'spare', 'speak', 'speaker', 'special', 'speech', 'speedi', 'spektor', 'spell', 'spellbound', 'spencerpratt', 'spend', 'spent', 'spill', 'spin', 'spinner', 'spn', 'spoil', 'spoiler', 'spoken', 'spot', 'spotiday', 'spotless', 'spread', 'spring', 'springer', 'sprinkl', 'spunk', 'spur', 'spywar', 'squeez', 'squirrel', 'sri', 'srosenberg', 'ss', 'ssbb', 'st', 'stabl', 'stack', 'stadium', 'stage', 'stair', 'stalk', 'stall', 'stand', 'standalon', 'standard', 'standtal', 'star', 'starbuck', 'stardust', 'starsparkl', 'start', 'starv', 'state', 'statement', 'station', 'statu', 'statutori', 'stay', 'stayin', 'steak', 'steakhous', 'steal', 'stellarchild', 'step', 'stephani', 'stephaniegg', 'stephaniegouw', 'stephaniepratt', 'stephenfri', 'stephenstephan', 'stephherold', 'stephlest', 'steve', 'stevophilo', 'stick', 'still', 'stillusionist', 'stint', 'stitch', 'stockholm', 'stoke', 'stolen', 'stomach', 'stop', 'stope', 'store', 'stori', 'storm', 'stove', 'straid', 'straight', 'straighten', 'strand', 'strang', 'strangest', 'straw', 'strawberri', 'stream', 'street', 'streetcar', 'strength', 'stress', 'stretch', 'stride', 'strike', 'strip', 'stripey_twix', 'strong', 'strongest', 'strongli', 'struggl', 'stuck', 'student', 'studentjob', 'studi', 'studio', 'stueybrock', 'stuf', 'stuff', 'stumbl', 'stunna', 'stupid', 'style', 'styler', 'stylescoop', 'styletim', 'subject', 'subscrib', 'substanc', 'subway', 'success', 'suck', 'sucki', 'suddenli', 'suerk', 'suffer', 'sugar', 'sugari', 'suggest', 'suh', 'suikoden', 'sultri', 'sum', 'sum1', 'summer', 'summer4jul', 'sun', 'sunbath', 'sunburnt', 'sunday', 'sunni', 'sunris', 'sunshiiiin', 'sunshin', 'supagam', 'supapawa', 'super', 'superbad', 'superdaveyboy', 'superli', 'supermanhotmal', 'supermodel4r', 'supernatur', 'superrr', 'supos', 'supper', 'support', 'suppos', 'supposedli', 'sure', 'surf', 'surgeon', 'surgeri', 'surpris', 'surrey', 'susan', 'suscrib', 'suzymartin', 'svanwessem', 'sven', 'swag', 'swamp', 'swanni', 'sway', 'swayz', 'swear', 'sweater', 'sweden', 'sweet', 'sweeti', 'swho', 'swift', 'swim', 'swimsuit', 'swing', 'swisscow86', 'swollen', 'sxse', 'syd', 'sydney', 'sympath', 'sync', 'system', 't_s_b', 'taaaschi', 'tab', 'tabl', 'taco', 'tacoma', 'taigur', 'tail', 'taipei', 'take', 'talbot', 'talent', 'taless', 'talia', 'talk', 'talkin', 'tallinn', 'tambien', 'tampa', 'tan1337', 'tantrum', 'tanya011', 'taraalberto', 'tasti', 'tat', 'tatto', 'tattoo', 'tax', 'taylor', 'taylorswift13', 'tb', 'tbh', 'tbottv', 'tea', 'teach', 'teacher', 'team', 'teaparti', 'tear', 'techi', 'techniqu', 'ted', 'tedcruz', 'teddi', 'teef', 'teen', 'teenag', 'teeth', 'teh', 'telaviv', 'telegraph', 'tell', 'telli', 'telll', 'telstra', 'temporari', 'ten', 'tenniss', 'teresa', 'teresita407', 'term', 'termin', 'terracotta', 'terribl', 'terrifi', 'terror', 'tesday', 'test', 'testabl', 'testimoni', 'texa', 'texass', 'text', 'textur', 'tgfl', 'th', 'tha', 'thank', 'thankgoodnessforlaptop', 'thanx', 'that', 'thatkevinsmith', 'theartistt', 'theater', 'theatr', 'thebeatlesrule4', 'theblyackhyp', 'thedonald', 'theobroma', 'theori', 'there', 'therealhc', 'therefor', 'thererfemaledj', 'therockstarbrotherhood', 'theros', 'thesage1014', 'theskimm', 'theugh', 'thevervekid', 'thew', 'thewhit', 'thief', 'thin', 'thing', 'thingk', 'think', 'thinkin', 'thinkreferr', 'third', 'thirti', 'this25', 'thiss', 'tho', 'thom', 'thoma', 'thomaldo', 'thomasfromle', 'thong', 'thoroughlygood', 'thou', 'though', 'thought', 'thrace', 'thread', 'three', 'threedaymonk', 'threesenough', 'threw', 'thrill', 'throat', 'throg', 'throw', 'tht', 'thumb', 'thunder', 'thur', 'thursday', 'thx', 'ticket', 'tierkrei', 'tiffani', 'tiger', 'tigger', 'tiim', 'tijuana', 'til', 'till', 'tim', 'time', 'timebenez', 'timewarp', 'tini', 'tiniest', 'tip', 'tire', 'tiredd', 'tireeeeeeee', 'tith', 'titomi15', 'tivo', 'tix', 'tj', 'tjo', 'tlaszuk', 'tlk', 'tlm26', 'tltsym09', 'tmobrien', 'tmrw', 'tn', 'toast', 'toaster', 'toasti', 'today', 'togeth', 'told', 'tom', 'tom_mil', 'tomatchem', 'tommcfli', 'tommi', 'tommorrow', 'tomorow', 'tomorro', 'tomorrow', 'tomoz', 'ton', 'toni', 'tonight', 'tooh', 'took', 'tool', 'tooooo', 'toooooo', 'toot', 'tooth', 'toothach', 'toothpast', 'top', 'topic', 'torak', 'torchwood', 'torn', 'torrent', 'toshiba', 'total', 'totalarsen', 'tote', 'toto', 'touch', 'tough', 'toughest', 'toung', 'tour', 'tournament', 'town', 'toyota', 'tpf', 'traceyhewin', 'track', 'tracya72', 'trade', 'tradeoff', 'traffic', 'trailer', 'train', 'tran', 'transfer', 'travel', 'trawlingtrol', 'traychaney', 'traysee73', 'treat', 'treatment', 'tree', 'treeeeesha', 'treezilla', 'trek', 'trend', 'tri', 'trial', 'tribeca', 'tribun', 'trick', 'triiipl', 'trill', 'trini', 'trip', 'trivium', 'trixxaayyy', 'trohman', 'troll', 'tron', 'trontast', 'troop', 'troubl', 'truck', 'true', 'trueblood', 'trueli', 'truli', 'trump', 'trump2016', 'trumpdatâ', 'trumpmisogonist', 'trust', 'truth', 'trxiegirl71', 'tryin', 'trytrytri', 'tshirt', 'tswift', 'tub', 'tue', 'tuesday', 'tuffer', 'tulsa', 'tumblr', 'tummi', 'tune', 'turn', 'tutor', 'tv', 'tweet', 'tweetbot', 'tweeter', 'tweeti', 'tweetin', 'tweetsantaclau', 'tweetup', 'twice', 'twilight', 'twin', 'twippin', 'twist', 'twit', 'twitaddict', 'twitfox', 'twitpic', 'twitscoop', 'twitta', 'twittaz', 'twitter', 'twitterberri', 'twitterbugz', 'twitterland', 'twittermus', 'twitterp', 'twittertakeov', 'twittin', 'twizz', 'two', 'txt', 'type', 'typeak', 'ubertwitt', 'ubuntu', 'uchh', 'udon', 'ufc', 'uggh', 'ugh', 'ughhh', 'uh', 'uhh', 'uhhh', 'uhmmm', 'ui', 'uk', 'ukrain', 'ukrainian', 'ull', 'ultraaviol', 'un', 'unabl', 'unalarm', 'unbeliev', 'uncle_fista', 'undergrad', 'understand', 'underwear', 'unfollow', 'unfortun', 'unfortunatley', 'unfun', 'ungentlewomenli', 'uni', 'unimport', 'uninform', 'uninsur', 'union', 'uniquezaya', 'unit', 'univers', 'unknown', 'unless', 'unni', 'unoffici', 'unpaid', 'unplug', 'unprepar', 'unprofession', 'unreleas', 'unsettl', 'untangl', 'upcom', 'updat', 'upgrad', 'upload', 'upp', 'uppp', 'upset', 'upsid', 'ur', 'urgh', 'urghhhh', 'us', 'us_eucom', 'usabl', 'usag', 'usb', 'use', 'useless', 'user', 'usernam', 'usual', 'utem', 'uuuup', 'va', 'vacat', 'vahevalarain', 'valeri', 'valid', 'valley', 'vampir', 'van', 'vanilla', 'vaniti', 'varieti', 'vashtan', 'vatikan', 'vega', 'veganza', 'veggi', 'velvetescap', 'velvetunderground', 'vent', 'ventur', 'veronica78', 'verryyyyi', 'version', 'vertic', 'veryy', 'vespa', 'veteran', 'vettel', 'via', 'vibe', 'vicdeleon', 'vicequeenmaria', 'viciado', 'vid', 'video', 'view', 'violat', 'violetscruk', 'virgin', 'virus', 'visccer', 'visi', 'visit', 'vitamin', 'vivalacaitlin', 'vlad_dracul', 'vlog', 'vmcosta', 'vocal', 'vodka', 'volum', 'vome', 'vomit', 'vonster', 'vote', 'voter', 'voucher', 'vs', 'vthorn', 'vuitton', 'w1ng', 'waaay', 'waddley', 'waffl', 'wage', 'waimea', 'waist', 'wait', 'wake', 'wakeup', 'walk', 'walker', 'wall', 'wallac', 'wanna', 'wannnt', 'want', 'war', 'ward', 'warehous', 'warm', 'warmong', 'warp', 'warrior', 'wash', 'wasnt', 'wassup', 'wast', 'wat', 'watch', 'watchin', 'water', 'wateri', 'wave', 'wavi', 'wax', 'way', 'wayi', 'wbalradio', 'wbaustin', 'weapon', 'wear', 'wearetheocean', 'weather', 'web', 'websatan', 'websit', 'wed', 'wedg', 'wedgi', 'wednesday', 'weeeoooeeeoooeeeoooeeeooo', 'week', 'weekend', 'weenke', 'weerachel', 'weet', 'weight', 'weird', 'weird6', 'welcom', 'welkom', 'well', 'welll', 'wen', 'wenchi', 'went', 'went2abbq', 'werewolfjacob', 'west', 'westxguy', 'wet', 'weyburn', 'whale', 'what', 'whatev', 'whatiti', 'wheel', 'wheez', 'whereisnatasha', 'whip', 'white', 'whitneyhil', 'who', 'whoda1', 'whole', 'whoo', 'whoohoo', 'whyyyyi', 'wi', 'wicklowsatirist', 'wide', 'widest', 'wife', 'wifi', 'wih', 'wii', 'wikipedia', 'wild', 'will', 'willbelaught', 'william', 'willyoungfan', 'wilmington', 'win', 'winblow', 'wind', 'windi', 'window', 'wine', 'winkey', 'winner', 'winston', 'winter', 'wiper', 'wire', 'wireless', 'wisdom', 'wiser', 'wish', 'wisom', 'wit', 'witch', 'withh', 'without', 'wknd', 'wlwbackup', 'woah', 'woe', 'woke', 'wolf', 'wolfgoodfellow', 'wolv', 'wolverin', 'woman', 'women', 'womenâ', 'wond', 'wonder', 'wont', 'wonâ', 'woo', 'woohoo', 'woohooo', 'wooo', 'wooohooo', 'wooooosaaaa', 'woooowww', 'woop', 'woot', 'word', 'work', 'workin', 'workout', 'world', 'worm', 'worri', 'wors', 'worser', 'worshiplead', 'worst', 'worth', 'wossi', 'woud', 'would', 'wow', 'wppi', 'wrapper', 'write', 'wrong', 'wtf', 'wth', 'wuup', 'www', 'x1000000', 'x_sammybaby_x', 'xan', 'xantiriad', 'xbllygbsn', 'xd', 'xhelloxgoodbyex', 'xian', 'xllora', 'xma', 'xo_mcflyandjb', 'xocazza', 'xombiex', 'xoxo', 'xoxoxoxoxoxoxoxoxoxoxoxo', 'xskylin', 'xtra', 'xx', 'xxhale95', 'xxx', 'xxxx', 'ya', 'yaaaay', 'yaay', 'yah', 'yahoo', 'yanke', 'yao', 'yard', 'yawn', 'yay', 'yayerrrrzzzzz', 'yayi', 'yaz_100', 'yday', 'ydontifitin', 'ye', 'yea', 'yeah', 'yeahh', 'yeahhh', 'yeahhhh', 'year', 'yeh', 'yell', 'yellow', 'yep', 'yepâ', 'yesandm', 'yeslek8', 'yessireekristen', 'yessssa', 'yessssssssssss', 'yesterday', 'yet', 'yip', 'yippi', 'yo', 'yogagrl3', 'yoooou', 'york', 'youcanplaypiano', 'your', 'youtub', 'youu', 'youâ', 'yr', 'yum', 'yuma', 'yumichika', 'yumm', 'yummi', 'yummmi', 'yummy_flaquito', 'yungceo', 'yup', 'yvonneewonne', 'za', 'zack', 'zackalltimelow', 'zarlash', 'zecool', 'zeet75', 'zenwalk', 'zephoria', 'zinger', 'zirtec', 'zjelektra', 'zka', 'zokathepuppi', 'zomb1etron', 'zombbiee', 'zomg', 'zone', 'zoosapari', 'zorkfox', 'ºðÿ', '½ï', 'ðÿ']\n",
            "[[0. 0. 0. ... 0. 0. 0.]\n",
            " [0. 0. 0. ... 0. 0. 0.]\n",
            " [0. 0. 0. ... 0. 0. 0.]\n",
            " ...\n",
            " [0. 0. 0. ... 0. 0. 0.]\n",
            " [0. 0. 0. ... 0. 0. 0.]\n",
            " [0. 0. 0. ... 0. 0. 0.]]\n"
          ],
          "name": "stdout"
        }
      ]
    },
    {
      "cell_type": "code",
      "metadata": {
        "id": "OCAp59eqUqnw",
        "colab_type": "code",
        "colab": {}
      },
      "source": [
        "# Encoding the sentiment, 1 for positive and 0 for negative\n",
        "label = list(st.sentiment)\n",
        "for i in range (len(label)):\n",
        "  if label[i] == 'Positive':\n",
        "    label[i] = 1\n",
        "  else:\n",
        "    label[i] = 0\n",
        "label = np.array(label)"
      ],
      "execution_count": null,
      "outputs": []
    },
    {
      "cell_type": "code",
      "metadata": {
        "id": "jobdlzLXUGpn",
        "colab_type": "code",
        "colab": {}
      },
      "source": [
        "# Split the train and test sets\n",
        "X_train_WF, X_test_WF, y_train_WF, y_test_WF = train_test_split(array_WF, label, test_size=0.3, random_state=42)\n",
        "X_train_TFidf, X_test_TFidf, y_train_TFidf, y_test_TFidf = train_test_split(array_TFIDF, label, test_size=0.3, random_state=42)"
      ],
      "execution_count": null,
      "outputs": []
    },
    {
      "cell_type": "markdown",
      "metadata": {
        "id": "Zr7wiI4VBBI5",
        "colab_type": "text"
      },
      "source": [
        "# 4.0 Model Implementation\n",
        "In this part we are going to train several models on both WF and TD-IDF scoring method. Each model is tuned by grid search in cross validation. We figure out Logistic Regression model with WF scoring gives the best accuracy (69.5%). "
      ]
    },
    {
      "cell_type": "markdown",
      "metadata": {
        "id": "Usj9_KTpBDqh",
        "colab_type": "text"
      },
      "source": [
        "### 4.1 Logistic Regression"
      ]
    },
    {
      "cell_type": "markdown",
      "metadata": {
        "id": "ZnshrkiqclWy",
        "colab_type": "text"
      },
      "source": [
        "##### 4.1.1 Logistic Regression for WF"
      ]
    },
    {
      "cell_type": "code",
      "metadata": {
        "id": "piIfMtdeBHeG",
        "colab_type": "code",
        "colab": {}
      },
      "source": [
        "clf = LogisticRegression(max_iter=10000)"
      ],
      "execution_count": null,
      "outputs": []
    },
    {
      "cell_type": "code",
      "metadata": {
        "id": "9w556Z5rIQyU",
        "colab_type": "code",
        "colab": {
          "base_uri": "https://localhost:8080/",
          "height": 51
        },
        "outputId": "03d3198b-717e-4b2f-f01b-f0b890a5e123"
      },
      "source": [
        "C = [0.001,0.01,0.05,0.1,0.5,1,5,10]\n",
        "param_grid = dict(C=C)\n",
        "grid = GridSearchCV(estimator=clf, param_grid=param_grid, scoring='accuracy', verbose=0, n_jobs=-1, cv=5)\n",
        "result = grid.fit(X_train_WF,y_train_WF)\n",
        "\n",
        "print('Best Score: ', result.best_score_)\n",
        "print('Best Parameters: ', result.best_params_)"
      ],
      "execution_count": null,
      "outputs": [
        {
          "output_type": "stream",
          "text": [
            "Best Score:  0.6907142857142857\n",
            "Best Parameters:  {'C': 1}\n"
          ],
          "name": "stdout"
        }
      ]
    },
    {
      "cell_type": "code",
      "metadata": {
        "id": "6CRCEmCvJ1zV",
        "colab_type": "code",
        "colab": {
          "base_uri": "https://localhost:8080/",
          "height": 34
        },
        "outputId": "eef8d3e0-0457-462f-ad0d-1ad2d7c6fc58"
      },
      "source": [
        "clf = LogisticRegression(max_iter=10000,C=0.5).fit(X_train_WF,y_train_WF)\n",
        "print('Logistic Regression model accuracy with optimal hyperparameters is: {}%'.format(round(clf.score(X_test_WF,y_test_WF)*100,3)))"
      ],
      "execution_count": null,
      "outputs": [
        {
          "output_type": "stream",
          "text": [
            "Logistic Regression model accuracy with optimal hyperparameters is: 69.5%\n"
          ],
          "name": "stdout"
        }
      ]
    },
    {
      "cell_type": "markdown",
      "metadata": {
        "id": "f28YOPrGcpkz",
        "colab_type": "text"
      },
      "source": [
        "##### 4.1.2 Logistic Regression for TF-IDF"
      ]
    },
    {
      "cell_type": "code",
      "metadata": {
        "id": "W6YIub5OcvMu",
        "colab_type": "code",
        "colab": {
          "base_uri": "https://localhost:8080/",
          "height": 51
        },
        "outputId": "bd282bb4-501c-4c48-ed9e-4430014c1b53"
      },
      "source": [
        "C = [0.001,0.01,0.05,0.1,0.5,1,5,10]\n",
        "param_grid = dict(C=C)\n",
        "grid = GridSearchCV(estimator=clf, param_grid=param_grid, scoring='accuracy', verbose=0, n_jobs=-1, cv=5)\n",
        "result = grid.fit(X_train_TFidf,y_train_TFidf)\n",
        "\n",
        "print('Best Score: ', result.best_score_)\n",
        "print('Best Parameters: ', result.best_params_)"
      ],
      "execution_count": null,
      "outputs": [
        {
          "output_type": "stream",
          "text": [
            "Best Score:  0.6885714285714286\n",
            "Best Parameters:  {'C': 0.05}\n"
          ],
          "name": "stdout"
        }
      ]
    },
    {
      "cell_type": "code",
      "metadata": {
        "id": "amGdXPQQogBR",
        "colab_type": "code",
        "colab": {
          "base_uri": "https://localhost:8080/",
          "height": 34
        },
        "outputId": "cd867394-dfc6-4aa5-ee9f-51f8dd59ed4c"
      },
      "source": [
        "clf = LogisticRegression(max_iter=10000,C=0.5).fit(X_train_TFidf,y_train_TFidf)\n",
        "print('Logistic Regression model accuracy with optimal hyperparameters is: {}%'.format(round(clf.score(X_test_TFidf,y_test_TFidf)*100,3)))"
      ],
      "execution_count": null,
      "outputs": [
        {
          "output_type": "stream",
          "text": [
            "Logistic Regression model accuracy with optimal hyperparameters is: 69.0%\n"
          ],
          "name": "stdout"
        }
      ]
    },
    {
      "cell_type": "markdown",
      "metadata": {
        "id": "mJ0d6zoANVZs",
        "colab_type": "text"
      },
      "source": [
        "### 4.2 KNN"
      ]
    },
    {
      "cell_type": "markdown",
      "metadata": {
        "id": "z9qH9SHWc6su",
        "colab_type": "text"
      },
      "source": [
        "##### 4.2.1 KNN for WF"
      ]
    },
    {
      "cell_type": "code",
      "metadata": {
        "id": "8ZITqLeXLcax",
        "colab_type": "code",
        "colab": {}
      },
      "source": [
        "neigh = KNeighborsClassifier()"
      ],
      "execution_count": null,
      "outputs": []
    },
    {
      "cell_type": "code",
      "metadata": {
        "id": "qrX0-j_ULO9D",
        "colab_type": "code",
        "colab": {
          "base_uri": "https://localhost:8080/",
          "height": 51
        },
        "outputId": "293de127-f2ab-4902-d74a-22b0164db9f3"
      },
      "source": [
        "n = [5,6,7,8,9,10]\n",
        "param_grid = dict(n_neighbors=n)\n",
        "grid = GridSearchCV(estimator=neigh, param_grid=param_grid, scoring='accuracy', verbose=0, n_jobs=-1, cv=5)\n",
        "result = grid.fit(X_train_WF,y_train_WF)\n",
        "\n",
        "print('Best Score: ', result.best_score_)\n",
        "print('Best Parameters: ', result.best_params_)"
      ],
      "execution_count": null,
      "outputs": [
        {
          "output_type": "stream",
          "text": [
            "Best Score:  0.6\n",
            "Best Parameters:  {'n_neighbors': 5}\n"
          ],
          "name": "stdout"
        }
      ]
    },
    {
      "cell_type": "code",
      "metadata": {
        "id": "FzG10Ib_Mdd5",
        "colab_type": "code",
        "colab": {
          "base_uri": "https://localhost:8080/",
          "height": 34
        },
        "outputId": "74a61cbc-b4c3-44fb-f2c5-dc2fdcf5ad0b"
      },
      "source": [
        "neigh = KNeighborsClassifier(n_neighbors=5).fit(X_train_WF,y_train_WF)\n",
        "print('KNN model accuracy with optimal hyperparameters is: {}%'.format(round(neigh.score(X_test_WF,y_test_WF)*100,3)))"
      ],
      "execution_count": null,
      "outputs": [
        {
          "output_type": "stream",
          "text": [
            "KNN model accuracy with optimal hyperparameters is: 63.0%\n"
          ],
          "name": "stdout"
        }
      ]
    },
    {
      "cell_type": "markdown",
      "metadata": {
        "id": "iQtC80Fnc-Li",
        "colab_type": "text"
      },
      "source": [
        "##### 4.2.2 KNN for TF-IDF"
      ]
    },
    {
      "cell_type": "code",
      "metadata": {
        "id": "ExgSu0g9dA78",
        "colab_type": "code",
        "colab": {
          "base_uri": "https://localhost:8080/",
          "height": 51
        },
        "outputId": "636e3506-eb14-4023-bd71-dfbc1a2ef830"
      },
      "source": [
        "n = [5,6,7,8,9,10]\n",
        "param_grid = dict(n_neighbors=n)\n",
        "grid = GridSearchCV(estimator=neigh, param_grid=param_grid, scoring='accuracy', verbose=0, n_jobs=-1, cv=5)\n",
        "result = grid.fit(X_train_TFidf,y_train_TFidf)\n",
        "\n",
        "print('Best Score: ', result.best_score_)\n",
        "print('Best Parameters: ', result.best_params_)"
      ],
      "execution_count": null,
      "outputs": [
        {
          "output_type": "stream",
          "text": [
            "Best Score:  0.5778571428571428\n",
            "Best Parameters:  {'n_neighbors': 5}\n"
          ],
          "name": "stdout"
        }
      ]
    },
    {
      "cell_type": "code",
      "metadata": {
        "id": "7bLh0Pg1pbqa",
        "colab_type": "code",
        "colab": {
          "base_uri": "https://localhost:8080/",
          "height": 34
        },
        "outputId": "f268e2e3-9e22-47d2-bae0-31072cea8c41"
      },
      "source": [
        "neigh = KNeighborsClassifier(n_neighbors=5).fit(X_train_TFidf,y_train_TFidf)\n",
        "print('KNN model accuracy with optimal hyperparameters is: {}%'.format(round(neigh.score(X_test_TFidf,y_test_TFidf)*100,3)))"
      ],
      "execution_count": null,
      "outputs": [
        {
          "output_type": "stream",
          "text": [
            "KNN model accuracy with optimal hyperparameters is: 59.333%\n"
          ],
          "name": "stdout"
        }
      ]
    },
    {
      "cell_type": "markdown",
      "metadata": {
        "id": "-RZYY4-o4i9x",
        "colab_type": "text"
      },
      "source": [
        "### 4.3 Naive Bayes"
      ]
    },
    {
      "cell_type": "markdown",
      "metadata": {
        "id": "6STBWmAidHNO",
        "colab_type": "text"
      },
      "source": [
        "##### 4.3.1 NB for WF"
      ]
    },
    {
      "cell_type": "code",
      "metadata": {
        "id": "By3Y9iH6MH58",
        "colab_type": "code",
        "colab": {}
      },
      "source": [
        "NB = MultinomialNB()"
      ],
      "execution_count": null,
      "outputs": []
    },
    {
      "cell_type": "code",
      "metadata": {
        "id": "ub9tyt5AMMUR",
        "colab_type": "code",
        "colab": {
          "base_uri": "https://localhost:8080/",
          "height": 51
        },
        "outputId": "6363e2f0-2d24-4c61-e538-f39defb8dc1d"
      },
      "source": [
        "alpha = [0.1,1,10,20,30,50]\n",
        "param_grid = dict(alpha=alpha)\n",
        "grid = GridSearchCV(estimator=NB, param_grid=param_grid, scoring='accuracy', verbose=0, n_jobs=-1, cv=5)\n",
        "result = grid.fit(X_train_WF,y_train_WF)\n",
        "\n",
        "print('Best Score: ', result.best_score_)\n",
        "print('Best Parameters: ', result.best_params_)"
      ],
      "execution_count": null,
      "outputs": [
        {
          "output_type": "stream",
          "text": [
            "Best Score:  0.6992857142857144\n",
            "Best Parameters:  {'alpha': 1}\n"
          ],
          "name": "stdout"
        }
      ]
    },
    {
      "cell_type": "code",
      "metadata": {
        "id": "ZOwBQYVhNVKs",
        "colab_type": "code",
        "colab": {
          "base_uri": "https://localhost:8080/",
          "height": 34
        },
        "outputId": "1835aa6a-becb-4639-a10f-388a32a1c621"
      },
      "source": [
        "NB = MultinomialNB(alpha=1).fit(X_train_WF,y_train_WF)\n",
        "print('Naive Bayes model accuracy with optimal hyperparameters is: {}%'.format(round(NB.score(X_test_WF,y_test_WF)*100,3)))"
      ],
      "execution_count": null,
      "outputs": [
        {
          "output_type": "stream",
          "text": [
            "Naive Bayes model accuracy with optimal hyperparameters is: 71.167%\n"
          ],
          "name": "stdout"
        }
      ]
    },
    {
      "cell_type": "markdown",
      "metadata": {
        "id": "29TA9VMldLLS",
        "colab_type": "text"
      },
      "source": [
        "##### 4.3.2 NB for TF-IDF"
      ]
    },
    {
      "cell_type": "code",
      "metadata": {
        "id": "FDNq6_XIdRWC",
        "colab_type": "code",
        "colab": {
          "base_uri": "https://localhost:8080/",
          "height": 51
        },
        "outputId": "036a7041-9d0d-49bd-b9ca-4db41c85eca5"
      },
      "source": [
        "alpha = [0.1,1,10,20,30,50]\n",
        "param_grid = dict(alpha=alpha)\n",
        "grid = GridSearchCV(estimator=NB, param_grid=param_grid, scoring='accuracy', verbose=0, n_jobs=-1, cv=5)\n",
        "result = grid.fit(X_train_TFidf,y_train_TFidf)\n",
        "\n",
        "print('Best Score: ', result.best_score_)\n",
        "print('Best Parameters: ', result.best_params_)"
      ],
      "execution_count": null,
      "outputs": [
        {
          "output_type": "stream",
          "text": [
            "Best Score:  0.6971428571428573\n",
            "Best Parameters:  {'alpha': 20}\n"
          ],
          "name": "stdout"
        }
      ]
    },
    {
      "cell_type": "code",
      "metadata": {
        "id": "ry0F7fInuWMX",
        "colab_type": "code",
        "colab": {
          "base_uri": "https://localhost:8080/",
          "height": 34
        },
        "outputId": "61fb5834-d45a-4e5f-dab9-80a3840c5916"
      },
      "source": [
        "NB = MultinomialNB(alpha=1).fit(X_train_TFidf,y_train_TFidf)\n",
        "print('Naive Bayes model accuracy with optimal hyperparameters is: {}%'.format(round(NB.score(X_test_TFidf,y_test_TFidf)*100,3)))"
      ],
      "execution_count": null,
      "outputs": [
        {
          "output_type": "stream",
          "text": [
            "Naive Bayes model accuracy with optimal hyperparameters is: 66.0%\n"
          ],
          "name": "stdout"
        }
      ]
    },
    {
      "cell_type": "markdown",
      "metadata": {
        "id": "eRgNA88U834D",
        "colab_type": "text"
      },
      "source": [
        "### 4.4 SVM"
      ]
    },
    {
      "cell_type": "markdown",
      "metadata": {
        "id": "YnDIj6GUZlE5",
        "colab_type": "text"
      },
      "source": [
        "##### 4.4.1 SVM for WF"
      ]
    },
    {
      "cell_type": "code",
      "metadata": {
        "id": "5zT0Hr4l8722",
        "colab_type": "code",
        "colab": {}
      },
      "source": [
        "svm = SVC()"
      ],
      "execution_count": null,
      "outputs": []
    },
    {
      "cell_type": "code",
      "metadata": {
        "id": "sd19rQVG_daS",
        "colab_type": "code",
        "colab": {
          "base_uri": "https://localhost:8080/",
          "height": 375
        },
        "outputId": "94982619-9ba0-4d06-b118-f242a8587095"
      },
      "source": [
        "C = [0.001,0.01,0.05,0.1,0.5,1,5,10]\n",
        "kernel = ['linear', 'poly', 'rbf', 'sigmoid']\n",
        "param_grid = dict(C=C, kernel=kernel)\n",
        "grid = GridSearchCV(estimator=svm, param_grid=param_grid, scoring='accuracy', verbose=0, n_jobs=-1, cv=5)\n",
        "result = grid.fit(X_train_WF,y_train_WF)\n",
        "\n",
        "print('Best Score: ', result.best_score_)\n",
        "print('Best Parameters: ', result.best_params_)"
      ],
      "execution_count": null,
      "outputs": [
        {
          "output_type": "error",
          "ename": "KeyboardInterrupt",
          "evalue": "ignored",
          "traceback": [
            "\u001b[0;31m---------------------------------------------------------------------------\u001b[0m",
            "\u001b[0;31mKeyboardInterrupt\u001b[0m                         Traceback (most recent call last)",
            "\u001b[0;32m<ipython-input-129-793ee2580dc8>\u001b[0m in \u001b[0;36m<module>\u001b[0;34m()\u001b[0m\n\u001b[1;32m      3\u001b[0m \u001b[0mparam_grid\u001b[0m \u001b[0;34m=\u001b[0m \u001b[0mdict\u001b[0m\u001b[0;34m(\u001b[0m\u001b[0mC\u001b[0m\u001b[0;34m=\u001b[0m\u001b[0mC\u001b[0m\u001b[0;34m,\u001b[0m \u001b[0mkernel\u001b[0m\u001b[0;34m=\u001b[0m\u001b[0mkernel\u001b[0m\u001b[0;34m)\u001b[0m\u001b[0;34m\u001b[0m\u001b[0;34m\u001b[0m\u001b[0m\n\u001b[1;32m      4\u001b[0m \u001b[0mgrid\u001b[0m \u001b[0;34m=\u001b[0m \u001b[0mGridSearchCV\u001b[0m\u001b[0;34m(\u001b[0m\u001b[0mestimator\u001b[0m\u001b[0;34m=\u001b[0m\u001b[0msvm\u001b[0m\u001b[0;34m,\u001b[0m \u001b[0mparam_grid\u001b[0m\u001b[0;34m=\u001b[0m\u001b[0mparam_grid\u001b[0m\u001b[0;34m,\u001b[0m \u001b[0mscoring\u001b[0m\u001b[0;34m=\u001b[0m\u001b[0;34m'accuracy'\u001b[0m\u001b[0;34m,\u001b[0m \u001b[0mverbose\u001b[0m\u001b[0;34m=\u001b[0m\u001b[0;36m0\u001b[0m\u001b[0;34m,\u001b[0m \u001b[0mn_jobs\u001b[0m\u001b[0;34m=\u001b[0m\u001b[0;34m-\u001b[0m\u001b[0;36m1\u001b[0m\u001b[0;34m,\u001b[0m \u001b[0mcv\u001b[0m\u001b[0;34m=\u001b[0m\u001b[0;36m5\u001b[0m\u001b[0;34m)\u001b[0m\u001b[0;34m\u001b[0m\u001b[0;34m\u001b[0m\u001b[0m\n\u001b[0;32m----> 5\u001b[0;31m \u001b[0mresult\u001b[0m \u001b[0;34m=\u001b[0m \u001b[0mgrid\u001b[0m\u001b[0;34m.\u001b[0m\u001b[0mfit\u001b[0m\u001b[0;34m(\u001b[0m\u001b[0mX_train_WF\u001b[0m\u001b[0;34m,\u001b[0m\u001b[0my_train_WF\u001b[0m\u001b[0;34m)\u001b[0m\u001b[0;34m\u001b[0m\u001b[0;34m\u001b[0m\u001b[0m\n\u001b[0m\u001b[1;32m      6\u001b[0m \u001b[0;34m\u001b[0m\u001b[0m\n\u001b[1;32m      7\u001b[0m \u001b[0mprint\u001b[0m\u001b[0;34m(\u001b[0m\u001b[0;34m'Best Score: '\u001b[0m\u001b[0;34m,\u001b[0m \u001b[0mresult\u001b[0m\u001b[0;34m.\u001b[0m\u001b[0mbest_score_\u001b[0m\u001b[0;34m)\u001b[0m\u001b[0;34m\u001b[0m\u001b[0;34m\u001b[0m\u001b[0m\n",
            "\u001b[0;32m/usr/local/lib/python3.6/dist-packages/sklearn/model_selection/_search.py\u001b[0m in \u001b[0;36mfit\u001b[0;34m(self, X, y, groups, **fit_params)\u001b[0m\n\u001b[1;32m    708\u001b[0m                 \u001b[0;32mreturn\u001b[0m \u001b[0mresults\u001b[0m\u001b[0;34m\u001b[0m\u001b[0;34m\u001b[0m\u001b[0m\n\u001b[1;32m    709\u001b[0m \u001b[0;34m\u001b[0m\u001b[0m\n\u001b[0;32m--> 710\u001b[0;31m             \u001b[0mself\u001b[0m\u001b[0;34m.\u001b[0m\u001b[0m_run_search\u001b[0m\u001b[0;34m(\u001b[0m\u001b[0mevaluate_candidates\u001b[0m\u001b[0;34m)\u001b[0m\u001b[0;34m\u001b[0m\u001b[0;34m\u001b[0m\u001b[0m\n\u001b[0m\u001b[1;32m    711\u001b[0m \u001b[0;34m\u001b[0m\u001b[0m\n\u001b[1;32m    712\u001b[0m         \u001b[0;31m# For multi-metric evaluation, store the best_index_, best_params_ and\u001b[0m\u001b[0;34m\u001b[0m\u001b[0;34m\u001b[0m\u001b[0;34m\u001b[0m\u001b[0m\n",
            "\u001b[0;32m/usr/local/lib/python3.6/dist-packages/sklearn/model_selection/_search.py\u001b[0m in \u001b[0;36m_run_search\u001b[0;34m(self, evaluate_candidates)\u001b[0m\n\u001b[1;32m   1149\u001b[0m     \u001b[0;32mdef\u001b[0m \u001b[0m_run_search\u001b[0m\u001b[0;34m(\u001b[0m\u001b[0mself\u001b[0m\u001b[0;34m,\u001b[0m \u001b[0mevaluate_candidates\u001b[0m\u001b[0;34m)\u001b[0m\u001b[0;34m:\u001b[0m\u001b[0;34m\u001b[0m\u001b[0;34m\u001b[0m\u001b[0m\n\u001b[1;32m   1150\u001b[0m         \u001b[0;34m\"\"\"Search all candidates in param_grid\"\"\"\u001b[0m\u001b[0;34m\u001b[0m\u001b[0;34m\u001b[0m\u001b[0m\n\u001b[0;32m-> 1151\u001b[0;31m         \u001b[0mevaluate_candidates\u001b[0m\u001b[0;34m(\u001b[0m\u001b[0mParameterGrid\u001b[0m\u001b[0;34m(\u001b[0m\u001b[0mself\u001b[0m\u001b[0;34m.\u001b[0m\u001b[0mparam_grid\u001b[0m\u001b[0;34m)\u001b[0m\u001b[0;34m)\u001b[0m\u001b[0;34m\u001b[0m\u001b[0;34m\u001b[0m\u001b[0m\n\u001b[0m\u001b[1;32m   1152\u001b[0m \u001b[0;34m\u001b[0m\u001b[0m\n\u001b[1;32m   1153\u001b[0m \u001b[0;34m\u001b[0m\u001b[0m\n",
            "\u001b[0;32m/usr/local/lib/python3.6/dist-packages/sklearn/model_selection/_search.py\u001b[0m in \u001b[0;36mevaluate_candidates\u001b[0;34m(candidate_params)\u001b[0m\n\u001b[1;32m    687\u001b[0m                                \u001b[0;32mfor\u001b[0m \u001b[0mparameters\u001b[0m\u001b[0;34m,\u001b[0m \u001b[0;34m(\u001b[0m\u001b[0mtrain\u001b[0m\u001b[0;34m,\u001b[0m \u001b[0mtest\u001b[0m\u001b[0;34m)\u001b[0m\u001b[0;34m\u001b[0m\u001b[0;34m\u001b[0m\u001b[0m\n\u001b[1;32m    688\u001b[0m                                in product(candidate_params,\n\u001b[0;32m--> 689\u001b[0;31m                                           cv.split(X, y, groups)))\n\u001b[0m\u001b[1;32m    690\u001b[0m \u001b[0;34m\u001b[0m\u001b[0m\n\u001b[1;32m    691\u001b[0m                 \u001b[0;32mif\u001b[0m \u001b[0mlen\u001b[0m\u001b[0;34m(\u001b[0m\u001b[0mout\u001b[0m\u001b[0;34m)\u001b[0m \u001b[0;34m<\u001b[0m \u001b[0;36m1\u001b[0m\u001b[0;34m:\u001b[0m\u001b[0;34m\u001b[0m\u001b[0;34m\u001b[0m\u001b[0m\n",
            "\u001b[0;32m/usr/local/lib/python3.6/dist-packages/joblib/parallel.py\u001b[0m in \u001b[0;36m__call__\u001b[0;34m(self, iterable)\u001b[0m\n\u001b[1;32m   1015\u001b[0m \u001b[0;34m\u001b[0m\u001b[0m\n\u001b[1;32m   1016\u001b[0m             \u001b[0;32mwith\u001b[0m \u001b[0mself\u001b[0m\u001b[0;34m.\u001b[0m\u001b[0m_backend\u001b[0m\u001b[0;34m.\u001b[0m\u001b[0mretrieval_context\u001b[0m\u001b[0;34m(\u001b[0m\u001b[0;34m)\u001b[0m\u001b[0;34m:\u001b[0m\u001b[0;34m\u001b[0m\u001b[0;34m\u001b[0m\u001b[0m\n\u001b[0;32m-> 1017\u001b[0;31m                 \u001b[0mself\u001b[0m\u001b[0;34m.\u001b[0m\u001b[0mretrieve\u001b[0m\u001b[0;34m(\u001b[0m\u001b[0;34m)\u001b[0m\u001b[0;34m\u001b[0m\u001b[0;34m\u001b[0m\u001b[0m\n\u001b[0m\u001b[1;32m   1018\u001b[0m             \u001b[0;31m# Make sure that we get a last message telling us we are done\u001b[0m\u001b[0;34m\u001b[0m\u001b[0;34m\u001b[0m\u001b[0;34m\u001b[0m\u001b[0m\n\u001b[1;32m   1019\u001b[0m             \u001b[0melapsed_time\u001b[0m \u001b[0;34m=\u001b[0m \u001b[0mtime\u001b[0m\u001b[0;34m.\u001b[0m\u001b[0mtime\u001b[0m\u001b[0;34m(\u001b[0m\u001b[0;34m)\u001b[0m \u001b[0;34m-\u001b[0m \u001b[0mself\u001b[0m\u001b[0;34m.\u001b[0m\u001b[0m_start_time\u001b[0m\u001b[0;34m\u001b[0m\u001b[0;34m\u001b[0m\u001b[0m\n",
            "\u001b[0;32m/usr/local/lib/python3.6/dist-packages/joblib/parallel.py\u001b[0m in \u001b[0;36mretrieve\u001b[0;34m(self)\u001b[0m\n\u001b[1;32m    907\u001b[0m             \u001b[0;32mtry\u001b[0m\u001b[0;34m:\u001b[0m\u001b[0;34m\u001b[0m\u001b[0;34m\u001b[0m\u001b[0m\n\u001b[1;32m    908\u001b[0m                 \u001b[0;32mif\u001b[0m \u001b[0mgetattr\u001b[0m\u001b[0;34m(\u001b[0m\u001b[0mself\u001b[0m\u001b[0;34m.\u001b[0m\u001b[0m_backend\u001b[0m\u001b[0;34m,\u001b[0m \u001b[0;34m'supports_timeout'\u001b[0m\u001b[0;34m,\u001b[0m \u001b[0;32mFalse\u001b[0m\u001b[0;34m)\u001b[0m\u001b[0;34m:\u001b[0m\u001b[0;34m\u001b[0m\u001b[0;34m\u001b[0m\u001b[0m\n\u001b[0;32m--> 909\u001b[0;31m                     \u001b[0mself\u001b[0m\u001b[0;34m.\u001b[0m\u001b[0m_output\u001b[0m\u001b[0;34m.\u001b[0m\u001b[0mextend\u001b[0m\u001b[0;34m(\u001b[0m\u001b[0mjob\u001b[0m\u001b[0;34m.\u001b[0m\u001b[0mget\u001b[0m\u001b[0;34m(\u001b[0m\u001b[0mtimeout\u001b[0m\u001b[0;34m=\u001b[0m\u001b[0mself\u001b[0m\u001b[0;34m.\u001b[0m\u001b[0mtimeout\u001b[0m\u001b[0;34m)\u001b[0m\u001b[0;34m)\u001b[0m\u001b[0;34m\u001b[0m\u001b[0;34m\u001b[0m\u001b[0m\n\u001b[0m\u001b[1;32m    910\u001b[0m                 \u001b[0;32melse\u001b[0m\u001b[0;34m:\u001b[0m\u001b[0;34m\u001b[0m\u001b[0;34m\u001b[0m\u001b[0m\n\u001b[1;32m    911\u001b[0m                     \u001b[0mself\u001b[0m\u001b[0;34m.\u001b[0m\u001b[0m_output\u001b[0m\u001b[0;34m.\u001b[0m\u001b[0mextend\u001b[0m\u001b[0;34m(\u001b[0m\u001b[0mjob\u001b[0m\u001b[0;34m.\u001b[0m\u001b[0mget\u001b[0m\u001b[0;34m(\u001b[0m\u001b[0;34m)\u001b[0m\u001b[0;34m)\u001b[0m\u001b[0;34m\u001b[0m\u001b[0;34m\u001b[0m\u001b[0m\n",
            "\u001b[0;32m/usr/local/lib/python3.6/dist-packages/joblib/_parallel_backends.py\u001b[0m in \u001b[0;36mwrap_future_result\u001b[0;34m(future, timeout)\u001b[0m\n\u001b[1;32m    560\u001b[0m         AsyncResults.get from multiprocessing.\"\"\"\n\u001b[1;32m    561\u001b[0m         \u001b[0;32mtry\u001b[0m\u001b[0;34m:\u001b[0m\u001b[0;34m\u001b[0m\u001b[0;34m\u001b[0m\u001b[0m\n\u001b[0;32m--> 562\u001b[0;31m             \u001b[0;32mreturn\u001b[0m \u001b[0mfuture\u001b[0m\u001b[0;34m.\u001b[0m\u001b[0mresult\u001b[0m\u001b[0;34m(\u001b[0m\u001b[0mtimeout\u001b[0m\u001b[0;34m=\u001b[0m\u001b[0mtimeout\u001b[0m\u001b[0;34m)\u001b[0m\u001b[0;34m\u001b[0m\u001b[0;34m\u001b[0m\u001b[0m\n\u001b[0m\u001b[1;32m    563\u001b[0m         \u001b[0;32mexcept\u001b[0m \u001b[0mLokyTimeoutError\u001b[0m\u001b[0;34m:\u001b[0m\u001b[0;34m\u001b[0m\u001b[0;34m\u001b[0m\u001b[0m\n\u001b[1;32m    564\u001b[0m             \u001b[0;32mraise\u001b[0m \u001b[0mTimeoutError\u001b[0m\u001b[0;34m(\u001b[0m\u001b[0;34m)\u001b[0m\u001b[0;34m\u001b[0m\u001b[0;34m\u001b[0m\u001b[0m\n",
            "\u001b[0;32m/usr/lib/python3.6/concurrent/futures/_base.py\u001b[0m in \u001b[0;36mresult\u001b[0;34m(self, timeout)\u001b[0m\n\u001b[1;32m    425\u001b[0m                 \u001b[0;32mreturn\u001b[0m \u001b[0mself\u001b[0m\u001b[0;34m.\u001b[0m\u001b[0m__get_result\u001b[0m\u001b[0;34m(\u001b[0m\u001b[0;34m)\u001b[0m\u001b[0;34m\u001b[0m\u001b[0;34m\u001b[0m\u001b[0m\n\u001b[1;32m    426\u001b[0m \u001b[0;34m\u001b[0m\u001b[0m\n\u001b[0;32m--> 427\u001b[0;31m             \u001b[0mself\u001b[0m\u001b[0;34m.\u001b[0m\u001b[0m_condition\u001b[0m\u001b[0;34m.\u001b[0m\u001b[0mwait\u001b[0m\u001b[0;34m(\u001b[0m\u001b[0mtimeout\u001b[0m\u001b[0;34m)\u001b[0m\u001b[0;34m\u001b[0m\u001b[0;34m\u001b[0m\u001b[0m\n\u001b[0m\u001b[1;32m    428\u001b[0m \u001b[0;34m\u001b[0m\u001b[0m\n\u001b[1;32m    429\u001b[0m             \u001b[0;32mif\u001b[0m \u001b[0mself\u001b[0m\u001b[0;34m.\u001b[0m\u001b[0m_state\u001b[0m \u001b[0;32min\u001b[0m \u001b[0;34m[\u001b[0m\u001b[0mCANCELLED\u001b[0m\u001b[0;34m,\u001b[0m \u001b[0mCANCELLED_AND_NOTIFIED\u001b[0m\u001b[0;34m]\u001b[0m\u001b[0;34m:\u001b[0m\u001b[0;34m\u001b[0m\u001b[0;34m\u001b[0m\u001b[0m\n",
            "\u001b[0;32m/usr/lib/python3.6/threading.py\u001b[0m in \u001b[0;36mwait\u001b[0;34m(self, timeout)\u001b[0m\n\u001b[1;32m    293\u001b[0m         \u001b[0;32mtry\u001b[0m\u001b[0;34m:\u001b[0m    \u001b[0;31m# restore state no matter what (e.g., KeyboardInterrupt)\u001b[0m\u001b[0;34m\u001b[0m\u001b[0;34m\u001b[0m\u001b[0m\n\u001b[1;32m    294\u001b[0m             \u001b[0;32mif\u001b[0m \u001b[0mtimeout\u001b[0m \u001b[0;32mis\u001b[0m \u001b[0;32mNone\u001b[0m\u001b[0;34m:\u001b[0m\u001b[0;34m\u001b[0m\u001b[0;34m\u001b[0m\u001b[0m\n\u001b[0;32m--> 295\u001b[0;31m                 \u001b[0mwaiter\u001b[0m\u001b[0;34m.\u001b[0m\u001b[0macquire\u001b[0m\u001b[0;34m(\u001b[0m\u001b[0;34m)\u001b[0m\u001b[0;34m\u001b[0m\u001b[0;34m\u001b[0m\u001b[0m\n\u001b[0m\u001b[1;32m    296\u001b[0m                 \u001b[0mgotit\u001b[0m \u001b[0;34m=\u001b[0m \u001b[0;32mTrue\u001b[0m\u001b[0;34m\u001b[0m\u001b[0;34m\u001b[0m\u001b[0m\n\u001b[1;32m    297\u001b[0m             \u001b[0;32melse\u001b[0m\u001b[0;34m:\u001b[0m\u001b[0;34m\u001b[0m\u001b[0;34m\u001b[0m\u001b[0m\n",
            "\u001b[0;31mKeyboardInterrupt\u001b[0m: "
          ]
        }
      ]
    },
    {
      "cell_type": "code",
      "metadata": {
        "id": "MGYuxNp6G8Oi",
        "colab_type": "code",
        "colab": {}
      },
      "source": [
        "svm = SVC(C=0.5,kernel='linear').fit(X_train_WF,y_train_WF)\n",
        "print('SVM model accuracy with optimal hyperparameters is: {}%'.format(round(svm.score(X_test_WF,y_test_WF)*100,3)))"
      ],
      "execution_count": null,
      "outputs": []
    },
    {
      "cell_type": "markdown",
      "metadata": {
        "id": "7UJA07-4Zo53",
        "colab_type": "text"
      },
      "source": [
        "##### 4.4.2 SVM for TF-IDF"
      ]
    },
    {
      "cell_type": "code",
      "metadata": {
        "id": "xyqdnZ7bZrRi",
        "colab_type": "code",
        "colab": {}
      },
      "source": [
        "C = [0.001,0.01,0.05,0.1,0.5,1,5,10]\n",
        "kernel = ['linear', 'poly', 'rbf', 'sigmoid']\n",
        "param_grid = dict(C=C, kernel=kernel)\n",
        "grid = GridSearchCV(estimator=svm, param_grid=param_grid,scoring='accuracy', verbose=0, n_jobs=-1, cv=5)\n",
        "result = grid.fit(X_train_TFidf,y_train_TFidf)\n",
        "\n",
        "print('Best Score: ', result.best_score_)\n",
        "print('Best Parameters: ', result.best_params_)"
      ],
      "execution_count": null,
      "outputs": []
    },
    {
      "cell_type": "code",
      "metadata": {
        "id": "jXaY7hoYjGKQ",
        "colab_type": "code",
        "colab": {}
      },
      "source": [
        "svm = SVC(C=0.5,kernel='linear').fit(X_train_TFidf,y_train_TFidf)\n",
        "print('SVM model accuracy with optimal hyperparameters is: {}%'.format(round(svm.score(X_test_TFidf,y_test_TFidf)*100,3)))"
      ],
      "execution_count": null,
      "outputs": []
    },
    {
      "cell_type": "markdown",
      "metadata": {
        "id": "q1wdDflmOZ8Z",
        "colab_type": "text"
      },
      "source": [
        "### 4.5 Decision Tree"
      ]
    },
    {
      "cell_type": "markdown",
      "metadata": {
        "id": "MdVDIqwQdVpb",
        "colab_type": "text"
      },
      "source": [
        "##### 4.5.1 Decision Tree for WF"
      ]
    },
    {
      "cell_type": "code",
      "metadata": {
        "id": "Z9y7nvY6OcP5",
        "colab_type": "code",
        "colab": {}
      },
      "source": [
        "Tree = DecisionTreeClassifier()"
      ],
      "execution_count": null,
      "outputs": []
    },
    {
      "cell_type": "code",
      "metadata": {
        "id": "SH1r6RNeOjjc",
        "colab_type": "code",
        "colab": {}
      },
      "source": [
        "criterion = ['gini','entropy']\n",
        "max_depth = [25,50,100,200,500,700,1000]\n",
        "param_grid = dict(criterion=criterion, max_depth=max_depth)\n",
        "grid = GridSearchCV(estimator=Tree, param_grid=param_grid, scoring='accuracy', verbose=0, n_jobs=-1, cv=5)\n",
        "result = grid.fit(X_train_WF,y_train_WF)\n",
        "\n",
        "print('Best Score: ', result.best_score_)\n",
        "print('Best Parameters: ', result.best_params_)"
      ],
      "execution_count": null,
      "outputs": []
    },
    {
      "cell_type": "code",
      "metadata": {
        "id": "1MAR8V5mQqeR",
        "colab_type": "code",
        "colab": {}
      },
      "source": [
        "Tree = DecisionTreeClassifier(criterion='entropy',max_depth=1000).fit(X_train_WF,y_train_WF)\n",
        "print('Decision Tree model accuracy with optimal hyperparameters is: {}%'.format(round(Tree.score(X_test_WF,y_test_WF)*100,3)))"
      ],
      "execution_count": null,
      "outputs": []
    },
    {
      "cell_type": "markdown",
      "metadata": {
        "id": "RmusR77pdYpV",
        "colab_type": "text"
      },
      "source": [
        "##### 4.5.2 Decision Tree for TF-IDF"
      ]
    },
    {
      "cell_type": "code",
      "metadata": {
        "id": "oxGtzGkJdbNj",
        "colab_type": "code",
        "colab": {}
      },
      "source": [
        "criterion = ['gini','entropy']\n",
        "max_depth = [25,50,100,200,500,700,1000]\n",
        "param_grid = dict(criterion=criterion, max_depth=max_depth)\n",
        "grid = GridSearchCV(estimator=Tree, param_grid=param_grid, scoring='accuracy', verbose=0, n_jobs=-1, cv=5)\n",
        "result = grid.fit(X_train_TFidf,y_train_TFidf)\n",
        "\n",
        "print('Best Score: ', result.best_score_)\n",
        "print('Best Parameters: ', result.best_params_)"
      ],
      "execution_count": null,
      "outputs": []
    },
    {
      "cell_type": "code",
      "metadata": {
        "id": "RIZKzZuZuf0Z",
        "colab_type": "code",
        "colab": {}
      },
      "source": [
        "Tree = DecisionTreeClassifier(criterion='entropy',max_depth=1000).fit(X_train_TFidf,y_train_TFidf)\n",
        "print('Decision Tree model accuracy with optimal hyperparameters is: {}%'.format(round(Tree.score(X_test_TFidf,y_test_TFidf)*100,3)))"
      ],
      "execution_count": null,
      "outputs": []
    },
    {
      "cell_type": "markdown",
      "metadata": {
        "id": "qLCn4kizQrPR",
        "colab_type": "text"
      },
      "source": [
        "### 4.6 Random Forest"
      ]
    },
    {
      "cell_type": "markdown",
      "metadata": {
        "id": "dHOhRwSLdfbM",
        "colab_type": "text"
      },
      "source": [
        "##### 4.6.1 Random Forest for WF"
      ]
    },
    {
      "cell_type": "code",
      "metadata": {
        "id": "kJtvWbQHQtok",
        "colab_type": "code",
        "colab": {}
      },
      "source": [
        "Forest = RandomForestClassifier()"
      ],
      "execution_count": null,
      "outputs": []
    },
    {
      "cell_type": "code",
      "metadata": {
        "id": "PVgU1pSSRZV0",
        "colab_type": "code",
        "colab": {}
      },
      "source": [
        "n_estimators = [10,50,100,200]\n",
        "max_depth = [50,100,200,500,1000]\n",
        "param_grid = dict(n_estimators=n_estimators, max_depth=max_depth)\n",
        "grid = GridSearchCV(estimator=Forest, param_grid=param_grid, scoring='accuracy', verbose=0, n_jobs=-1, cv=5)\n",
        "result = grid.fit(X_train_WF,y_train_WF)\n",
        "\n",
        "print('Best Score: ', result.best_score_)\n",
        "print('Best Parameters: ', result.best_params_)"
      ],
      "execution_count": null,
      "outputs": []
    },
    {
      "cell_type": "code",
      "metadata": {
        "id": "swwtoOzqZV9m",
        "colab_type": "code",
        "colab": {}
      },
      "source": [
        "Forest = RandomForestClassifier(max_depth=500,n_estimators=50).fit(X_train_WF,y_train_WF)\n",
        "print('Random Forest model accuracy with optimal hyperparameters is: {}%'.format(round(Forest.score(X_test_WF,y_test_WF)*100,3)))"
      ],
      "execution_count": null,
      "outputs": []
    },
    {
      "cell_type": "markdown",
      "metadata": {
        "id": "CcHoZD3pdjEH",
        "colab_type": "text"
      },
      "source": [
        "##### 4.6.2 Random Forest for TF-IDF"
      ]
    },
    {
      "cell_type": "code",
      "metadata": {
        "id": "5b5MJVKQaVIt",
        "colab_type": "code",
        "colab": {}
      },
      "source": [
        "n_estimators = [10,50,100,200]\n",
        "max_depth = [50,100,200,500,1000]\n",
        "param_grid = dict(n_estimators=n_estimators, max_depth=max_depth)\n",
        "grid = GridSearchCV(estimator=Forest,  param_grid=param_grid, scoring='accuracy', verbose=0, n_jobs=-1, cv=5)\n",
        "result = grid.fit(X_train_TFidf,y_train_TFidf)\n",
        "\n",
        "print('Best Score: ', result.best_score_)\n",
        "print('Best Parameters: ', result.best_params_)"
      ],
      "execution_count": null,
      "outputs": []
    },
    {
      "cell_type": "code",
      "metadata": {
        "id": "ELNbMHHFunBe",
        "colab_type": "code",
        "colab": {}
      },
      "source": [
        "Forest = RandomForestClassifier(max_depth=500,n_estimators=50).fit(X_train_TFidf,y_train_TFidf)\n",
        "print('Random Forest model accuracy with optimal hyperparameters is: {}%'.format(round(Forest.score(X_test_TFidf,y_test_TFidf)*100,3)))"
      ],
      "execution_count": null,
      "outputs": []
    },
    {
      "cell_type": "markdown",
      "metadata": {
        "id": "lfIzL5L_auh0",
        "colab_type": "text"
      },
      "source": [
        "### 4.7 Applying Best Model on Canadian Election\n",
        "The best model is Logistic Regression with WF scoring, C = 0.5"
      ]
    },
    {
      "cell_type": "code",
      "metadata": {
        "id": "26UX4JUKurIz",
        "colab_type": "code",
        "colab": {}
      },
      "source": [
        "# Stem the Canadian Election text, and follow the same method for vectorizing as before\n",
        "stem(ce.text)"
      ],
      "execution_count": null,
      "outputs": []
    },
    {
      "cell_type": "code",
      "metadata": {
        "id": "wJniRlnPeoU1",
        "colab_type": "code",
        "colab": {}
      },
      "source": [
        "ce_text = list(ce.text)"
      ],
      "execution_count": null,
      "outputs": []
    },
    {
      "cell_type": "code",
      "metadata": {
        "id": "TKlygJXHelqp",
        "colab_type": "code",
        "colab": {}
      },
      "source": [
        "for i in range (len(ce_text)):\n",
        "  if type(ce_text[i]) == list:\n",
        "    ce_text[i] = ' '.join(ce_text[i])"
      ],
      "execution_count": null,
      "outputs": []
    },
    {
      "cell_type": "code",
      "metadata": {
        "id": "Hw5cCTYPbU78",
        "colab_type": "code",
        "colab": {}
      },
      "source": [
        "vectorizer = CountVectorizer()\n",
        "array_ce_WF = vectorizer.fit_transform(ce_text).toarray()\n",
        "#print(vectorizer.vocabulary_)\n",
        "print(vectorizer.get_feature_names())\n",
        "print(array_ce_WF)"
      ],
      "execution_count": null,
      "outputs": []
    },
    {
      "cell_type": "code",
      "metadata": {
        "colab_type": "code",
        "id": "Z6lIccabfH51",
        "colab": {}
      },
      "source": [
        "label = list(ce.sentiment)\n",
        "for i in range (len(label)):\n",
        "  if label[i] == 'Positive':\n",
        "    label[i] = 1\n",
        "  else:\n",
        "    label[i] = 0\n",
        "label = np.array(label)"
      ],
      "execution_count": null,
      "outputs": []
    },
    {
      "cell_type": "code",
      "metadata": {
        "id": "sVc_qmTdn98C",
        "colab_type": "code",
        "colab": {}
      },
      "source": [
        "# Split the train and test sets\n",
        "X_train_WF, X_test_WF, y_train_WF, y_test_WF = train_test_split(array_ce_WF, label, test_size=0.3, random_state=42)"
      ],
      "execution_count": null,
      "outputs": []
    },
    {
      "cell_type": "code",
      "metadata": {
        "id": "dlBPgFWagoSu",
        "colab_type": "code",
        "colab": {}
      },
      "source": [
        "# Predict the sentiment using the LR model\n",
        "clf2 = LogisticRegression(max_iter=10000,C=0.5).fit(X_train_WF,y_train_WF)\n",
        "print('Logistic Regression model accuracy on Canadian election is: {}%'.format(round(clf2.score(X_test_WF,y_test_WF)*100,3)))"
      ],
      "execution_count": null,
      "outputs": []
    },
    {
      "cell_type": "code",
      "metadata": {
        "id": "BnHuOf9Br-X8",
        "colab_type": "code",
        "colab": {}
      },
      "source": [
        "pred = clf2.predict(X_test_WF)"
      ],
      "execution_count": null,
      "outputs": []
    },
    {
      "cell_type": "markdown",
      "metadata": {
        "id": "VfcbSgYCb6Ec",
        "colab_type": "text"
      },
      "source": [
        "### Comment on the Result\n",
        "If we use the model on 2019 Canadian Election, it's can obtain a similar result (65.531%) comparing to sentiment. This implies logistic regression works well on sentiment alanysis universally. "
      ]
    },
    {
      "cell_type": "markdown",
      "metadata": {
        "id": "nZUZDh1EcSxx",
        "colab_type": "text"
      },
      "source": [
        "### 4.8 Predict the Sentiment on each Party"
      ]
    },
    {
      "cell_type": "code",
      "metadata": {
        "id": "NIAhT2fLfcuI",
        "colab_type": "code",
        "colab": {}
      },
      "source": [
        "# Add a column 'party' to the dataframe\n",
        "ce['party'] = party"
      ],
      "execution_count": null,
      "outputs": []
    },
    {
      "cell_type": "code",
      "metadata": {
        "id": "TqZM8aqYiA1_",
        "colab_type": "code",
        "colab": {}
      },
      "source": [
        "# Encoding the sentiment\n",
        "for i in range (len(ce.sentiment)):\n",
        "  if ce.sentiment[i] == 'Positive':\n",
        "    ce.sentiment[i] = 1\n",
        "  else:\n",
        "    ce.sentiment[i] = 0"
      ],
      "execution_count": null,
      "outputs": []
    },
    {
      "cell_type": "code",
      "metadata": {
        "id": "-piul5gTqYz_",
        "colab_type": "code",
        "colab": {}
      },
      "source": [
        "X_train, X_test, y_train, y_test = train_test_split(ce, label, test_size=0.3, random_state=42)"
      ],
      "execution_count": null,
      "outputs": []
    },
    {
      "cell_type": "code",
      "metadata": {
        "id": "PHJsuU9Ysm_w",
        "colab_type": "code",
        "colab": {}
      },
      "source": [
        "X_test['predicted_sentiment'] = pred"
      ],
      "execution_count": null,
      "outputs": []
    },
    {
      "cell_type": "code",
      "metadata": {
        "id": "6kuBCqN1hdSC",
        "colab_type": "code",
        "colab": {}
      },
      "source": [
        "lp = X_test.loc[X_test.party=='Liberal']\n",
        "lp_pos = len(lp.loc[lp.sentiment==1])\n",
        "lp_neg = len(lp.loc[lp.sentiment==0])"
      ],
      "execution_count": null,
      "outputs": []
    },
    {
      "cell_type": "code",
      "metadata": {
        "id": "xdcG8kjreCUb",
        "colab_type": "code",
        "colab": {}
      },
      "source": [
        "labels = ['Positive', 'Negative']\n",
        "sizes = [lp_pos/len(lp)*100,lp_neg/len(lp)*100]\n",
        "\n",
        "fig1, ax1 = plt.subplots()\n",
        "ax1.pie(sizes, labels=labels, autopct='%1.1f%%',\n",
        "        shadow=True, startangle=90)\n",
        "ax1.axis('equal')  # Equal aspect ratio ensures that pie is drawn as a circle.\n",
        "plt.legend()\n",
        "plt.title('Liberal Party Sentiment Percentage (Real)')\n",
        "\n",
        "plt.show()"
      ],
      "execution_count": null,
      "outputs": []
    },
    {
      "cell_type": "code",
      "metadata": {
        "id": "GVkuhylTf__o",
        "colab_type": "code",
        "colab": {}
      },
      "source": [
        "plt.hist(lp.sentiment)\n",
        "plt.xlabel('1 for positive, 0 for negative')\n",
        "plt.ylabel('Counts')\n",
        "plt.title('Liberal Party Sentiment Counts (Real)')"
      ],
      "execution_count": null,
      "outputs": []
    },
    {
      "cell_type": "code",
      "metadata": {
        "colab_type": "code",
        "id": "kmbXYVbLkyjS",
        "colab": {}
      },
      "source": [
        "lp = X_test.loc[X_test.party=='Liberal']\n",
        "lp_pos = len(lp.loc[lp.predicted_sentiment==1])\n",
        "lp_neg = len(lp.loc[lp.predicted_sentiment==0])"
      ],
      "execution_count": null,
      "outputs": []
    },
    {
      "cell_type": "code",
      "metadata": {
        "colab_type": "code",
        "id": "yHZxW2KakyjX",
        "colab": {}
      },
      "source": [
        "labels = ['Positive', 'Negative']\n",
        "sizes = [lp_pos/len(lp)*100,lp_neg/len(lp)*100]\n",
        "\n",
        "fig1, ax1 = plt.subplots()\n",
        "ax1.pie(sizes, labels=labels, autopct='%1.1f%%',\n",
        "        shadow=True, startangle=90)\n",
        "ax1.axis('equal')  # Equal aspect ratio ensures that pie is drawn as a circle.\n",
        "plt.legend()\n",
        "plt.title('Liberal Party Sentiment Percentage (Predicted)')\n",
        "\n",
        "plt.show()"
      ],
      "execution_count": null,
      "outputs": []
    },
    {
      "cell_type": "code",
      "metadata": {
        "colab_type": "code",
        "id": "9CCvfOm1kyjZ",
        "colab": {}
      },
      "source": [
        "plt.hist(lp.sentiment)\n",
        "plt.xlabel('1 for positive, 0 for negative')\n",
        "plt.ylabel('Counts')\n",
        "plt.title('Liberal Party Sentiment Counts (Predicted)')"
      ],
      "execution_count": null,
      "outputs": []
    },
    {
      "cell_type": "code",
      "metadata": {
        "id": "2nqUMGXIi0F1",
        "colab_type": "code",
        "colab": {}
      },
      "source": [
        "cpc = X_test.loc[X_test.party=='Conservative']\n",
        "cpc_pos = len(cpc.loc[cpc.sentiment==1])\n",
        "cpc_neg = len(cpc.loc[cpc.sentiment==0])"
      ],
      "execution_count": null,
      "outputs": []
    },
    {
      "cell_type": "code",
      "metadata": {
        "id": "_8KheB7jfaO7",
        "colab_type": "code",
        "colab": {}
      },
      "source": [
        "labels = ['Positive', 'Negative']\n",
        "sizes = [cpc_pos/len(cpc)*100,cpc_neg/len(cpc)*100]\n",
        "\n",
        "fig1, ax1 = plt.subplots()\n",
        "ax1.pie(sizes, labels=labels, autopct='%1.1f%%',\n",
        "        shadow=True, startangle=90)\n",
        "ax1.axis('equal')  # Equal aspect ratio ensures that pie is drawn as a circle.\n",
        "plt.legend()\n",
        "plt.title('Convervative Party Sentiment Percentage (Real)')\n",
        "\n",
        "plt.show()"
      ],
      "execution_count": null,
      "outputs": []
    },
    {
      "cell_type": "code",
      "metadata": {
        "id": "odVBMSjsjok7",
        "colab_type": "code",
        "colab": {}
      },
      "source": [
        "plt.hist(cpc.sentiment)\n",
        "plt.xlabel('1 for positive, 0 for negative')\n",
        "plt.ylabel('Counts')\n",
        "plt.title('Conservative Party Sentiment Counts (Real)')"
      ],
      "execution_count": null,
      "outputs": []
    },
    {
      "cell_type": "code",
      "metadata": {
        "colab_type": "code",
        "id": "9EEXwN5vla2a",
        "colab": {}
      },
      "source": [
        "cpc = X_test.loc[X_test.party=='Conservative']\n",
        "cpc_pos = len(cpc.loc[cpc.predicted_sentiment==1])\n",
        "cpc_neg = len(cpc.loc[cpc.predicted_sentiment==0])"
      ],
      "execution_count": null,
      "outputs": []
    },
    {
      "cell_type": "code",
      "metadata": {
        "colab_type": "code",
        "id": "G46NZXcpla2e",
        "colab": {}
      },
      "source": [
        "labels = ['Positive', 'Negative']\n",
        "sizes = [cpc_pos/len(cpc)*100,cpc_neg/len(cpc)*100]\n",
        "\n",
        "fig1, ax1 = plt.subplots()\n",
        "ax1.pie(sizes, labels=labels, autopct='%1.1f%%',\n",
        "        shadow=True, startangle=90)\n",
        "ax1.axis('equal')  # Equal aspect ratio ensures that pie is drawn as a circle.\n",
        "plt.legend()\n",
        "plt.title('Convervative Party Sentiment Percentage (Predicted)')\n",
        "\n",
        "plt.show()"
      ],
      "execution_count": null,
      "outputs": []
    },
    {
      "cell_type": "code",
      "metadata": {
        "colab_type": "code",
        "id": "IOWRkHCVla2g",
        "colab": {}
      },
      "source": [
        "plt.hist(cpc.sentiment)\n",
        "plt.xlabel('1 for positive, 0 for negative')\n",
        "plt.ylabel('Counts')\n",
        "plt.title('Conservative Party Sentiment Counts (Predicted)')"
      ],
      "execution_count": null,
      "outputs": []
    },
    {
      "cell_type": "code",
      "metadata": {
        "colab_type": "code",
        "id": "nBqzeEVSgTuB",
        "colab": {}
      },
      "source": [
        "NDP = X_test.loc[X_test.party=='NDP']\n",
        "NDP_pos = len(NDP.loc[NDP.sentiment==1])\n",
        "NDP_neg = len(NDP.loc[NDP.sentiment==0])"
      ],
      "execution_count": null,
      "outputs": []
    },
    {
      "cell_type": "code",
      "metadata": {
        "colab_type": "code",
        "id": "2LNx8T66gTuF",
        "colab": {}
      },
      "source": [
        "labels = ['Positive', 'Negative']\n",
        "sizes = [NDP_pos/len(NDP)*100,NDP_neg/len(NDP)*100]\n",
        "\n",
        "fig1, ax1 = plt.subplots()\n",
        "ax1.pie(sizes, labels=labels, autopct='%1.1f%%',\n",
        "        shadow=True, startangle=90)\n",
        "ax1.axis('equal')  # Equal aspect ratio ensures that pie is drawn as a circle.\n",
        "plt.legend()\n",
        "plt.title('NDP Sentiment Percentage')\n",
        "\n",
        "plt.show()"
      ],
      "execution_count": null,
      "outputs": []
    },
    {
      "cell_type": "code",
      "metadata": {
        "colab_type": "code",
        "id": "WbZNvuvqgTuH",
        "colab": {}
      },
      "source": [
        "plt.hist(NDP.sentiment)\n",
        "plt.xlabel('1 for positive, 0 for negative')\n",
        "plt.ylabel('Counts')\n",
        "plt.title('NDP Sentiment Counts')"
      ],
      "execution_count": null,
      "outputs": []
    },
    {
      "cell_type": "code",
      "metadata": {
        "colab_type": "code",
        "id": "PkkNZApPm3gs",
        "colab": {}
      },
      "source": [
        "NDP = X_test.loc[X_test.party=='NDP']\n",
        "NDP_pos = len(NDP.loc[NDP.predicted_sentiment==1])\n",
        "NDP_neg = len(NDP.loc[NDP.predicted_sentiment==0])"
      ],
      "execution_count": null,
      "outputs": []
    },
    {
      "cell_type": "code",
      "metadata": {
        "colab_type": "code",
        "id": "UcvmtxZsm3gv",
        "colab": {}
      },
      "source": [
        "labels = ['Positive', 'Negative']\n",
        "sizes = [NDP_pos/len(NDP)*100,NDP_neg/len(NDP)*100]\n",
        "\n",
        "fig1, ax1 = plt.subplots()\n",
        "ax1.pie(sizes, labels=labels, autopct='%1.1f%%',\n",
        "        shadow=True, startangle=90)\n",
        "ax1.axis('equal')  # Equal aspect ratio ensures that pie is drawn as a circle.\n",
        "plt.legend()\n",
        "plt.title('NDP Sentiment Percentage (Predicted)')\n",
        "\n",
        "plt.show()"
      ],
      "execution_count": null,
      "outputs": []
    },
    {
      "cell_type": "code",
      "metadata": {
        "colab_type": "code",
        "id": "EQz1WSPmm3gy",
        "colab": {}
      },
      "source": [
        "plt.hist(NDP.sentiment)\n",
        "plt.xlabel('1 for positive, 0 for negative')\n",
        "plt.ylabel('Counts')\n",
        "plt.title('NDP Sentiment Counts (Predicted)')"
      ],
      "execution_count": null,
      "outputs": []
    },
    {
      "cell_type": "markdown",
      "metadata": {
        "id": "UYVe8i_khl9k",
        "colab_type": "text"
      },
      "source": [
        "### Comment on the Result\n",
        "The Liberal party won in 2019. It has nearly 50% positive rate which is much higher comparing to CPC (29.7%). Although NDP has a very high positive rate (66.5%), it's positive counts is much less than Liberal. As a result, Liberal Party won the election. If we compare the predicted figures vs real figures, we can see they are quite similar. Regardless of accuracy, the predicted total number of positive and negative are close enough to reality. Therefore NLP analysis based on tweets is very useful for political parties. "
      ]
    },
    {
      "cell_type": "markdown",
      "metadata": {
        "id": "fd3aQci-kYc6",
        "colab_type": "text"
      },
      "source": [
        "### 4.9 Predict Negative Reason\n",
        "Combine Women Reprodictive right and Racism AND Separation, Scandal AND Tell lies, Healthcare AND Healthcare and Marijuana. Theese group are talking about similar things. "
      ]
    },
    {
      "cell_type": "code",
      "metadata": {
        "id": "2nhsXlWbj72X",
        "colab_type": "code",
        "colab": {}
      },
      "source": [
        "ng = ce.loc[ce.sentiment==0]"
      ],
      "execution_count": null,
      "outputs": []
    },
    {
      "cell_type": "code",
      "metadata": {
        "id": "DVlpFTlAkgWv",
        "colab_type": "code",
        "colab": {}
      },
      "source": [
        "ng.negative_reason.unique()"
      ],
      "execution_count": null,
      "outputs": []
    },
    {
      "cell_type": "code",
      "metadata": {
        "id": "aEabS_FjmO2P",
        "colab_type": "code",
        "colab": {}
      },
      "source": [
        "ng.index"
      ],
      "execution_count": null,
      "outputs": []
    },
    {
      "cell_type": "code",
      "metadata": {
        "id": "_G6-woM_kg6D",
        "colab_type": "code",
        "colab": {}
      },
      "source": [
        "for i in ng.index:\n",
        "  if ng.negative_reason[i] == 'Women Reproductive right and Racism' or ng.negative_reason[i] == 'Separation':\n",
        "    ng.negative_reason[i] = 0\n",
        "  elif ng.negative_reason[i] == 'Scandal' or ng.negative_reason[i] == 'Tell lies':\n",
        "    ng.negative_reason[i] = 1\n",
        "  elif ng.negative_reason[i] == 'Healthcare' or ng.negative_reason[i] == 'Healthcare and Marijuana':\n",
        "    ng.negative_reason[i] = 2\n",
        "  elif ng.negative_reason[i] == 'Economy':\n",
        "    ng.negative_reason[i] = 3\n",
        "  elif ng.negative_reason[i] == 'Privilege':\n",
        "    ng.negative_reason[i] = 4\n",
        "  elif ng.negative_reason[i] == 'Climate Problem':\n",
        "    ng.negative_reason[i] = 5\n",
        "  elif ng.negative_reason[i] == 'Others':\n",
        "    ng.negative_reason[i] = 6"
      ],
      "execution_count": null,
      "outputs": []
    },
    {
      "cell_type": "code",
      "metadata": {
        "colab_type": "code",
        "id": "CUbwssGhKCZ4",
        "colab": {}
      },
      "source": [
        "ng_text = list(ng.text)"
      ],
      "execution_count": null,
      "outputs": []
    },
    {
      "cell_type": "code",
      "metadata": {
        "colab_type": "code",
        "id": "2eKWj_7mKCZ9",
        "colab": {}
      },
      "source": [
        "for i in range (len(ng_text)):\n",
        "  if type(ng_text[i]) == list:\n",
        "    ng_text[i] = ' '.join(ng_text[i])"
      ],
      "execution_count": null,
      "outputs": []
    },
    {
      "cell_type": "code",
      "metadata": {
        "colab_type": "code",
        "id": "UGirB21KKCaA",
        "colab": {}
      },
      "source": [
        "vectorizer = CountVectorizer()\n",
        "array_ng_WF = vectorizer.fit_transform(ng_text).toarray()\n",
        "#print(vectorizer.vocabulary_)\n",
        "print(vectorizer.get_feature_names())\n",
        "print(array_ng_WF)"
      ],
      "execution_count": null,
      "outputs": []
    },
    {
      "cell_type": "code",
      "metadata": {
        "colab_type": "code",
        "id": "SMx0TdMiKCaE",
        "colab": {}
      },
      "source": [
        "reason = list(ng.negative_reason)"
      ],
      "execution_count": null,
      "outputs": []
    },
    {
      "cell_type": "code",
      "metadata": {
        "colab_type": "code",
        "id": "cHY0YCPJKCaG",
        "colab": {}
      },
      "source": [
        "X_train_WF, X_test_WF, y_train_WF, y_test_WF = train_test_split(array_ng_WF, reason, test_size=0.3, random_state=42)"
      ],
      "execution_count": null,
      "outputs": []
    },
    {
      "cell_type": "code",
      "metadata": {
        "id": "gs2lYjjsKZRs",
        "colab_type": "code",
        "colab": {}
      },
      "source": [
        "mlr = LogisticRegression(max_iter=10000).fit(X_train_WF,y_train_WF)"
      ],
      "execution_count": null,
      "outputs": []
    },
    {
      "cell_type": "code",
      "metadata": {
        "id": "ZMFtvu72KaMP",
        "colab_type": "code",
        "colab": {}
      },
      "source": [
        "# Result of Logistic Regression on predicting reasons\n",
        "pred_mlr = mlr.predict(X_test_WF)\n",
        "accuracy_score(y_test_WF,pred_mlr)"
      ],
      "execution_count": null,
      "outputs": []
    },
    {
      "cell_type": "code",
      "metadata": {
        "id": "ABZ_gf6-LQYs",
        "colab_type": "code",
        "colab": {}
      },
      "source": [
        "knn = KNeighborsClassifier().fit(X_train_WF,y_train_WF)"
      ],
      "execution_count": null,
      "outputs": []
    },
    {
      "cell_type": "code",
      "metadata": {
        "id": "fMXjX3vyLwU1",
        "colab_type": "code",
        "colab": {}
      },
      "source": [
        "# Result of KNN on predicting reasons\n",
        "pred_knn = knn.predict(X_test_WF)\n",
        "accuracy_score(pred_knn,y_test_WF)"
      ],
      "execution_count": null,
      "outputs": []
    },
    {
      "cell_type": "code",
      "metadata": {
        "id": "NYx_gGnEL1i_",
        "colab_type": "code",
        "colab": {}
      },
      "source": [
        "svm = SVC().fit(X_train_WF,y_train_WF)"
      ],
      "execution_count": null,
      "outputs": []
    },
    {
      "cell_type": "code",
      "metadata": {
        "id": "tbu8tW9qL7hJ",
        "colab_type": "code",
        "colab": {}
      },
      "source": [
        "# Result of SVM on predicting reasons\n",
        "pred_svm = svm.predict(X_test_WF)\n",
        "accuracy_score(pred_svm,y_test_WF)"
      ],
      "execution_count": null,
      "outputs": []
    },
    {
      "cell_type": "markdown",
      "metadata": {
        "id": "KKmIMX-G4nMe",
        "colab_type": "text"
      },
      "source": [
        "# 5.0 Discussion\n",
        "The first model has an accuracy of 65.3% on predicting sentiment. However, when we use sentiment analysis on political election, we care more on the total number of positive/negative rather than predicting every example correctly. The Liberal party won in 2019. It has nearly 50% positive rate which is much higher comparing to CPC (29.7%). Although NDP has a very high positive rate (66.5%), it's positive counts is much less than Liberal. As a result, Liberal Party won the election. If we compare the predicted figures vs real figures, we can see they are quite similar. Regardless of accuracy, the predicted total number of positive and negative are close enough to reality. Therefore NLP analysis based on tweets is very useful for political parties. \n",
        "The best algorithm for second model is also Logistic Regression (accuracy = 60.9%). The accuracy is lower than sentiment analysis due to the fact of multiclass prediction. Reason prediction has 7 different labels while sentiment only has 2. The below are examples of negative reasons: there are identical terms in the text but they are labeled as different reasons. This may account for the failure to predict negative reasons. \n",
        "To improve the accuracy of both model, we should firstly increase the data size. Due to the limitation of computing power, we used only 2000 examples to train the model， which is not enough. In terms of algorithm, we could tokenize the text phrase-wisely instead of word-wisely (what we did here). For example, if a phrase like 'not good' appears in the text which are obviously negative sign. If we do word-wise tokenization it will become 'not', 'good' and 'not' will be deleted by stop words. As a result, the text with 'good' has a negative label and this is not what we want. If we condider phrase-wise tokenization, 'not good' will be accurately assigned to negative sentiment. The appropriate combination of word-wise and phrase-wise tokenization will help to improve the accuracy of both models. "
      ]
    },
    {
      "cell_type": "code",
      "metadata": {
        "id": "CUNSoxweMDU_",
        "colab_type": "code",
        "colab": {}
      },
      "source": [
        "print(list(X_test.loc[X_test.sentiment==0].text)[3])\n",
        "print(list(X_test.loc[X_test.sentiment==0].negative_reason)[3])"
      ],
      "execution_count": null,
      "outputs": []
    },
    {
      "cell_type": "code",
      "metadata": {
        "id": "oZONv5gd8-KR",
        "colab_type": "code",
        "colab": {}
      },
      "source": [
        "print(list(X_test.loc[X_test.sentiment==0].text)[40])\n",
        "print(list(X_test.loc[X_test.sentiment==0].negative_reason)[40])"
      ],
      "execution_count": null,
      "outputs": []
    },
    {
      "cell_type": "code",
      "metadata": {
        "id": "ebV-t7pg9yup",
        "colab_type": "code",
        "colab": {}
      },
      "source": [
        ""
      ],
      "execution_count": null,
      "outputs": []
    }
  ]
}